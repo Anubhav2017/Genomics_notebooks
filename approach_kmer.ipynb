{
  "cells": [
    {
      "cell_type": "markdown",
      "metadata": {
        "colab_type": "text",
        "id": "view-in-github"
      },
      "source": [
        "<a href=\"https://colab.research.google.com/github/Anubhav2017/Genomics_notebooks/blob/main/approach_kmer.ipynb\" target=\"_parent\"><img src=\"https://colab.research.google.com/assets/colab-badge.svg\" alt=\"Open In Colab\"/></a>"
      ]
    },
    {
      "cell_type": "code",
      "execution_count": 1,
      "metadata": {
        "id": "8XyizGGzTgCp"
      },
      "outputs": [],
      "source": [
        "import numpy as np\n",
        "import tensorflow as tf\n",
        "from tensorflow.keras.models import Sequential\n",
        "from tensorflow.keras.layers import Dense, Dropout, Flatten, Conv1D, MaxPooling1D,Reshape, LSTM, Dropout, TimeDistributed\n",
        "from tensorflow.keras.callbacks import EarlyStopping\n",
        "from sklearn.feature_extraction.text import CountVectorizer\n",
        "\n",
        "\n",
        "from sklearn.utils import shuffle\n",
        "\n",
        "bases={'A':np.array([0,0,0,1]), 'C':np.array([0,0,1,0]), 'G':np.array([0,1,0,0]), 'T':np.array([1,0,0,0])}\n",
        "\n",
        "def Kmers_funct(seq, size):\n",
        "    return [seq[x:x+size].lower() for x in range(len(seq) - size + 1)]\n",
        "\n",
        "def one_hot_encode_2(y,num_classes):\n",
        "    y_encoded=[]\n",
        "    for value in y:\n",
        "\t    letter = [0 for _ in range(num_classes)]\n",
        "\t    letter[value] = 1\n",
        "\t    y_encoded.append(letter)\n",
        "    return np.array(y_encoded,dtype=np.float16)\n",
        "\n"
      ]
    },
    {
      "cell_type": "code",
      "execution_count": 2,
      "metadata": {
        "id": "N2A8S8tGTgCr"
      },
      "outputs": [],
      "source": [
        "import random\n",
        "\n",
        "def selectref(el,pa,pc,pg,pt):\n",
        "\n",
        "  dicref={'U':['T'],\n",
        "  'R':['A','G'],\n",
        "  'Y':['C','T'],\n",
        "  'S':['G','C'],\n",
        "  'W':['A','T'],\n",
        "  'K':['G','T'],\n",
        "  'M':['A','C'],\n",
        "  'B':['C','G','T'],\n",
        "  'D':['A','G','T'],\n",
        "  'H':['A','C','T'],\n",
        "  'V':['A','C','G'],\n",
        "  'N':['A','T','G','C'],\n",
        "  }\n",
        "\n",
        "  dicprobs={'U':[1],\n",
        "  'R':[pa/(pa+pg),pg/(pa+pg)],\n",
        "  'Y':[pc/(pc+pt),pt/(pc+pt)],\n",
        "  'S':[pg/(pc+pg),pc/(pc+pg)],\n",
        "  'W':[pa/(pa+pt),pt/(pa+pt)],\n",
        "  'K':[pg/(pt+pg),pt/(pt+pg)],\n",
        "  'M':[pa/(pa+pc),pc/(pa+pc)],\n",
        "  'B':[pc/(pc+pg+pt),pg/(pc+pg+pt),pt/(pc+pg+pt)],\n",
        "  'D':[pa/(pa+pg+pt),pg/(pa+pg+pt),pt/(pa+pg+pt)],\n",
        "  'H':[pa/(pc+pa+pt),pc/(pc+pa+pt),pt/(pc+pa+pt)],\n",
        "  'V':[pa/(pc+pg+pa),pc/(pc+pg+pa),pg/(pc+pg+pa)],\n",
        "  'N':[pa/(pc+pg+pa+pt),pt/(pc+pg+pa+pt),pg/(pc+pg+pa+pt),pc/(pc+pg+pa+pt)]}\n",
        "\n",
        "  # print(dicprobs[el])\n",
        "  \n",
        "  return np.random.choice(dicref[el],p=dicprobs[el])\n",
        "  # return np.random.choice(dicref[el],p=dicprobs[el])\n",
        "\n",
        "\n",
        "\n"
      ]
    },
    {
      "cell_type": "code",
      "execution_count": null,
      "metadata": {
        "colab": {
          "base_uri": "https://localhost:8080/"
        },
        "id": "Joff9qRRkLgw",
        "outputId": "8c8dc9d8-bff7-467e-bdc3-569d2bb9ff26"
      },
      "outputs": [],
      "source": [
        "# from google.colab import drive\n",
        "# drive.mount('/content/drive')\n",
        "# !pip install BioPython"
      ]
    },
    {
      "cell_type": "code",
      "execution_count": 3,
      "metadata": {
        "colab": {
          "base_uri": "https://localhost:8080/"
        },
        "id": "GLq765UoTgCs",
        "outputId": "724ca0d8-df4c-4de5-b85e-19639e903bf0"
      },
      "outputs": [
        {
          "name": "stdout",
          "output_type": "stream",
          "text": [
            "(24855, 4096)\n"
          ]
        }
      ],
      "source": [
        "from Bio import SeqIO\n",
        "from sklearn.feature_extraction.text import CountVectorizer\n",
        "cv = CountVectorizer()\n",
        "\n",
        "unique_elems=dict()\n",
        "\n",
        "all_sequences=[]\n",
        "\n",
        "for sequence in SeqIO.parse('ncbi_16s_18s_merged.fasta', \"fasta\"):\n",
        "    unique_elems[sequence.description.split()[1]]=0\n",
        "    seq=\"\"\n",
        "\n",
        "    base_count=dict()\n",
        "    base_count['A']=0\n",
        "    base_count['C']=0\n",
        "    base_count['G']=0\n",
        "    base_count['T']=0\n",
        "    base_count['others']=0\n",
        "\n",
        "    for el in sequence.seq:\n",
        "      if el not in base_count.keys():\n",
        "\n",
        "        base_count['others']+=1\n",
        "      else:\n",
        "        base_count[el]+=1\n",
        "    \n",
        "    na=base_count['A']\n",
        "    nc=base_count['C']\n",
        "    ng=base_count['G']\n",
        "    nt=base_count['T']\n",
        "\n",
        "    pa=float(na/(na+nc+ng+nt))\n",
        "    pc=float(nc/(na+nc+ng+nt))\n",
        "    pg=float(ng/(na+nc+ng+nt))\n",
        "    pt=float(nt/(na+nc+ng+nt))\n",
        "\n",
        "    \n",
        "    for el in sequence.seq:\n",
        "      if el not in base_count.keys():\n",
        "\n",
        "        seq += (selectref(el,pa,pc,pg,pt))\n",
        "      else:\n",
        "        seq+=el\n",
        "    \n",
        "    words = Kmers_funct(seq, size=6)\n",
        "    joined_sentence = ' '.join(words)\n",
        "    all_sequences.append(joined_sentence)\n",
        "\n",
        "X=cv.fit_transform(all_sequences).toarray()\n",
        "\n",
        "print(X.shape)\n",
        "\n",
        "\n",
        "\n",
        "    \n",
        "    \n",
        "\n",
        "    "
      ]
    },
    {
      "cell_type": "code",
      "execution_count": 8,
      "metadata": {},
      "outputs": [
        {
          "name": "stdout",
          "output_type": "stream",
          "text": [
            "dict_keys(['Natrialba', 'Halobellus', 'Halorubrum', 'Haloterrigena', 'Halalkalicoccus', 'Methanolobus', 'Saccharolobus', 'Nitrosopumilus', 'Haloplanus', 'Salinirussus', 'Natronoarchaeum', 'Salinarchaeum', 'Natrinema', 'Sulfodiicoccus', 'Pyrobaculum', 'Halomarina', 'Halobaculum', 'Halobium', 'Haloprofundus', 'Haloparvum', 'Halopiger', 'Methanomicrobium', 'Pyrodictium', 'Salinigranum', 'Haloferax', 'Halostella', 'Halodesulfurarchaeum', 'Thermococcus', 'Methanosarcina', 'Thermogladius', 'Halosiccatus', 'Halopenitus', 'Salinirubrum', 'Haloarchaeobius', 'Halanaeroarchaeum', 'Halorussus', 'Halolamina', 'Halorhabdus', 'Thermofilum', 'Halosimplex', 'Halarchaeum', 'Halorientalis', 'Methanocalculus', 'Methanosalsum', 'Halovenus', 'Thermoproteus', 'Halovarius', 'Methanoculleus', 'Methanobacterium', 'Methanocaldococcus', 'Halostagnicola', 'Halobacterium', 'Methanospirillum', 'Methanomethylovorans', 'Methanococcoides', 'Halomicroarcula', 'Caldivirga', 'Halapricum', 'Halovivax', 'Archaeoglobus', 'Methanohalophilus', 'Halococcus', 'Pyrolobus', 'Methanobrevibacter', 'Halomicrobium', 'Methanocella', 'Natronomonas', 'Halohasta', 'Palaeococcus', 'Natronorubrum', 'Methanothermobacter', 'Halorubellus', 'Halogeometricum', 'Haloquadratum', 'Halonotius', 'Halogranum', 'Metallosphaera', 'Haloarcula', 'Geoglobus', 'Haladaptatus', 'Halopelagius', 'Pyrococcus', 'Desulfurococcus', 'Fervidicoccus', 'Caldisphaera', 'Acidilobus', 'Methanogenium', 'Methanosphaera', 'Methanimicrococcus', 'Sulfolobus', 'Methanofollis', 'Methanocorpusculum', 'Methanoregula', 'Salarchaeum', 'Methanolinea', 'Methanotorris', 'Methanococcus', 'Methanothermococcus', 'Methanothrix', 'Natronobacterium', 'Ignicoccus', 'Methanopyrus', 'Sulfurisphaera', 'Stetteria', 'Thermosphaera', 'Thermodiscus', 'Methanosphaerula', 'Natronococcus', 'Ignisphaera', 'Aeropyrum', 'Vulcanisaeta', 'Thermocladium', 'Methermicoccus', 'Methanosaeta', 'Acidianus', 'Methanoplanus', 'Natronolimnobius', 'Saliphagus', 'Cuniculiplasma', 'Nitrososphaera', 'Ferroglobus', 'Hyperthermus', 'Stygiolobus', 'Methanolacinia', 'Methanomassiliicoccus', 'Ferroplasma', 'Acidiplasma', 'Thermoplasma', 'Halobiforma', 'Methanothermus', 'Methanohalobium', 'Picrophilus', 'Staphylothermus', 'Thermogymnomonas', 'Sulfophobococcus', 'Kocuria', 'Marmoricola', 'Paracoccus', 'Cohnella', 'Gardnerella', 'Falsochrobactrum', 'Sphingomonas', 'Taibaiella', 'Chitinophaga', 'Streptomyces', 'Xinfangfangia', 'Pelagibacterium', 'Bacillus', 'Paenibacillus', 'Massilia', 'Microvirga', 'Muricauda', 'Novosphingobium', 'Trinickia', 'Pseudomonas', 'Pararhodobacter', 'Mycetocola', 'Salinibacterium', 'Legionella', 'Marinimicrobium', 'Hymenobacter', 'Brenneria', 'Vibrio', 'Marinilabilia', 'Jiangella', 'Falsibacillus', 'Mesorhizobium', 'Nonomuraea', 'Nocardia', 'Motilimonas', 'Streptococcus', 'Glaciecola', 'Jannaschia', 'Photobacterium', 'Clostridium', 'Bosea', 'Martelella', 'Tamlana', 'Marinobacter', 'Aquiflexum', 'Coraliomargarita', 'Flavobacterium', 'Devosia', 'Paraliobacillus', 'Nocardioides', 'Flavisolibacter', 'Zavarzinia', 'Lysobacter', 'Pusillimonas', 'Flavipsychrobacter', 'Stenotrophobium', 'Microbacterium', 'Trichococcus', 'Anaerobacillus', 'Lactobacillus', 'Gordonia', 'Thermocatellispora', 'Azoarcus', 'Rufibacter', 'Dyella', 'Phenylobacterium', 'Marinobacterium', 'Brevundimonas', 'Blautia', 'Microbulbifer', 'Planomicrobium', 'Paraburkholderia', 'Roseovarius', 'Corynebacterium', 'Rhizobium', 'Zhongshania', 'Kistimonas', 'Mycoplasma', 'Chryseobacterium', 'Micromonospora', 'Sphingobacterium', 'Actinomarinicola', 'Amnibacterium', 'Alteromonas', 'Alteripontixanthobacter', 'Dyadobacter', 'Tsuneonella', 'Aurantiacibacter', 'Pelagerythrobacter', 'Alsobacter', 'Aliidiomarina', 'Actinomadura', 'Klebsiella', 'Acinetobacter', 'Kribbella', 'Pseudoarcobacter', \"'Massilia\", 'Janthinobacterium', 'Duganella', 'Pandoraea', 'Shimia', 'Empedobacter', 'Amphritea', 'Duncaniella', 'Steroidobacter', 'Alloscardovia', 'Ancylomarina', 'Amycolatopsis', 'Weissella', 'Arenimonas', 'Apibacter', 'Borrelia', 'Filimonas', 'Entomomonas', 'Vulcaniibacterium', 'Thalassocella', 'Sphingobium', 'Sinirhodobacter', 'Saccharospirillum', 'Rhodomicrobium', 'Rheinheimera', 'Natronospirillum', 'Mixta', 'Marinomonas', 'Luteimonas', 'Hydrogenophaga', 'Halomonas', 'Gryllotalpicola', 'Flexivirga', 'Cryobacterium', 'Azospirillum', 'Allorhizobium', 'Marinicella', 'Oleiliquidispirillum', 'Chitinimonas', 'Exilibacterium', 'Denitrobaculum', 'Francisella', 'Desulfobotulus', 'Sphingorhabdus', 'Eikenella', 'Ruegeria', 'Citrobacter', 'Oleiharenicola', 'Maribacter', 'Aequorivita', 'Lutibacter', 'Modestobacter', 'Acidiferrimicrobium', 'Leekyejoonella', 'Catellatospora', 'Rhodococcus', 'Saccharopolyspora', 'Auraticoccus', 'Glycomyces', 'Cellulomonas', 'Arthrobacter', 'Erysipelothrix', 'Pseudidiomarina', 'Serinicoccus', 'Halarcobacter', 'Lacisediminihabitans', 'Antribacter', 'Limnoglobus', 'Croceicoccus', 'Vogesella', 'Sulfurimonas', 'Labilibacter', 'Lampropedia', 'Lactococcus', 'Cumulibacter', 'Marimonas', 'Lichenihabitans', 'Pedobacter', 'Parashewanella', 'Sulfitobacter', 'Kosakonia', 'Deinococcus', 'Tateyamaria', 'Cochleicola', 'Thermus', 'Serratia', 'Chelatococcus', 'Bradyrhizobium', 'Tepidibaculum', 'Natronotalea', 'Parasedimentitalea', 'Rhodoferax', 'Shewanella', 'Petrotoga', 'Jejuia', 'Brevibacterium', 'Aeromicrobium', 'Mangrovimonas', 'Aurantibacter', 'Lacinutrix', 'Spirosoma', 'Gracilibacillus', 'Fictibacillus', 'Rhodobacter', 'Caballeronia', 'Marinactinospora', 'Endozoicomonas', 'Blastococcus', 'Williamsia', 'Gelidibacter', 'Neptunomonas', 'Amniculibacterium', 'Blastochloris', 'Methylobacterium', 'Glutamicibacter', 'Mucilaginibacter', 'Fibrisoma', 'Fluviicola', 'Gemmobacter', 'Oceanobacillus', 'Seohaeicola', 'Comamonas', 'Planifilum', 'Leucobacter', 'Aneurinibacillus', 'Altererythrobacter', 'Virgibacillus', 'Spirillospora', 'Oceanisphaera', 'Ochrobactrum', 'Extensimonas', 'Anaerococcus', 'Butyricimonas', 'Variovorax', 'Flavihumibacter', 'Parahaliea', 'Sutterella', 'Actinopolyspora', 'Caldimonas', 'Roseomonas', 'Mycobacterium', 'Flaviflagellibacter', 'Litorilituus', 'Lichenibacterium', 'Rubinisphaera', 'Rhodopirellula', 'Alienimonas', 'Rubripirellula', 'Corallincola', 'Simplicispira', 'Crateriforma', 'Bremerella', 'Hankyongella', 'Peptoniphilus', 'Fluviibacterium', 'Brachybacterium', 'Pseudonocardia', 'Glycocaulis', 'Erythrobacter', 'Hyphomonas', 'Blastopirellula', 'Tardibacter', 'Pelagivirga', 'Lacisediminimonas', 'Microlunatus', 'Idiomarina', 'Cellulophaga', 'Cellulosimicrobium', 'Corallibacterium', 'Agromyces', 'Mesoflavibacter', 'Confluentibacter', 'Coralloluteibacterium', 'Nitropelagius', 'Loktanella', 'Ornithinimicrobium', 'Amnimonas', 'Tepidicella', 'Prevotella', 'Aureibaculum', 'Lachnoanaerobaculum', 'Lautropia', 'Pontibacter', 'Pararcticibacter', 'Aureimonas', 'Edaphocola', 'Flagellimonas', 'Geomonas', 'Anaerotignum', 'Brevibacillus', 'Winogradskyella', 'Hahyoungchilella', 'Fulvimarina', 'Lysinibacillus', 'Edaphovirga', 'Intestinibaculum', 'Mucibacter', 'Chryseolinea', 'Gramella', 'Zunongwangia', 'Parabacteroides', 'Aestuariibaculum', 'Burkholderia', 'Pseudaminobacter', 'Ensifer', 'Viridibacterium', 'Achromobacter', 'Siphonobacter', 'Calculibacillus', 'Abyssisolibacter', 'Capnocytophaga', 'Salicibibacter', 'Buchnera', 'Aquirufa', 'Hwanghaeella', 'Paenimaribius', 'Alginatibacterium', 'Longirhabdus', 'Desertihabitans', 'Galactobacter', 'Maribellus', 'Sphingosinithalassobacter', 'Lujinxingia', 'Pseudomethylobacillus', 'Schaedlerella', 'Paracnuella', 'Aquisediminimonas', 'Pseudogemmobacter', 'Chakrabartia', 'Indiicoccus', 'Gandjariella', 'Pseudopuniceibacterium', 'Neptunicoccus', 'Ferruginivarius', 'Corticimicrobacter', 'Kineobactrum', 'Croceibacterium', 'Acidimangrovimonas', 'Marinitenerispora', 'Allopseudarcicella', 'Rubellimicrobium', 'Ilyomonas', 'Flavivirga', 'Ottowia', 'Algoriphagus', 'Jiella', 'Aestuariisphingobium', 'Methylopila', 'Nonlabens', 'Runella', 'Janibacter', 'Tellurirhabdus', 'Neisseria', 'Dysgonomonas', 'Notoacmeibacter', 'Pseudofrancisella', 'Wenzhouxiangella', 'Lottiidibacillus', 'Nevskia', 'Phyllobacterium', 'Lentzea', 'Cupriavidus', 'Desertiactinospora', 'Sphaerimonospora', 'Actinomycetospora', 'Flavitalea', 'Marinicaulis', 'Edaphorhabdus', 'Thalassorhabdus', 'Saccharothrix', 'Scopulibacillus', 'Promicromonospora', 'Acidovorax', 'Hoeflea', 'Ascidiaceibacter', 'Ponticaulis', 'Lentibacillus', 'Thauera', 'Robiginitalea', 'Aidingibacillus', 'Proteinivorax', 'Verrucosispora', 'Terrimonas', 'Skermanella', 'Dulcicalothrix', 'Hydrocarboniclastica', 'Aliishimia', 'Fudania', 'Acidibrevibacterium', 'Bifidobacterium', 'Thalassospira', 'Heliorestis', 'Chachezhania', 'Petrocella', 'Ketobacter', 'Criibacterium', 'Sedimentisphaera', 'Crenobacter', 'Prauserella', 'Moorella', 'Proteus', 'Aestuariibius', 'Pseudomaribius', 'Thalassotalea', 'Herbaspirillum', 'Parvibium', 'Rubritalea', 'Edaphobacter', 'Roseisolibacter', 'Methylomusa', 'Marinicrinis', 'Aestuariimonas', 'Bizionia', 'Adhaeribacter', 'Aquimarina', 'Stackebrandtia', 'Georgenia', 'Frankia', 'Tessaracoccus', 'Actinorectispora', 'Thaumasiovibrio', 'Nemorincola', 'Arcobacter', 'Salinisphaera', 'Veillonella', 'Raineya', 'Parolsenella', 'Jatrophihabitans', 'Profundimonas', 'Thermosyntropha', 'Desulfosarcina', 'Polyangium', 'Orrella', 'Pectobacterium', 'Defluviimonas', 'Uliginosibacterium', 'Halioglobus', 'Sandarakinorhabdus', 'Nannocystis', 'Desulfovibrio', 'Desulfothermobacter', 'Proteiniborus', 'Ornithinibacillus', 'Xylanibacillus', 'Dokdonia', 'Euzebyella', 'Arenibacter', 'Longivirga', 'Tsukamurella', 'Actinotalea', 'Epidermidibacterium', 'Colwellia', 'Marivivens', 'Niveispirillum', 'Planococcus', 'Polaribacter', 'Larkinella', 'Marinirhabdus', 'Thermostaphylospora', 'Litoribrevibacter', 'Ferrovibrio', 'Pseudooceanicola', 'Sphingopyxis', 'Fastidiosibacter', 'Stakelama', 'Albirhodobacter', 'Mitsuaria', 'Melaminivora', 'Pseudogracilibacillus', 'Salibacterium', 'Vicingus', 'Antarcticibacterium', 'Tenacibaculum', 'Herbidospora', 'Actinoplanes', 'Pseudoduganella', 'Nioella', 'Mangrovitalea', 'Nitrincola', 'Rhodosalinus', 'Undibacterium', 'Polynucleobacter', 'Actibacterium', 'Paraferrimonas', 'Aurantimonas', 'Rhodoplanes', 'Desulfonatronum', 'Franconibacter', 'Oceaniglobus', 'Tuwongella', 'Enterococcus', 'Ravibacter', 'Rurimicrobium', 'Soonwooa', 'Changchengzhania', 'Frondibacter', 'Siccirubricoccus', 'Oceanibaculum', 'Psychrosphaera', 'Planktotalea', 'Acidocella', 'Paraglaciecola', 'Salsuginimonas', 'Quisquiliibacterium', 'Ciceribacter', 'Ramlibacter', 'Gellertiella', 'Phaeobacter', 'Ancylobacter', 'Wohlfahrtiimonas', 'Ponticoccus', 'Aridibacter', 'Aeribacillus', 'Anoxynatronum', 'Caecibacterium', 'Rhabdanaerobium', 'Salirhabdus', 'Psychrobacillus', 'Desertibacillus', 'Seonamhaeicola', 'Sabulilitoribacter', 'Kordia', 'Parapedobacter', 'Sediminibacterium', 'Puia', 'Edaphobaculum', 'Bacteroides', 'Pleomorphomonas', 'Plantactinospora', 'Planctopirus', 'Novimethylophilus', 'Aquincola', 'Ezakiella', 'Aquicoccus', 'Amylibacter', 'Aestuariicoccus', 'Elstera', 'Marivibrio', 'Hyphococcus', 'Catenovulum', 'Parasphingopyxis', 'Agaribacterium', 'Limibaculum', 'Pontibacterium', 'Agarilytica', 'Oryzisolibacter', 'Petrothermobacter', 'Luteolibacter', 'Marispirochaeta', 'Chryseomicrobium', 'Paludicola', 'Paralkalibacillus', 'Croceitalea', 'Flavimarina', 'Longimonas', 'Williamwhitmania', 'Salinimicrobium', 'Crocinitomix', 'Geofilum', 'Croceivirga', 'Longispora', 'Salinifilum', 'Nesterenkonia', 'Oryzihumus', '[Mycobacterium]', 'Pseudokineococcus', 'Aliinostoc', 'Xanthomonas', 'Pacificibacter', 'Cellvibrio', 'Lewinella', 'Rubrobacter', 'Tundrisphaera', 'Kushneria', 'Psychromarinibacter', 'Reyranella', 'Puniceibacterium', 'Thermosulfuriphilus', 'Sulfurivermis', 'Swionibacillus', 'Oceanospirillum', 'Oceanispirochaeta', 'Vagococcus', 'Lysinimicrobium', 'Mabikibacter', 'Actinomyces', 'Echinicola', 'Polycladomyces', 'Arenivirga', 'Monaibacterium', 'Phreatobacter', 'Angustibacter', 'Silanimonas', 'Brumimicrobium', 'Gracilimonas', 'Conexibacter', 'Butyratibacter', 'Pigmentiphaga', 'Arsenicibacter', 'Caulobacter', 'Rickettsia', 'Kryptousia', 'Spiribacter', 'Umboniibacter', 'Roseibium', 'Paraphaeobacter', 'Blastomonas', 'Stenotrophomonas', 'Mongoliimonas', 'Natronospira', 'Pseudoalteromonas', 'Dictyobacter', 'Domibacillus', 'Desulfocucumis', 'Chengkuizengella', 'Daejeonia', 'Flaviaesturariibacter', 'Emticicia', 'Mesonia', 'Aliifodinibius', 'Lacihabitans', 'Nakamurella', 'Conyzicola', 'Actinokineospora', 'Cryptosporangium', 'Micrococcoides', 'Naumannella', 'Salinivibrio', 'Salinibacter', 'Parendozoicomonas', 'Pararhizobium', 'Ereboglobus', 'Arboricoccus', 'Alishewanella', 'Kingella', 'Thiorhodococcus', 'Perlucidibaca', 'Roseobacter', 'Bombella', 'Cysteiniphilum', 'Ehrlichia', 'Treponema', 'Merdimonas', 'Sporolactobacillus', 'Megasphaera', 'Sporosarcina', 'Flaviramulus', 'Parafilimonas', 'Olleya', 'Puzihella', 'Arcanobacterium', 'Leuconostoc', 'Delftia', 'Imhoffiella', 'Agrobacterium', 'Noviherbaspirillum', 'Pseudorhodobacter', 'Salinicola', 'Pseudoxanthomonas', 'Rodentibacter', 'Paracandidimonas', 'Thioclava', 'Oleiagrimonas', 'Campylobacter', 'Salinovum', 'Desulfurobacterium', 'Desulfosporosinus', 'Marinisporobacter', 'Salibacter', 'Cloacibacterium', 'Calidifontibacter', 'Kibdelosporangium', 'Mangrovihabitans', 'Vitiosangium', 'Rhodanobacter', 'Sulfuritortus', 'Aquaspirillum', 'Psychromonas', 'Rouxiella', 'Mangrovibacter', 'Xenorhabdus', 'Luteitalea', 'Dehalogenimonas', 'Rectinema', 'Mariniblastus', 'Calorithrix', 'Defluviitalea', 'Fournierella', 'Dubosiella', 'Ileibacterium', 'Alkalicoccus', 'Thermodesulfobium', 'Jeotgalibaca', 'Anaeromicrobium', 'Sporosalibacterium', 'Rhodohalobacter', 'Niveitalea', 'Flectobacillus', 'Sanguibacter', 'Haloactinomyces', 'Subtercola', 'Virgisporangium', 'Aquidulcibacter', 'Pseudaeromonas', 'Planctobacterium', 'Alcaligenes', 'Halofilum', 'Chthonobacter', 'Micropepsis', 'Microbaculum', 'Desulfuribacillus', 'Solibacillus', 'Corticicoccus', 'Arachidicoccus', 'Niabella', 'Mycolicibacterium', 'Klenkia', 'Immundisolibacter', 'Caenimicrobium', 'Polymorphobacter', 'Oharaeibacter', 'Macrococcus', 'Arcticibacterium', 'Pseudactinotalea', 'Psychromicrobium', 'Actinocrinis', 'Estrella', 'Racemicystis', 'Saccharedens', 'Desulfonatronospira', 'Desulfitispora', 'Roseitalea', 'Desulfobulbus', 'Aliidongia', 'Beggiatoa', 'Oryzomicrobium', 'Kineothrix', 'Thermodesulfitimonas', 'Lacibacter', 'Krasilnikoviella', 'Halodesulfovibrio', 'Formosimonas', 'Soortia', 'Streptacidiphilus', 'Rugosibacter', 'Primorskyibacter', 'Arsenicitalea', 'Gilvimarinus', 'Microvirgula', 'Piscinibacterium', 'Chromobacterium', 'Coetzeea', 'Pseudohongiella', 'Psychrobacter', 'Iodidimonas', 'Bacterioplanoides', 'Nitratireductor', 'Sphingoaurantiacus', 'Acidobacterium', 'Fervidobacterium', 'Paludifilum', 'Peptococcus', 'Jeotgalibacillus', 'Saccharibacillus', 'Roseivirga', 'Carboxylicivirga', 'Lunatimonas', 'Niastella', 'Psychroflexus', 'Pelobium', 'Raineyella', 'Huakuichenia', 'Phycicoccus', 'Frigoribacterium', 'Saccharomonospora', 'Nocardiopsis', 'Tersicoccus', 'Patulibacter', 'Marinibaculum', 'Piscinibacter', 'Allofrancisella', 'Litorisediminivivens', 'Silicimonas', 'Akkermansia', 'Alteribacillus', 'Pullulanibacillus', 'Polygonibacillus', 'Serpentinicella', 'Hungateiclostridium', 'Wukongibacter', 'Desulfotomaculum', 'Balneicella', 'Haoranjiania', 'Marinifilum', 'Arvibacter', 'Actinocrispum', 'Hoyosella', 'Lebetimonas', 'Kiloniella', 'Alkaliphilus', 'Herbinix', 'Chitinibacter', 'Octadecabacter', 'Spongiibacter', 'Shinella', 'Pseudodesulfovibrio', 'Thermodesulfatator', 'Butyricicoccus', 'Harryflintia', 'Tepidibacillus', 'Orenia', 'Pontibacillus', 'Anaerosporomusa', 'Salinicoccus', 'Pseudoflavitalea', 'Porphyromonas', 'Demequina', 'Yimella', 'Lipingzhangella', 'Clavibacter', 'Geodermatophilus', 'Thiomicrorhabdus', 'Lutimaribacter', 'Alcanivorax', 'Varunaivibrio', 'Sulfuriflexus', 'Parvularcula', 'Rhodovulum', 'Rhizorhabdus', 'Sedimentitalea', 'Brevitalea', 'Arenimicrobium', 'Agathobaculum', 'Jeotgalicoccus', 'Pseudotenacibaculum', 'Compostibacter', 'Vitellibacter', 'Taeania', 'Oceanihabitans', 'Longibacter', 'Wenyingzhuangia', 'Zeaxanthinibacter', 'Rubrivirga', 'Populibacterium', 'Cribrihabitans', 'Pseudoruegeria', 'Agarivorans', 'Oblitimonas', 'Paraphotobacterium', 'Larsenimonas', 'Helicobacter', 'Ventosimonas', 'Dickeya', 'Chenggangzhangella', 'Ideonella', 'Cephaloticoccus', 'Vicinamibacter', 'Ruthenibacterium', 'Anoxybacillus', 'Aureisphaera', 'Gelatiniphilus', 'Rothia', 'Actinorhabdospora', 'Friedmanniella', 'Phytohabitans', 'Isoptericola', 'Potamolinea', 'Pseudobacter', 'Acholeplasma', 'Kosmotoga', 'Thermotoga', 'Staphylococcus', 'Methylacidimicrobium', 'Liberibacter', 'Draconibacterium', 'Rhodothermus', 'Spiroplasma', 'Bartonella', 'Brucella', 'Listeria', 'Hydrogenobacter', 'Deferribacter', 'Aquifex', 'Kitasatospora', 'Desulfurispirillum', 'Snodgrassella', 'Labedella', 'Okibacterium', 'Sinomonas', 'Methyloversatilis', 'Fusobacterium', 'Geobacillus', 'Limnobacter', 'Lentimicrobium', 'Fulvivirga', 'Moheibacter', 'Paludibacterium', 'Sulfurovum', 'Corticibacterium', 'Flavimaricola', 'Dissulfurirhabdus', 'Salipaludibacillus', 'Actinophytocola', 'Dermabacter', 'Salilacibacter', 'Humibacter', 'Streptosporangium', 'Aquaticitalea', 'Polaromonas', 'Caenibacillus', 'Chania', 'Ancylothrix', 'Maliponia', 'Kordiimonas', 'Thalassobaculum', 'Pseudoroseicyclus', 'Oceanivirga', 'Thermosporothrix', 'Fermentibacillus', 'Tumebacillus', 'Actinocorallia', 'Longimicrobium', 'Planktosalinus', 'Magnetospirillum', 'Mycoavidus', 'Sulfuriferula', 'Pseudovibrio', 'Thermithiobacillus', 'Rhizobacter', 'Phytoactinopolyspora', 'Weeksella', 'Occidentia', 'Litorivivens', 'Haemophilus', 'Azohydromonas', 'Acidicapsa', 'Thermoactinomyces', 'Rubricella', 'Planomonospora', 'Pistricoccus', 'Mycolicibacter', 'Aquamicrobium', 'Acuticoccus', 'Exiguobacterium', 'Geothermobacter', 'Eggerthia', 'Pediococcus', 'Caldimicrobium', 'Streptobacillus', 'Alkalispirochaeta', 'Dinghuibacter', 'Celeribacter', 'Aquisalinus', 'Terasakiella', 'Thalassobius', 'Abyssivirga', 'Ornithinicoccus', 'Allohumibacter', 'Borreliella', 'Erwinia', 'Sedimentibacter', 'Paraclostridium', 'Asanoa', 'Fermentimonas', 'Petrimonas', 'Proteiniphilum', 'Pseudofulvibacter', 'Membranicola', 'Gaetbulibacter', 'Anseongella', 'Marinagarivorans', 'Pseudahrensia', 'Dethiosulfatarculus', 'Mobilisporobacter', 'Tenggerimyces', 'Pseudoclavibacter', 'Brevirhabdus', 'Desulfurella', 'Terrilactibacillus', 'Thiolapillus', 'Chloroflexus', 'Foliisarcina', 'Phyllonema', 'Dissulfurimicrobium', 'Enterobacter', 'Aetherobacter', 'Ahrensia', 'Glaciimonas', 'Tagaea', 'Sellimonas', 'Advenella', 'Lachnotalea', 'Haloimpatiens', 'Cnuibacter', 'Parviterribacter', 'Thermostilla', 'Ichthyobacterium', 'Marimicrobium', 'Tianweitania', 'Testudinibacter', 'Egicoccus', 'Niveibacterium', 'Oceanococcus', 'Tepidisphaera', 'Deferrisoma', 'Pantoea', 'Inmirania', 'Gemmata', 'Raoultibacter', 'Nitrospira', 'Endothiovibrio', 'Neosynechococcus', 'Murdochiella', 'Granulicella', 'Flexilinea', 'Feifantangia', 'Sphingosinicella', \"'Novosphingobium\", 'Paralcaligenes', 'Sphaerisporangium', 'Kangiella', 'Geosporobacter', 'Eudoraea', \"'Sphingomonas\", 'Aliiglaciecola', 'Antarctobacter', 'Pelagibaca', 'Ferruginibacter', 'Roseivivax', 'Thermanaeromonas', 'Lacimicrobium', 'Reinekea', 'Enterovibrio', 'Parasediminibacterium', 'Egibacter', 'Rhabdobacter', 'Catenulispora', 'Sulfuricaulis', 'Acidithiobacillus', 'Fluviicoccus', 'Aurantiacicella', 'Occallatibacter', 'Pyruvatibacter', 'Filobacterium', 'Arcticiflavibacter', 'Methyloterrigena', 'Sulfurirhabdus', 'Pelagirhabdus', 'Acidipila', 'Subsaxibacter', 'Woeseia', 'Belliella', 'Mordavella', 'Mailhella', 'Massiliprevotella', 'Enorma', 'Collinsella', 'Anaerotruncus', 'Lachnoclostridium', 'Urmitella', 'Nissabacter', 'Halobacillus', 'Duodenibacillus', 'Eggerthella', 'Negativibacillus', 'Metaprevotella', 'Caecibacter', 'Colidextribacter', 'Colibacter', 'Tidjanibacter', 'Intestinibacillus', 'Traorella', 'Millionella', 'Rahnella', 'Kiritimatiella', 'Gorillibacterium', 'Brachyspira', 'Thalassiella', 'Telluribacter', 'Nitrosomonas', 'Marinococcus', 'Gabonibacter', 'Olegusella', 'Spongiimicrobium', 'Spongiiferula', 'Peptoanaerobacter', 'Mageeibacillus', 'Dongia', 'Breznakia', 'Ascidiimonas', 'Abyssicoccus', 'Roseimaritima', 'Mumia', 'Kroppenstedtia', 'Dankookia', 'Dactylosporangium', 'Salinivirga', 'Methylorubrum', 'Lacunisphaera', 'Terracidiphilus', 'Alicyclobacillus', 'Tanticharoenia', 'Streptomonospora', 'Phytomonospora', 'Microbispora', 'Mangrovibacterium', 'Stappia', 'Wautersiella', 'Tellurimicrobium', 'Stenotrophobacter', 'Paludibacter', 'Pacificimonas', 'Nitrospirillum', 'Halopeptonella', 'Hyunsoonleella', 'Desulfonatronobacter', 'Algoriella', 'Caproiciproducens', 'Pelistega', 'Bordetella', 'Aurantivirga', 'Cutibacterium', 'Pseudorhodoplanes', 'Thermocrinis', 'Tamaricihabitans', 'Zooshikella', 'Pseudochelatococcus', 'Coprobacter', 'Alistipes', 'Thermorudis', 'Lacimonas', 'Hypnocyclicus', 'Mycobacteroides', 'Taeseokella', 'Sphaerochaeta', 'Lentisphaera', 'Rarimicrobium', 'Myroides', 'Confluentimicrobium', 'Hydromonas', 'Thalassocola', 'Marinibactrum', 'Cavicella', 'Croceifilum', 'Aureibacillus', 'Salininema', 'Kutzneria', 'Aurantimicrobium', 'Sediminispirochaeta', 'Xanthomarina', 'Aliiroseovarius', 'Neptunitalea', 'Halopolyspora', 'Limimaricola', 'Chujaibacter', 'Bounagaea', 'Algitalea', 'Aquimixticola', 'Actinospica', 'Actinoallomurus', 'Haematospirillum', 'Prevotellamassilia', 'Ihubacter', 'Phocea', 'Mediterranea', 'Marseilla', 'Culturomica', 'Christensenella', 'Romboutsia', 'Emergencia', 'Neglecta', 'Bariatricus', 'Senegalia', 'Eisenbergiella', 'Negativicoccus', 'Anaeromassilibacillus', 'Kallipyga', 'Gabonia', 'Desnuesiella', 'Drancourtella', 'Massilibacterium', 'Lascolabacillus', 'Beduini', 'Numidum', 'Kurthia', 'Anaerosalibacter', 'Risungbinella', 'Turicimonas', 'Pasteurella', 'Muricomes', 'Muribaculum', 'Longibaculum', 'Longicatena', 'Irregularibacter', 'Frisingicoccus', 'Flintibacter', 'Extibacter', 'Cuneatibacter', 'Acutalibacter', 'Methylovulum', 'Luteipulveratus', 'Leeuwenhoekiella', 'Labrys', 'Kineococcus', '[Erwinia]', 'Donghicola', '[Collinsella]', 'Ampullimonas', 'Aliikangiella', 'Aeromonas', 'Sinimarinibacterium', 'Methylocapsa', 'Terasakiispira', 'Methylomagnum', 'Pseudomaricurvus', 'Terriglobus', 'Maritimibacter', 'Terrisporobacter', 'Anaerobium', 'Chitinispirillum', 'Alkalimarinus', 'Aquabacterium', 'Fusibacter', 'Haliea', 'Corticibacter', 'Tamilnaduibacter', 'Baia', 'Sulfurifustis', 'Ursidibacter', 'Pararheinheimera', 'Oryzobacter', 'Camelimonas', 'Zhihengliuella', 'Caenispirillum', 'Crassaminicella', 'Limibacillus', 'Barrientosiimonas', 'Halovulum', 'Allochromatium', 'Diaphorobacter', 'Mariniphaga', 'Pontivivens', 'Brassicibacter', 'Prolixibacter', 'Algibacter', 'Bergeyella', 'Savagea', 'Rhodobaculum', 'Fontibacillus', 'Phaeodactylibacter', 'Sphingomicrobium', 'Marinithermofilum', 'Desmospora', 'Novibacillus', 'Acetoanaerobium', 'Palleronia', 'Sedimenticola', 'Mameliella', 'Fuchsiella', 'Aquipuribacter', 'Gemmatimonas', 'Leucothrix', 'Limnochorda', 'Phaeobacterium', 'Roseimarinus', 'Elizabethkingia', 'Phaeocystidibacter', 'Escherichia', 'Youhaiella', 'Tropicihabitans', 'Spirochaeta', 'Salisediminibacterium', 'Paradevosia', 'Negadavirga', 'Halodurantibacterium', 'Emcibacter', 'Edwardsiella', 'Chlamydia', 'Caldisalinibacter', 'Actinoalloteichus', 'Aestuariicella', 'Desulfoplanes', 'Marivita', 'Aestuariivivens', 'Pseudoseohaeicola', 'Sinosporangium', 'Tepidicaulis', 'Caloranaerobacter', 'Natranaerobaculum', 'Heliimonas', 'Seleniivibrio', 'Pustulibacterium', 'Pleionea', 'Nibrella', 'Nibribacter', 'Silvibacterium', 'Mucinivorans', 'Uruburuella', 'Thermogutta', 'Spongiivirga', 'Simiduia', 'Siansivirga', 'Serinibacter', 'Salipiger', 'Salinispira', 'Olsenella', 'Oenococcus', 'Motiliproteus', 'Methylobrevis', 'Melghiribacillus', 'Limisphaera', 'Ichthyenterobacterium', 'Hydrobacter', 'Hafnia', 'Granulosicoccus', 'Garicola', 'Frigidibacter', 'Fodinicurvata', 'Flavicella', 'Cetia', 'Catenisphaera', 'Aquisalimonas', 'Aquibacillus', 'Aminicella', 'Yersinia', 'Variibacter', 'Thiophaeococcus', 'Thermosipho', 'Thermomonas', 'Thermomicrobium', 'Terrabacter', 'Tangfeifania', 'Symbiobacterium', 'Sunxiuqinia', 'Pleomorphochaeta', 'Solirubrobacter', 'Sinomicrobium', 'Salinithrix', 'Salinispora', 'Salimicrobium', 'Saccharicrinis', 'Rhodoligotrophos', 'Ralstonia', 'Psychrobium', 'Pseudoxanthobacter', 'Pseudoscardovia', 'Acidipropionibacterium', 'Permianibacter', 'Oligoflexus', 'Mobilitalea', 'Minicystis', 'Micrococcus', 'Mesocricetibacter', 'Luteococcus', 'Litoreibacter', 'Leptospira', 'Homoserinibacter', 'Hartmannibacter', 'Halocynthiibacter', 'Gordonibacter', 'Geobacter', 'Fulvimonas', 'Frederiksenia', 'Flaviflexus', 'Faecalicoccus', 'Ercella', 'Diaminobutyricibacter', 'Desertibacter', 'Cricetibacter', 'Chitinivibrio', 'Chishuiella', 'Catalinimonas', 'Boseongicola', 'Atopobium', 'Asticcacaulis', 'Ascidiaceihabitans', 'Arcticibacter', 'Allokutzneria', 'Aestuariivita', 'Verticiella', 'Acetobacteroides', 'Xenophilus', 'Wenxinia', 'Ureibacillus', 'Thermotunica', 'Thermogemmatispora', 'Thermoflavifilum', 'Terrimicrobium', 'Sneathiella', 'Sinibacillus', 'Salegentibacter', 'Rivicola', 'Pyrinomonas', 'Psychroglaciecola', 'Pseudopedobacter', 'Pseudooctadecabacter', 'Prosthecobacter', 'Planobispora', 'Photorhabdus', 'Pelolinea', 'Paenochrobactrum', 'Paenalcaligenes', 'Methyloparacoccus', 'Methylomonas', 'Lutimonas', 'Hungatella', 'Haloactinopolyspora', 'Glaciihabitans', 'Gayadomonas', 'Falsiporphyromonas', 'Desulfohalotomaculum', 'Desulfatiferula', 'Cyclobacterium', 'Cnuella', 'Alkalibacillus', 'Aestuariispira', 'Aliicoccus', 'Marininema', 'Tissierella', 'Seminibacterium', 'Neoscardovia', 'Marichromatium', 'Polymorphum', 'Rubrimonas', 'Parasaccharibacter', 'Geminisphaera', 'Levyella', 'Fenollaria', 'Casaltella', 'Nosocomiicoccus', '[Clostridium]', 'Roseibacterium', 'Luteibacter', \"'Burkholderia\", 'Alkalilactibacillus', 'Myceligenerans', 'Desulfohalophilus', 'Kineosphaera', 'Gemmatirosa', 'Sporomusa', 'Swingsia', 'Sediminicoccus', 'Citricoccus', 'Spongitalea', 'Methylobacillus', 'Prosthecochloris', 'Desulfomicrobium', 'Endobacter', 'Epibacterium', 'Anaerocella', 'Sungkyunkwania', 'Litorisediminicola', 'Mariniradius', 'Huanghella', 'Brockia', 'Litorilinea', 'Desulfoconvexum', 'Allonocardiopsis', 'Paraherbaspirillum', 'Geojedonia', 'Hwangdonia', 'Spelaeicoccus', 'Imperialibacter', 'Texcoconibacillus', 'Thermomarinilinea', 'Taonella', 'Lentilitoribacter', 'Aquihabitans', 'Mongoliicoccus', 'Namhaeicola', 'Tropicibacter', 'Caedimonas', 'Hippea', 'Calochaete', 'Microbacter', 'Mariniflexile', 'Hoppeia', 'Leisingera', 'Desulfocarbo', 'Vespertiliibacter', 'Gynuella', 'Bacterioplanes', 'Melghirimyces', 'Acidibacter', 'Altibacter', 'Luteimicrobium', 'Mooreia', 'Thermosulfurimonas', 'Providencia', 'Mizugakiibacter', 'Temperatibacter', 'Methylocaldum', 'Rhizocola', 'Citreitalea', 'Labilithrix', 'Vulgatibacter', 'Desulfatiglans', 'Povalibacter', 'Thermoclostridium', 'Amphiplicatus', 'Actinobacillus', 'Heliothrix', 'Aggregicoccus', 'Trichocoleus', 'Solimonas', 'Pseudocitrobacter', 'Vallitalea', 'Jejudonia', 'Aestuariihabitans', 'Thermoflexus', 'Frondihabitans', 'Galbitalea', 'Kallotenue', 'Salinibacillus', 'Holdemania', 'Arenitalea', 'Methyloligella', 'Paenirhodobacter', 'Timonella', 'Metakosakonia', 'Anditalea', 'Senegalimassilia', 'Dielma', 'Fluoribacter', 'Brasilonema', 'Tepidiphilus', 'Oribacterium', 'Lyticum', 'Lacibacterium', 'Planktomarina', 'Limnohabitans', 'Eoetvoesia', 'Bhargavaea', 'Thermolongibacillus', 'Propionivibrio', 'Mesoplasma', 'Syntrophomonas', 'Herminiimonas', 'Dechlorobacter', 'Candidatus', 'Rhodoluna', 'Agaribacter', 'Algisphaera', 'Sulfurisoma', 'Effusibacillus', 'Aerococcus', 'Methyloceanibacter', 'Anaerobacterium', 'Raoultella', 'Nguyenibacter', 'Hydrogenispora', 'Lactivibrio', 'Methylomarinovum', 'Chlorobium', 'Sphaerotilus', 'Rhodopseudomonas', 'Methylophilus', 'Thioalbus', 'Mongoliitalea', 'Defluviitoga', 'Aquisphaera', 'Tetragenococcus', 'Fimbriimonas', 'Leptonema', 'Leptothrix', 'Parahymenobacter', 'Atopobacter', 'Pelotomaculum', 'Halanaerobium', 'Desulfobacula', 'Carnobacterium', 'Marinosulfonomonas', 'Sulfurospirillum', 'Halanaerobacter', 'Orientia', '[Eubacterium]', 'Desulfarculus', 'Heliophilum', 'Lachnospira', 'Magnetovibrio', 'Helcococcus', 'Bythopirellula', 'Okeania', 'Mesotoga', 'Pelagicola', 'Komvophoron', 'Intestinimonas', 'Keratinibaculum', 'Aquaphilus', 'Amorphus', 'Frischella', 'Anaplasma', 'Oceanicola', 'Thermodesulfobacterium', 'Quasibacillus', 'Hyphomicrobium', 'Gilliamella', 'Oceanicella', 'Hazenella', 'Wangella', 'Gallaecimonas', 'Algivirga', 'Fibrobacter', 'Persephonella', 'Nitrolancea', 'Blastocatella', 'Melioribacter', 'Lonsdalea', 'Alloprevotella', 'Nafulsella', 'Yoonia', 'Plasticicumulans', 'Methyloglobulus', 'Compostimonas', 'Profundibacterium', 'Oscillibacter', 'Tropicimonas', 'Pseudogulbenkiania', 'Gaiella', 'Methylophaga', 'Pectinatus', 'Mycolicibacillus', 'Caloribacterium', 'Youngiibacter', 'Planktothrix', 'Metallibacterium', 'Mastigocoleus', 'Thiothrix', 'Humitalea', 'Arhodomonas', 'Albidovulum', 'Oceaniovalibus', 'Sandaracinus', 'Flammeovirga', 'Knoellia', 'Tabrizicola', 'Methylovorus', 'Phorcysia', 'Riemerella', 'Dietzia', 'Salinivenus', 'Alkalitalea', 'Schleiferia', 'Macellibacteroides', 'Acetatifactor', 'Loriellopsis', 'Iphinoe', 'Otariodibacter', 'Thermanaerothrix', 'Thiobacillus', 'Zobellella', 'Snuella', 'Mannheimia', 'Caldilinea', 'Morganella', 'Stomatobaculum', 'Desulfosoma', 'Ferrovum', 'Anaerorhabdus', 'Fluviimonas', 'Pseudophaeobacter', 'Faecalicatena', 'Necropsobacter', 'Chungangia', 'Alpinimonas', 'Paraperlucidibaca', 'Caloramator', 'Parvibaculum', 'Pisciglobus', 'Litoribacillus', 'Chelonobacter', 'Bisgaardia', 'Caldicoprobacter', 'Jahnella', 'Desulfonatronovibrio', 'Tepidamorphus', 'Thermoanaerobacter', 'Reichenbachiella', 'Cronobacter', 'Ohtaekwangia', 'Chitinolyticbacter', 'Desulfurispira', 'Joostella', 'Diplorickettsia', 'Marisediminicola', 'Siccationidurans', 'Segetibacter', 'Paeniglutamicibacter', 'Caldinitratiruptor', 'Castellaniella', 'Tistrella', 'Litorimicrobium', 'Bauldia', 'Fibrella', 'Formosa', 'Tardiphaga', 'Rhodothalassium', 'Shivajiella', 'Tahibacter', 'Oceanibacterium', 'Neomicrococcus', 'Candidimonas', 'Tolumonas', 'Microaerobacter', 'Caldibacillus', 'Parageobacillus', 'Cesiribacter', 'Murinocardiopsis', 'Cecembia', 'Phaeovibrio', 'Singulisphaera', 'Allocatelliglobosispora', 'Pseudofulvimonas', 'Lutibaculum', 'Meiothermus', 'Nitritalea', 'Piscibacillus', 'Thalassobacillus', 'Phaeochromatium', 'Thiolamprovum', 'Thiocapsa', 'Caldithrix', 'Hephaestia', 'Anaerostipes', 'Halanaerocella', 'Acetomicrobium', 'Ornithinibacter', 'Streptohalobacillus', 'Jeongeupia', 'Arcicella', 'Nautilia', 'Yaniella', 'Intrasporangium', 'Thiohalobacter', 'Gangjinia', 'Planotetraspora', 'Wandonia', 'Agrococcus', 'Marinitalea', 'Terribacillus', 'Meridianimaribacter', 'Pseudoteredinibacter', 'Deefgea', 'Allobacillus', 'Shimwellia', 'Schaalia', 'Hwanghaeicola', 'Verminephrobacter', 'Pseudoscillatoria', 'Roseicitreum', 'Polycyclovorans', \"'Deinococcus\", 'Amphibacillus', 'Moorea', 'Propionibacterium', 'Leifsonia', 'Cobetia', 'Magnetospira', 'Rubribacterium', 'Slackia', 'Tistlia', 'Dethiosulfovibrio', 'Desulfitobacterium', 'Thioalkalivibrio', 'Frateuria', 'Chitinilyticum', 'Methylogaea', 'Thiomonas', 'Oceanotoga', 'Methylorosula', 'Salsuginibacillus', 'Muriicola', 'Gallibacterium', 'Gluconobacter', 'Commensalibacter', 'Beijerinckia', 'Tepidanaerobacter', 'Syntrophaceticus', 'Thermovorax', 'Natranaerobius', 'Natronovirga', 'Hydrocarboniphaga', 'Maritimimonas', 'Andreprevotia', 'Sinorhizobium', 'Lishizhenia', 'Methylomicrobium', 'Bombiscardovia', 'Ignatzschineria', 'Rhodocytophaga', 'Bdellovibrio', 'Aliihoeflea', 'Chlorobaculum', 'Tepidimicrobium', 'Mariprofundus', 'Chelativorans', 'Coxiella', 'Natronincola', 'Chryseoglobus', 'Georgfuchsia', 'Hansschlegelia', 'Celerinatantimonas', 'Proteiniclasticum', 'Microterricola', 'Psychrosinus', 'Algiphilus', 'Parapusillimonas', 'Avibacterium', 'Gulbenkiania', 'Sideroxydans', 'Gallionella', 'Criblamydia', 'Gracilibacter', 'Arsukibacterium', 'Desulfosalsimonas', 'Ureaplasma', 'Oleomonas', 'Zymobacter', 'Peptostreptococcus', 'Finegoldia', 'Coprococcus', 'Azorhizobium', 'Cloacibacillus', 'Halarsenatibacter', 'Saccharofermentans', '[Desulfotomaculum]', 'Algorimarina', 'Spirillum', 'Acetobacterium', 'Ethanoligenens', 'Carboxydocella', 'Eionea', 'Catabacter', 'Marinilactibacillus', 'Ruminococcus', 'Chthoniobacter', 'Atlantibacter', 'Anaerospora', 'Scardovia', 'Alkanindiges', 'Kinneretia', 'Bacteriovorax', 'Halobacteriovorax', 'Lutibacterium', 'Cycloclasticus', 'Komagataeibacter', 'Deinobacterium', 'Actinocatenispora', 'Pararhodospirillum', 'Telmatobacter', 'Desulfopila', 'Chthonomonas', 'Ekhidna', 'Chromatocurvus', 'Thiohalocapsa', 'Elusimicrobium', 'Bryobacter', 'Thiocystis', 'Varibaculum', 'Allomonas', 'Propionispora', 'Pontibaca', 'Roseospira', 'Marvinbryantia', 'Nitrosococcus', 'Nitrosospira', 'Hydrogenothermus', 'Desulfosporomusa', 'Acetobacter', 'Geothermobacterium', 'Thermobaculum', 'Nordella', 'Desulfuromonas', 'Conchiformibius', 'Halomicronema', 'Albibacter', 'Caldanaerobacter', 'Thermanaerovibrio', 'Sulfobacillus', 'Dehalococcoides', 'Gluconacetobacter', 'Desulfofarcimen', 'Calderihabitans', 'Spongiimonas', 'Ferriphaselus', 'Fusicatenibacter', 'Paraoerskovia', 'Sediminihabitans', 'Alkalibacterium', 'Aerosakkonema', 'Portibacter', 'Thiofractor', 'Maricurvus', 'Aminivibrio', 'Desulfatitalea', 'Thermotomaculum', 'Rubidimonas', 'Tunicatimonas', 'Porifericola', 'Aureitalea', 'Pseudenhygromyxa', 'Branchiibius', 'Maritalea', 'Ardenticatena', 'Carboxydothermus', 'Aureibacter', 'Oligosphaera', 'Brevifollis', 'Roseimicrobium', 'Oceanicoccus', 'Rubricoccus', 'Thermoanaerobacterium', 'Fructobacillus', 'Methylothermus', 'Armatimonas', 'Neoasaia', 'Miniimonas', 'Arsenicicoccus', 'Aciditerrimonas', 'Constrictibacter', 'Parasutterella', 'Phascolarctobacterium', 'Odoribacter', 'Asaia', 'Euzebya', 'Ignavibacterium', 'Thioprofundum', 'Aliivibrio', 'Chitiniphilus', 'Natribacillus', 'Geomicrobium', 'Oleibacter', 'Rhodovastum', 'Cerasicoccus', 'Ilumatobacter', 'Calditerricola', 'Ameyamaea', 'Methylomarinum', 'Propioniciclava', 'Panacagrimonas', 'Inquilinus', 'Histophilus', 'Curvibacter', 'Xanthobacter', 'Tonsilliphilus', 'Rhizomicrobium', 'Sulfuricurvum', 'Roseiflexus', 'Oxalicibacterium', 'Methylosinus', 'Pelosinus', 'Howardella', 'Anaeroplasma', 'Longimycelium', 'Aureicoccus', 'Streptoverticillium', 'Tatumella', 'Methylococcus', 'Vampirovibrio', 'Geotoga', 'Prosthecomicrobium', 'Shigella', 'Gemmiger', 'Thermothrix', 'Nitrospina', 'Ornithobacterium', 'Sulfurihydrogenibium', 'Methylotenera', 'Thalassolituus', 'Syntrophus', 'Desulfocapsa', 'Halobacteroides', 'Thioflavicoccus', 'Cylindrospermum', 'Thermobacillus', 'Renibacterium', 'Marinitoga', 'Moraxella', 'Ammonifex', 'Opitutus', 'Desulfurivibrio', 'Pseudothermotoga', 'Desulfobacterium', 'Simkania', 'Halorhodospira', 'Alkalilimnicola', 'Caldicellulosiruptor', 'Thiomicrospira', 'Zobellia', 'Pseudarthrobacter', 'Neorickettsia', 'Magnetococcus', 'Pelodictyon', 'Saccharophagus', 'Desulfotalea', 'Nitrobacter', 'Chloracidobacterium', 'Granulibacter', 'Methylocella', 'Herpetosiphon', 'Sporobacter', 'Desulfallas', 'Lonepinella', 'Halochromatium', 'Desulfothermus', 'Caldanaerobius', 'Selenomonas', 'Desulforhopalus', 'Synergistes', 'Methylovirgula', 'Fodinibacter', 'Sediminimonas', 'Solitalea', 'Rudaea', 'Haloglycomyces', 'Marispirillum', 'Aquitalea', 'Phaselicystis', 'Sciscionella', 'Bowmanella', 'Halanaerobaculum', 'Thermobifida', 'Thiohalospira', 'Hydrogenoanaerobacterium', 'Natronobacillus', 'Devriesea', 'Balneola', 'Actibacter', 'Rudanella', 'Daeguia', 'Fodinicola', 'Parafrigoribacterium', 'Stenoxybacter', 'Rubidibacter', 'Filomicrobium', 'Thermodesulfovibrio', 'Clostridiisalibacter', 'Pelobacter', 'Sediminibacillus', 'Haloactinospora', 'Rummeliibacillus', 'Methylohalomonas', 'Aestuariimicrobium', 'Methylonatrum', 'Nisaea', 'Marinoscillum', 'Zhouia', 'Pelagibius', 'Cohaesibacter', 'Cognatiyoonia', 'Paenisporosarcina', 'Desulfoglaeba', 'Yonghaparkia', 'Tindallia', 'Desulfovirgula', 'Brooklawnia', 'Sinobaca', 'Costertonia', 'Desulfatirhabdium', 'Rhodonellum', 'Lactonifactor', 'Thermolithobacter', 'Salicola', 'Psychroserpens', 'Dokdonella', 'Citreimonas', 'Maribius', 'Leadbetterella', 'Thorsellia', 'Desulfuromusa', 'Giesbergeria', 'Gillisia', 'Subsaximicrobium', 'Caminibacter', 'Yeosuana', 'Sporacetigenium', 'Syntrophobacter', 'Aminiphilus', 'Labrenzia', 'Segniliparus', 'Desulfurispora', 'Aquimonas', 'Oceanimonas', 'Pilibacter', 'Acetanaerobacterium', 'Mucispirillum', 'Klugiella', 'Paraeggerthella', 'Collimonas', 'Guggenheimella', 'Geopsychrobacter', 'Acidicaldus', 'Ferrithrix', 'Bermanella', 'Neptuniibacter', 'Caedibacter', 'Kaistia', 'Halonatronum', 'Aquisalibacillus', 'Pelomonas', 'Ktedonobacter', 'Microcella', 'Lactovum', 'Dechloromonas', 'Alkanibacter', 'Azotobacter', 'Azorhizophilus', 'Halovibrio', 'Kofleria', 'Roseospirillum', 'Telmatospirillum', 'Gelria', 'Neomegalonema', 'Defluviicoccus', 'Methylibium', 'Ketogulonicigenium', 'Kineosporia', 'Aminobacter', 'Haloferula', 'Limibacter', 'Roseibacillus', 'Adlercreutzia', 'Trueperella', 'Pelagicoccus', 'Fulvibacter', 'Marihabitans', 'Humibacillus', 'Perexilibacter', 'Persicitalea', 'Olivibacter', 'Ruminiclostridium', 'Halalkalibacillus', 'Nubsella', 'Sediminitomix', 'Sediminibacter', 'Gilvibacter', 'Galbibacter', 'Ferrimonas', 'Sulfurivirga', 'Longilinea', 'Bellilinea', 'Krasilnikovia', 'Tuberibacillus', 'Polymorphospora', 'Syntrophorhabdus', 'Sediminicola', 'Anaerovirgula', 'Zoogloea', 'Halolactibacillus', 'Silvimonas', 'Fangia', 'Nitratifractor', 'Thioreductor', 'Azonexus', 'Starkeya', 'Owenweeksia', 'Thiovirga', 'Levilinea', 'Leptolinea', 'Anaerolinea', 'Chromohalobacter', 'Sporotomaculum', 'Sporolituus', 'Aliagarivorans', 'Pseudorhodoferax', 'Fervidicola', 'Thermotalea', 'Pyramidobacter', 'Geoalkalibacter', 'Thioalkalibacter', 'Haloplasma', 'Jonquetella', 'Dethiobacter', 'Thiohalomonas', 'Natronocella', 'Venenivibrio', 'Azospira', 'Desulfocurvus', 'Roseinatronobacter', 'Modicisalibacter', 'Thiohalophilus', 'Thiohalorhabdus', 'Trabulsiella', 'Halotalea', 'Schlegelella', 'Thalassococcus', 'Hydrogenovibrio', 'Moryella', 'Kribbia', 'Methylocystis', 'Ruania', 'Albimonas', 'Leeia', 'Caldalkalibacillus', 'Propionicicella', 'Desulfovermiculus', 'Pseudodonghicola', 'Methylosoma', 'Halospina', 'Thermovirga', 'Desulfohalobium', 'Truepera', 'Tetrasphaera', 'Thermaerobacter', 'Dermacoccus', 'Dialister', 'Tepidimonas', 'Quadrisphaera', 'Thermincola', 'Psychrilyobacter', 'Desulfitibacter', 'Millisia', 'Paucibacter', 'Alkalibacter', 'Roseburia', 'Ectothiorhodosinus', 'Thermovibrio', 'Volucribacter', 'Thermovenabulum', 'Nesiotobacter', 'Actinobaculum', 'Haematobacter', 'Proteocatella', 'Robinsoniella', 'Ferrimicrobium', 'Alkalimonas', 'Thermoleophilum', 'Alterococcus', 'Flavonifractor', 'Paenarthrobacter', 'Erysipelatoclostridium', 'Pluralibacter', 'Actinosynnema', 'Desulfofaba', 'Rhodoglobus', 'Roseisalinus', 'Brackiella', 'Thioalkalicoccus', 'Chondromyces', 'Cystobacter', 'Neorhizobium', 'Hydrogenimonas', 'Thermacetogenium', 'Halospirulina', 'Sandaracinobacter', 'Parachlamydia', 'Gemella', 'Filifactor', 'Gottschalkia', 'Robertkochia', 'Litorimonas', 'Conservatibacter', 'Caviibacterium', 'Phytobacter', 'Aminipila', 'Monoglobus', 'Floricoccus', 'Caldovatus', 'Porphyrobacter', 'Asprobacter', 'Izhakiella', 'Lechevalieria', 'Pseudopropionibacterium', 'Consotaella', 'Allobranchiibius', 'Marinicauda', 'Saonia', 'Henriciella', 'Silvanigrella', 'Laceyella', 'Galliscardovia', 'Mobilicoccus', 'Marivirga', 'Hyphobacterium', 'Tibeticola', 'Faecalimonas', 'Auricoccus', 'Ruficoccus', 'Maripseudobacter', 'Libanicoccus', 'Allostreptomyces', 'Endomicrobium', 'Methylarcula', 'Cronbergia', 'Falcatimonas', 'Panacibacter', 'Herbihabitans', '[Propionibacterium]', 'Grimontia', 'Aliterella', 'Ammoniphilus', 'Anaerocolumna', 'Anaerotaenia', 'Lawsonella', 'Caldisericum', 'Corallococcus', 'Phycisphaera', 'Myxococcus', 'Sebaldella', 'Thermoactinospora', 'Lihuaxuella', 'Enteractinococcus', 'Geothermomicrobium', 'Barnesiella', 'Eubacterium', 'Tropheryma', 'Kytococcus', 'Rehaibacterium', 'Dehalobacter', 'Basilea', 'Tomitella', 'Actinorugispora', 'Crenalkalicoccus', 'Jiulongibacter', 'Enterovirga', 'Imtechella', 'Atopococcus', 'Rapidithrix', 'Hamadaea', 'Mariniluteicoccus', 'Paludisphaera', 'Athalassotoga', 'Mongoliibacter', 'Agathobacter', 'Monashia', 'Fabivirga', 'Fimbriiglobus', 'Jonesia', 'Pseudobowmanella', 'Oricola', 'Sutturella', 'Faecalibaculum', 'Umezawaea', 'Marinibacterium', 'Rathayibacter', 'Massiliomicrobiota', 'Enterorhabdus', 'Sinobacterium', 'Antricoccus', 'Pseudaestuariivita', 'Fabibacter', 'Algimonas', 'Lysinibacter', 'Qipengyuania', 'Cephalothrix', 'Enterobacillus', 'Convivina', 'Luteibaculum', 'Fretibacter', 'Siccibacter', 'Murimonas', 'Rhodospira', 'Zhizhongheella', 'Youngimonas', 'Salinispirillum', 'Roseiarcus', 'Pseudopelagicola', 'Propionispira', 'Paludibaculum', 'Vibrionimonas', 'Ulvibacter', 'Canibacter', 'Alloactinosynnema', 'Desulfofundulus', 'Euryhalocaulis', 'Tenuibacillus', 'Echinimonas', 'Chiayiivirga', 'Asinibacterium', 'Syntrophothermus', '[Bacillus]', '[Kitasatospora]', 'Cedecea', 'Prochlorothrix', 'Rosenbergiella', 'Gibbsiella', 'Galenea', 'Oxobacter', 'Couchioplanes', 'Maledivibacter', 'Spirulina', 'Arthrospira', 'Cellulosilyticum', 'Kastovskya', 'Phormidium', 'Aquibacter', 'Mesoaciditoga', 'Oxynema', 'Tapinothrix', 'Ectothiorhodospira', 'Agaricicola', 'Luminiphilus', 'Coleofasciculus', 'Archangium', 'Leptolyngbya', 'Synechococcus', 'Prochlorococcus', 'Crenotalea', 'Ampullariella', 'Jhaorihella', 'Yuhushiella', 'Corallibacter', 'Gloeobacter', 'Peptoclostridium', 'Sulfuricella', '[Bacteroides]', 'Congregibacter', 'Pimelobacter', 'Hydrogenibacillus', 'Kyrpidia', 'Acidiphilium', 'Syntrophococcus', 'Pseudoclostridium', 'Desemzia', 'Thiorhodovibrio', 'Lamprocystis', 'Actinotignum', 'Thermomonospora', 'Acrocarpospora', 'Johnsonella', 'Oerskovia', 'Moritella', 'Pirellula', 'Pseudescherichia', 'Salmonella', 'Gloeothece', 'Oxalophagus', 'Plesiomonas', 'Paeniclostridium', 'Asaccharospora', 'Erythromicrobium', 'Saccharococcus', 'Robbsia', 'Hirschia', 'Microtetraspora', 'Mogibacterium', 'Glaesserella', '[Pasteurella]', 'Aggregatibacter', 'Tatlockia', 'Entomoplasma', '[Ruminococcus]', 'Acetohalobium', 'Skermania', 'Stigmatella', 'Dictyoglomus', 'Victivallis', 'Sneathia', 'Xiangella', 'Telmatocola', 'Limnoraphis', 'Porticoccus', 'Halothiobacillus', 'Brochothrix', 'Thiolinea', 'Actimicrobium', 'Fodinibius', 'Afipia', 'Afifella', 'Annwoodia', 'Anaerobranca', 'Sporohalobacter', 'Budvicia', 'Pilimelia', 'Litoribacter', '[Brevibacterium]', 'Melittangium', 'Planosporangium', 'Leclercia', 'Soehngenia', 'Sporanaerobacter', 'Parvibacter', 'Alkaliflexus', 'Hassallia', 'Calothrix', 'Thermosinus', 'Thermohydrogenium', 'Natroniella', 'Oligotropha', 'Cytophaga', 'Desulfobacter', 'Methyloferula', 'Bryocella', 'Hydrotalea', 'Auritidibacter', 'Herbiconiux', 'Fontibacter', 'Indibacter', 'Bavariicoccus', 'Haloactinobacterium', 'Litoricola', 'Aestuariibacter', 'Catenuloplanes', 'Orbus', 'Sorangium', 'Alkalibaculum', 'Obesumbacterium', 'Salinarimonas', 'Actinopolymorpha', 'Jishengella', 'Brachymonas', 'Mycoplana', 'Novispirillum', 'Curtobacterium', 'Antarcticimonas', 'Desulfotignum', 'Desulfoluna', 'Xylella', 'Thalassobacter', 'Sagittula', 'Nereida', 'Marinovum', 'Sufflavibacter', 'Nodularia', 'Taylorella', 'Centipeda', 'Rhodospirillum', 'Acidomonas', 'Rhizorhapis', 'Persicobacter', 'Zymomonas', 'Crocosphaera', 'Granulicoccus', 'Acaryochloris', 'Solobacterium', '[Mannheimia]', 'Roseateles', 'Agreia', 'Acidiferrobacter', 'Allofustis', 'Mobiluncus', 'Oligella', 'Anaerovibrio', 'Acidothermus', 'Lyngbya', 'Dactylococcopsis', 'Parvimonas', 'Kluyvera', 'Hahella', 'Oscillatoria', 'Stanieria', 'Oscillochloris', 'Xylophilus', 'Aminomonas', 'Flexithrix', 'Nostoc', 'Muribacter', 'Cyanobium', 'Asaccharobacter', 'Leptotrichia', 'Propionimicrobium', 'Thalassomonas', 'Leptobacterium', 'Inhella', 'Malikia', 'Robiginitomaculum', 'Allohahella', 'Azomonas', 'Yokenella', 'Derxia', 'Maricaulis', 'Alysiella', 'Cerasibacillus', 'Bergeriella', 'Marinospirillum', 'Hugenholtzia', 'Thermoflexibacter', 'Kozakia', 'Microscilla', 'Bernardetia', 'Dolosigranulum', 'Alloiococcus', 'Oceanobacter', 'Pseudospirillum', 'Flexibacter', 'Eisenibacter', 'Hydrogenophilus', 'Insolitispirillum', 'Hylemonella', 'Absiella', 'Enhydrobacter', 'Melissococcus', 'Succinatimonas', 'Phocaeicola', 'Poseidonocella', 'Hathewaya', 'Vadicella', 'Faecalitalea', 'Sulfuritalea', 'Austwickia', 'Piscicoccus', 'Clostridioides', 'Tannerella', 'Paraprevotella', 'Thermasporomyces', 'Salinirepens', 'Neokomagataea', 'Arenicella', 'Cocleimonas', 'Goodfellowiella', 'Streptoalloteichus', 'Crinalium', 'Starria', 'Chlorogloeopsis', 'Pseudozobellia', 'Propionicimonas', 'Scytonema', 'Fischerella', 'Fucophilus', 'Rarobacter', 'Tychonema', 'Chroococcidiopsis', 'Pseudoramibacter', '[Pseudomonas]', 'Paucimonas', 'Parvopolyspora', '[Flavobacterium]', 'Rhodoblastus', 'Phaeospirillum', 'Holdemanella', 'Caryophanon', 'Asteroleplasma', 'Thermoanaerobaculum', 'Oceanirhabdus', 'Paramoritella', 'Pontimonas', 'Rudaibacter', 'Homoserinimonas', 'Diaminobutyricimonas', 'Naasia', 'Dissulfuribacter', 'Ornatilinea', 'Aureivirga', 'Fulvitalea', 'Luteivirga', 'Limimonas', 'Fontimonas', 'Lysinimonas', 'Belnapia', 'Salimesophilobacter', 'Mangroviflexus', 'Desulfobaculum', 'Saliterribacillus', 'Salinimonas', 'Postechiella', 'Eilatimonas', 'Gulosibacter', 'Rhabdothermus', 'Pseudohoeflea', 'Cognatishimia', 'Oceanicaulis', 'Iodobacter', 'Falsirhodobacter', 'Cruoricaptor', 'Fonticella', 'Pseudarcicella', 'Corallomonas', 'Chitinivorax', 'Salinactinospora', 'Caenimonas', 'Spinactinospora', 'Natranaerovirga', 'Natronoflexus', 'Rudaeicoccus', 'Tepidibacter', 'Fretibacterium', 'Amantichitinum', 'Labedaea', 'Motilibacter', 'Pricia', 'Pelagimonas', 'Flindersiella', 'Hasllibacter', 'Lentibacter', 'Oleispira', 'Neiella', 'Pannonibacter', 'Thermophagus', 'Kerstersia', 'Saprospira', 'Prolinoborus', 'Morococcus', '[Curtobacterium]', 'Dichelobacter', 'Moellerella', '[Haemophilus]', 'Carbophilus', 'Ewingella', 'Rugamonas', 'Nitrococcus', 'Pedomicrobium', 'Vitreoscilla', 'Bactoderma', 'Catenococcus', 'Agitococcus', 'Thermonema', 'Brevinema', 'Meniscus', 'Acetivibrio', 'Rhodovibrio', 'Oxalobacter', 'Aquabacter', 'Ilyobacter', 'Dichotomicrobium', 'Butyrivibrio', 'Ancalomicrobium', 'Globicatella', 'Pseudochrobactrum', 'Haloechinothrix', 'Fervidicella', 'Breoghania', 'Basfia', 'Acetitomaculum', 'Dorea', 'Andreesenia', 'Chamaesiphon', 'Anabaena', 'Cyanobacterium', 'Dinoroseobacter', 'Desulfomonile', 'Syntrophobotulus', 'Desulfobacca', 'Acidaminococcus', 'Anaeromyxobacter', 'Haliangium', 'Halothermothrix', 'Waddlia', 'Flexistipes', 'Denitrovibrio', 'Calditerrivibrio', 'Mahella', 'Thermobispora', 'Coprothermobacter', 'Croceibacter', 'Aminobacterium', 'Oceanithermus', 'Beutenbergia', 'Marinithermus', 'Xylanimonas', 'Isosphaera', 'Heliobacterium', 'Thermosediminibacter', 'Turneriella', 'Cryptobacterium', 'Haliscomenobacter', 'Coriobacterium', 'Acidimicrobium', 'Sphaerobacter', 'Microcystis', 'Chloroherpeton', 'Pseudosphingobacterium', 'Lelliottia', 'Pseudoglutamicibacter', 'Hallella', 'Telluria', 'Desulfonema', 'Denitrobacterium', 'Suttonella', 'Rhodocyclus', 'Rugosimonospora', 'Aidingimonas', 'Salinihabitans', 'Desulfonauticus', 'Salisaeta', 'Lutaonella', 'Pseudohaliea', 'Haematomicrobium', 'Rhodobaca', 'Caldanaerovirga', 'Pseudacidovorax', '[Actinopolyspora]', 'Cucumibacter', 'Cosenzaea', 'Pseudolabrys', 'Dasania', 'Hellea', 'Anaerosporobacter', 'Nicoletella', 'Bibersteinia', '[Actinobacillus]', 'Methylosarcina', 'Acidisoma', 'Rivibacter', 'Biostraticola', 'Oceaniserpentilla', 'Anderseniella', 'Geminicoccus', 'Cereibacter', 'Lapillicoccus', 'Rhodobium', 'Schlesneria', 'Zavarzinella', 'Spongiispira', 'Paucisalibacillus', 'Vulcanibacillus', 'Rubrivivax', 'Yangia', 'Catellicoccus', 'Byssovorax', 'Acaricomes', 'Roseibaca', 'Methylohalobius', 'Fastidiosipila', 'Angulomicrobium', 'Roseicyclus', 'Filibacter', 'Dendrosporobacter', 'Desulfococcus', 'Lacticigenium', 'Glaciibacter', 'Exilispira', 'Schumannella', 'Iamia', 'Acanthopleuribacter', 'Tranquillimonas', 'Pseudosporangium', 'Aureispira', 'Marixanthomonas', 'Smaragdicoccus', 'Mechercharimyces', 'Luedemannella', 'Hydrogenivirga', 'Dethiosulfatibacter', 'Sharpea', 'Plantibacter', 'Heliobacillus', 'Kriegella', 'Garritya', 'Macromonas', 'Shimazuella', 'Gallicola', 'Desulfacinum', 'Lawsonia', 'Parasegetibacter', 'Helcobacillus', 'Megamonas', 'Roseococcus', 'Thiodictyon', 'Elioraea', 'Nitriliruptor', 'Hyalangium', 'Pyxidicoccus', 'Puniceicoccus', 'Denitratisoma', 'Arsenophonus', 'Thermopolyspora', 'Paramaledivibacter', 'Methylobacter', 'Rhodopila', 'Acidisphaera', 'Thiococcus', 'Halocella', 'Buttiauxella', 'Craurococcus', 'Algicola', 'Paracraurococcus', 'Geothrix', 'Coenonia', 'Facklamia', 'Carnimonas', 'Bogoriella', 'Schwartzia', 'Desulfospira', 'Anaerofilum', 'Geovibrio', 'Desulforhabdus', 'Propionigenium', 'Amaricoccus', 'Xylanibacterium', 'Quatrionicoccus', 'Subdoligranulum', 'Faecalibacterium', 'Thiobaca', 'Anaerovorax', 'Pelospora', '[Desulfobacterium]', 'Succinispira', 'Allisonella', 'Rhodocista', 'Cardiobacterium', 'Mitsuokella', 'Atopostipes', 'Leptospirillum', 'Turicibacter', 'Anaeroglobus', 'Selenihalanaerobacter', 'Samsonia', 'Desulforegula', 'Bulleidia', 'Desulfofrigus', 'Acidaminobacter', 'Azovibrio', 'Balnearium', 'Teredinibacter', 'Phocoenobacter', 'Filobacillus', 'Cryomorpha', 'Rhodovarius', 'Viridibacillus', 'Woodsholea', 'Stella', 'Pseudobutyrivibrio', 'Anaerobiospirillum', 'Salana', 'Caminicella', 'Sporocytophaga', 'Sterolibacterium', 'Isobaculum', 'Oleiphilus', 'Falsarthrobacter', 'Parasporobacterium', 'Thermicanus', 'Pragia', 'Gimesia', 'Isochromatium', 'Chromatium', 'Dolosicoccus', 'Anaeroarcus', 'Anaerosinus', 'Thioalkalispira', 'Rubritepida', 'Swaminathania', 'Hespellia', 'Laribacter', 'Lachnobacterium', 'Crossiella', 'Propioniferax', 'Neochlamydia', 'Papillibacter', 'Seinonella', 'Thermoflavimicrobium', 'Smithella', 'Sporobacterium', 'Alkalispirillum', 'Thermohalobacter', 'Xylanimicrobium', 'Peredibacter', 'Anaeromusa', 'Desulfocella', 'Methylorhabdus', 'Thiobacter', 'Saccharibacter', 'Enhygromyxa', 'Thiofilum', 'Micropruina', 'Sporichthya', 'Desulfonispora', 'Eremococcus', 'Malonomonas', 'Formivibrio', 'Succinivibrio', 'Succinimonas', 'Balneatrix', 'Ferribacterium', 'Granulicatella', 'Ignavigranum', 'Ruminobacter', 'Demetria', 'Terracoccus', 'Desulfofustis', 'Rhabdochromatium', 'Succiniclasticum', 'Cetobacterium', 'Methylosphaera', 'Guyparkeria', 'Piscirickettsia', 'Thermodesulforhabdus', 'Wolinella', 'Pseudobacteroides', 'Rikenella', 'Spirilliplanes', 'Hydrogenobaculum', 'Pibocella', 'Desulfatibacillum', 'Aquicella', 'Cryptanaerobacter', 'Garciella', 'Allobaculum', 'Dermatophilus', 'Acetonema', 'Persicirhabdus', 'Thiofaba', 'Anaerosphaera', 'Thermosulfidibacter', 'Kandleria', 'Lutispora', 'Nitratiruptor', 'Planktothricoides', 'Holophaga', 'Chrysiogenes', 'Tyzzerella', 'Parascardovia', 'Anaerophaga', 'Thiorhodospira', 'Shuttleworthia', 'Catelliglobosispora', 'Intestinibacter', 'Anaerofustis', 'Catenibacterium', 'Vulcanithermus', 'Alicycliphilus', 'Leminorella', 'Simonsiella', 'Plesiocystis', 'Coprobacillus', 'Phaseolibacter', 'Thermobrachium', 'Verrucomicrobium', 'Catonella', 'Thermocrispum', 'Abiotrophia', 'Pseudoflavonifractor', 'Aeriscardovia', 'Desulfovirga', 'Citreicella', 'Parafuscosporella', 'Marquandomyces', 'Currahomyces', 'Cladosporium', 'Mycoleptodiscus', 'Aspergillus', 'Pecoramyces', 'Zasmidium', 'Pseudohamigera', 'Pseudocamarosporium', 'Bambusicola', 'Thyrostroma', 'Sidera', 'Anastomitrabeculia', '[Candida]', 'Meyerozyma', 'Diutina', 'Candida', 'Neoolivea', 'Araucariomyces', 'Occultibambusa', 'Tetraploa', 'Neohelicascus', 'Helicosporium', 'Pseudoasteromassaria', 'Fusiformiseptata', 'Lentistoma', 'Lindgomyces', 'Lentithecium', 'Aquimassariosphaeria', 'Submersispora', 'Pseudoxylomyces', 'Ascagilis', 'Hongkongmyces', 'Roussoella', 'Neohelicomyces', 'Aquihelicascus', 'Rhodophana', 'Stilbohypoxylon', 'Phaeoseptum', 'Pseudodactylaria', 'Metarhizium', 'Neofusicoccum', 'Botryosphaeria', 'Savitreea', 'Farysia', 'Yamadazyma', 'Annulatascus', 'Gymnosporangium', 'Unilacryma', 'Dacryonaema', 'Sporormurispora', 'Dothidotthia', 'Wicklowia', 'Dictyosporella', 'Cytospora', 'Mendogia', 'Synfenestella', 'Fenestella', 'Arthrinium', 'Thysanorea', 'Mucispora', 'Distoseptispora', 'Kwoniella', 'Rogerpetersonia', 'Lecanicillium', 'Symmetrospora', 'Torula', 'Teunia', 'Arachnomyces', 'Pochonia', 'Phyllosticta', 'Cenangiopsis', 'Fuscopostia', 'Arezzomyces', 'Nannizziopsis', 'Corylicola', 'Puccinia', 'Raffaelea', 'Diversispora', 'Basipetospora', 'Entomortierella', 'Gryganskiella', 'Lunasporangiospora', 'Linnemannia', 'Podila', 'Necromortierella', 'Gamsiella', 'Dissophora', 'Petrakia', 'Endosporium', 'Pseudosclerococcum', 'Inocybe', 'Poculum', 'Ophiodiaporthe', 'Dendrothele', 'Furia', 'Hebeloma', 'Campanella', 'Byssoascus', 'Castanedomyces', 'Ramicandelaber', 'Pinnaticoemansia', 'Mycoemilia', 'Myconymphaea', 'Ceratellopsis', 'Ochraceocephala', 'Ceramothyrium', 'Fennellomyces', 'Terfezia', 'Ragnhildiana', 'Constantinomyces', 'Capnobotryella', 'Hyphozyma', 'Symbiotaphrina', 'Trichosporon', 'Pandora', 'Zychaea', 'Krasilnikovozyma', 'Erysiphe', 'Malassezia', 'Basidioascus', 'Derxomyces', 'Sugitazyma', 'Graphium', 'Naumovozyma', 'Pseudoplectania', 'Pseudosperma', 'Sporoschisma', 'Endogone', 'Myrmaecium', 'Scheffersomyces', 'Archaeorhizomyces', 'Zanclospora', 'Hasegawazyma', 'Calyptrozyma', 'Pseudosigmoidea', 'Schizosaccharomyces', 'Neoaquastroma', 'Vinositunica', 'Jimgerdemannia', 'Gigaspora', 'Entomophaga', 'Dentiscutata', 'Phlyctochytrium', 'Microascospora', 'Scutellospora', 'Nakazawaea', 'Acrogenospora', 'Xenoplectosphaerella', 'Phomatospora', 'Sordaria', 'Melomastia', 'Parathyridaria', 'Ramusculicola', 'Floricola', 'Anthosulcatispora', 'Neoroussoella', 'Pseudomassarina', 'Stemphylium', 'Leptospora', 'Chaetosphaeronema', 'Periconia', 'Brunneofusispora', 'Pseudohelminthosporium', 'Sigarispora', 'Pseudolophiostoma', 'Pseudocapulatispora', 'Sclerenchymomyces', 'Alloleptosphaeria', 'Hermatomyces', 'Anthodidymella', 'Dictyocheirospora', 'Aquadictyospora', 'Massariosphaeria', 'Fusiformispora', 'Leucaenicola', 'Subplenodomus', 'Heterocephalacria', 'Neomicrosphaeropsis', 'Leptosphaeria', 'Tubariomyces', 'Aquimonospora', 'Pachylepyrium', 'Cryomyces', 'Phialocephala', 'Xeropilidium', 'Bullera', 'Camporesiomyces', 'Aquastroma', 'Pseudodidymocyrtis', 'Phlyctema', 'Pseudocoleophoma', 'Phacidium', 'Pezicula', 'Neopyrenochaeta', 'Neodermea', 'Neoascochyta', 'Melanops', 'Diaporthe', 'Corniculariella', 'Apiognomonia', 'Ciliosporella', 'Capnodium', 'Ascochyta', 'Alloneottiosporina', 'Rhytidhysteron', 'Triseptata', 'Lonicericola', 'Pseudochaetosphaeronema', 'Camposporium', 'Meliola', 'Pleurotheciella', 'Bactrodesmium', 'Neoastrosphaeriella', 'Neosetophoma', 'Paralulworthia', 'Diatrypella', 'Foliophoma', 'Neodidymelliopsis', 'Xenodidymella', 'Verruconis', 'Saprochaete', 'Magnusiomyces', 'Rubroshiraia', 'Phyllachora', 'Oxydothis', 'Striatiguttula', 'Longicorpus', 'Yunnanomyces', 'Archaeospora', 'Neofavolus', 'Picipes', 'Mortierella', 'Parathyridariella', 'Funneliformis', 'Basidiobolus', 'Tritirachium', 'Lobosporangium', 'Tricispora', 'Gaertneriomyces', 'Melanomma', 'Sungia', 'Golubevia', 'Trimmatothelopsis', 'Scytinostroma', 'Racocetra', 'Lasionectriopsis', 'Pyrenochaetopsis', 'Neomassarina', 'Memnoniella', 'Longiappendispora', 'Sphaeropsis', 'Nothophoma', 'Didymella', 'Tremateia', 'Montagnula', 'Pseudoroussoella', 'Setoarthopyrenia', 'Aplosporella', 'Muyocopron', 'Yunnanensis', 'Pseudostaurosphaeria', 'Paraleptospora', 'Neoophiobolus', 'Murichromolaenicola', 'Halobyssothecium', 'Melanographium', 'Fasciatispora', 'Keissleriella', 'Callistosporium', 'Fomitopsis', 'Phaeoisaria', 'Ascosacculus', 'Chaetosphaeria', 'Dictyochaeta', 'Tainosphaeria', 'Atractospora', 'Simplicillium', 'Botryotrichum', 'Phialosporostilbe', 'Perenniporia', 'Cylindroconidiis', 'Pseudodidymosphaeria', 'Ochronectria', 'Fuscohilum', 'Kalmusia', 'Umbelopsis', 'Tyrannosorus', 'Keithomyces', 'Paraisaria', 'Camarosporidiella', 'Vishniacozyma', 'Ogataea', 'Pseudoleucosporidium', 'Phaeoacremonium', 'Pseudotruncatella', 'Plenodomus', 'Septoriella', 'Coniochaeta', 'Allodiatrype', 'Allocryptovalsa', 'Allophoma', 'Vaginatispora', 'Neokalmusia', 'Kevinhydea', 'Alternaria', 'Comoclathris', 'Paraphaeosphaeria', 'Spegazzinia', 'Parastagonospora', 'Annulohypoxylon', 'Letendraea', 'Coltricia', 'Neomyrmecridium', 'Xenoanthostomella', 'Setoapiospora', 'Srinivasanomyces', 'Bhagirathimyces', 'Conioscypha', 'Nemania', 'Halorosellinia', 'Hypoxylon', 'Xenoacremonium', 'Asterodiscus', 'Lasiodiplodia', 'Halotestudina', 'Amarenographium', 'Ophiocordyceps', 'Rommelaarsia', 'Pseudoachroiostachys', 'Paracylindrocarpon', 'Neopestalotiopsis', 'Lasionectria', 'Dictyosporium', 'Clonostachys', 'Beltraniella', 'Phaeosphaeria', 'Kazachstania', 'Mucor', 'Alpestrisphaeria', 'Hanseniaspora', 'Sodiomyces', 'Pseudopestalotiopsis', 'Pestalotiopsis', 'Halobasidium', 'Cordyceps', 'Barbatosphaeria', 'Elbamycella', 'Pyrenidium', 'Digitodesmium', 'Phaeopoacea', 'Liua', 'Inosperma', 'Savoryella', 'Wojnowiciella', 'Galiicola', 'Brunneomurispora', 'Ganoderma', 'Ctenomyces', 'Canomyces', 'Hydeomyces', 'Murilentithecium', 'Pleuroascus', 'Entimomentora', 'Venustampulla', 'Paramassaria', 'Dictyothyriella', 'Micropeltis', 'Nodulosphaeria', 'Muriphaeosphaeria', 'Parabambusicola', 'Blackwellomyces', 'Canalisporium', 'Lophiotrema', 'Capronia', 'Cryonesomyces', 'Conlarium', 'Neodatronia', 'Megasporia', 'Antrodia', 'Vittaliana', 'Ramoconidiophora', 'Triadelphia', 'Fluminicola', 'Hyphodiscus', 'Telimena', 'Gloeopycnis', 'Toshionella', 'Starmerella', 'Metschnikowia', 'Pyrenula', 'Kraurogymnocarpa', 'Debaryomyces', 'Pseudoneoconiothyrium', 'Diddensiella', 'Solicoccozyma', 'Penicillium', 'Leptographium', 'Cryptococcus', 'Phaeotheca', 'Zygosaccharomyces', 'Exophiala', 'Neofabraea', 'Duebenia', 'Neopyrenopeziza', 'Dicephalospora', 'Unguiculella', 'Lachnum', 'Lanceolata', 'Neomollisia', 'Cadophora', 'Lophodermium', 'Pleohelicoon', 'Diplodia', 'Stagonosporopsis', 'Gloniopsis', 'Pseudoberkleasmium', 'Atrocalyx', 'Ernakulamia', 'Anteaglonium', 'Amorocoelophoma', 'Tubeufia', 'Cycasicola', 'Filosporella', 'Mycofalcella', 'Neocochlearomyces', 'Blastosporium', 'Coryneum', 'Hymenoscyphus', 'Mytilinidion', 'Chloridium', 'Paradictyoarthrinium', 'Acuminatispora', 'Byssosphaeria', 'Holmiella', 'Hysterographium', 'Dermea', 'Microsphaeropsis', 'Translucidithyrium', 'Aculeata', 'Peroneutypa', 'Kirschsteiniothelia', 'Neocamarosporium', 'Neophaeosphaeria', 'Acrospermum', 'Emydomyces', 'Dendryphiella', 'Polyphilus', 'Khaleijomyces', 'Massarina', 'Rhamphoriopsis', 'Gliocladiopsis', 'Helicascus', 'Harmajaea', 'Grandibotrys', 'Barrenia', 'Seimatosporium', 'Absidia', 'Atractiella', 'Heitmania', 'Sporidesmium', 'Phialemonium', 'Crassiperidium', 'Collapsimycopappus', 'Barnettozyma', 'Apiorhynchostoma', 'Lentomitella', 'Camarosporium', 'Longitudinalis', 'Epithamnolia', 'Purpurepithecium', 'Nigrograna', 'Coltriciella', 'Microthecium', 'Harzia', 'Irenopsis', 'Morenoina', 'Classicula', 'Marinophialophora', 'Dematiopleospora', 'Superstratomyces', 'Brettanomyces', 'Lauriomyces', 'Pleurotrema', 'Favolus', 'Sulzbacheromyces', 'Podoserpula', 'Ceraceosorus', 'Murispora', 'Echinusitheca', 'Dactylidispora', 'Cornuvesica', 'Meira', 'Gymnoascus', 'Sulcispora', 'Kuraishia', '[Rhodotorula]', 'Phyllozyma', 'Colacogloea', 'Leucosporidium', 'Bannozyma', 'Oberwinklerozyma', 'Microsporomyces', 'Sakaguchia', 'Komagataella', 'Coemansia', 'Saxomyces', 'Synchaetomella', 'Cephaloascus', 'Clavispora', 'Colletotrichum', 'Parasarocladium', 'Neobulgaria', 'Ceratocladium', 'Tortispora', 'Saccharomyces', 'Coniosporium', 'Vermiconia', 'Teratosphaeria', 'Neocucurbitaria', 'Xylogone', 'Yarrowia', 'Pseudogymnoascus', 'Helicostylum', 'Lentamyces', 'Ophioceras', 'Saccharomycopsis', 'Victoriomyces', 'Cyberlindnera', 'Pichia', 'Saturnispora', 'Martiniozyma', 'Conidiobolus', 'Pararamichloridium', 'Paliphora', 'Cantharellus', 'Kodamaea', 'Suhomyces', 'Leptodontidium', 'Pseudeurotium', 'Monosporascus', 'Hyphopichia', 'Phaffomyces', 'Myxotrichum', 'Taphrina', 'Dipodascus', 'Amniculicola', 'Protomyces', 'Cutaneotrichosporon', 'Pascua', 'Rhodotorula', 'Auxarthron', 'Stagonospora', 'Setoseptoria', 'Sclerostagonospora', 'Poaceicola', 'Pleospora', 'Ophiobolus', 'Lophiostoma', 'Pseudoophiobolus', 'Ochroconis', 'Flabellascoma', 'Brevicollum', 'Wickerhamomyces', 'Cryptocoryneum', 'Parafenestella', 'Magnicamarosporium', 'Postia', 'Zalaria', 'Anthostomella', 'Cercophora', 'Myrothecium', 'Neodeightonia', 'Synchytrium', 'Bloxamia', 'Fibroporia', 'Rhizopus', 'Gongronella', 'Lulworthia', 'Pseudomicrostroma', 'Flavodon', 'Corynelia', 'Ustilago', 'Minutisphaera', 'Entorrhiza', 'Darkera', 'Pseudogliophragma', 'Endoraecium', 'Pucciniastrum', 'Sporobolomyces', 'Bensingtonia', 'Ruinenia', 'Uromycladium', 'Chordomyces', 'Leptoxyphium', 'Biatriospora', 'Dothiorella', 'Pseudofusicoccum', 'Neoscytalidium', 'Barriopsis', 'Tolypocladium', 'Paranannizziopsis', 'Hesperomyces', 'Paratritirachium', 'Fumiglobus', 'Batrachochytrium', 'Asteridiella', 'Cyphellophora', 'Westerdykella', 'Chaenotheca', 'Lichtheimia', 'Melanocarpus', 'Thermothelomyces', 'Thielavia', 'Otidea', 'Elsinoe', 'Macrolepiota', 'Leucoagaricus', 'Cortinarius', 'Nectria', 'Trichoderma', 'Falcocladium', 'Clitopilus', 'Dasyspora', 'Geranomyces', 'Lodderomyces', 'Polycephalomyces', 'Amanita', 'Laetisaria', 'Gloeophyllum', 'Sugiyamaella', 'Rhizidium', 'Devriesia', 'Glomerulispora', 'Rachicladosporium', 'Extremus', 'Liberomyces', 'Pontogeneia', 'Monodictys', 'Phaeobotryon', 'Marchandiomyces', 'Jattaea', 'Calosphaeria', 'Didymosphaeria', 'Baudoinia', 'Cladophialophora', 'Minimedusa', 'Resinicium', 'Sympodiomycopsis', 'Acervus', 'Aecidium', 'Ceratocystis', 'Platygloea', 'Phallus', 'Hirsutella', 'Serendipita', 'Uwebraunia', 'Schizonella', 'Uncinocarpus', 'Carcinomyces', 'Bulleribasidium', 'Dioszegia', 'Verticillium', 'Drechmeria', 'Beauveria', 'Psorotichia', 'Hannaella', 'Sarcotrochila', 'Clypeoloculus', 'Aquilomyces', 'Sulcatispora', 'Dacrymyces', 'Ustilaginoidea', 'Quadricrura', 'Mycochaetophora', 'Guignardia', 'Tetrapisispora', 'Citeromyces', 'Monascus', 'Starmera', 'Blastobotrys', 'Geotrichum', 'Ambrosiozyma', 'Kiflimonium', 'Pleurothecium', 'Multiseptospora', 'Aniptodera', 'Saccothecium', 'Loratospora', 'Wojnowicia', 'Uzbekistanica', 'Suttonomyces', 'Pseudostrickeria', 'Populocrescentia', 'Phragmocamarosporium', 'Neostagonospora', 'Italica', 'Hawksworthiana', 'Endoconidioma', 'Dactylidina', 'Coelodictyosporium', 'Bartalinia', 'Astragalicola', 'Pithomyces', 'Astrosphaeriellopsis', 'Staurosphaeria', 'Pseudoproboscispora', 'Magnibotryascoma', 'Paucispora', 'Acericola', 'Inflatispora', 'Neoleptosphaeria', 'Ophiosphaerella', 'Pseudodictyosporium', 'Minimelanolocus', 'Seifertia', 'Laburnicola', 'Helminthosporium', 'Calcarisporium', 'Herpotrichia', 'Platystomum', 'Angustimassarina', 'Hyalotiella', 'Paraconiothyrium', 'Phragmocephala', 'Vamsapriya', 'Pseudorobillarda', 'Eriosporella', 'Conidiocarpus', 'Apiotrichum', 'Sterigmatomyces', 'Moesziomyces', 'Ballistosporomyces', 'Papiliotrema', 'Erythrobasidium', 'Cystobasidium', 'Cystofilobasidium', 'Priceomyces', 'Schwanniomyces', 'Vanrija', 'Gjaerumia', 'Phragmotaenium', 'Filobasidium', 'Phaeotremella', '[Cryptococcus]', 'Goffeauzyma', 'Naganishia', 'Mrakia', 'Sporidiobolus', 'Cystobasidiopsis', 'Wickerhamiella', 'Middelhovenomyces', 'Zygoascus', 'Groenewaldozyma', 'Parascedosporium', 'Kionochaeta', 'Fellomyces', 'Benjaminiella', 'Ascoidea', 'Alloascoidea', 'Peterozyma', 'Babjeviella', 'Vanderwaltozyma', 'Rhizomucor', 'Torulaspora', 'Kregervanrija', 'Teunomyces', 'Eremothecium', 'Kluyveromyces', 'Saccharomycodes', 'Nakaseomyces', 'Poitrasia', 'Pachysolen', 'Paecilomyces', 'Mariannaea', 'Lolia', 'Ambrosiella', 'Valsaria', 'Chrysoporthe', 'Staninwardia', 'Paramycosphaerella', 'Dactylella', 'Thelebolus', 'Pleurostoma', 'Humicola', 'Trichophyton', 'Epidermophyton', 'Zygotorulaspora', 'Pseudallescheria', 'Juncaceicola', 'Tintelnotia', 'Cyanodermella', 'Arthrocladium', 'Thyridaria', 'Helicodendron', 'Pseudozyma', 'Akanthomyces', 'Dicyma', 'Ascotricha', 'Saccharata', 'Sporoschismopsis', 'Paradendryphiella', 'Fonsecaea', 'Tremella', 'Pseudotremella', 'Sirobasidium', 'Holtermanniella', 'Saitozyma', 'Rhynchogastrema', 'Trematosphaeria', 'Falciformispora', 'Emericellopsis', 'Vonarxia', '[Exophiala]', 'Claviradulomyces', 'Circinella', 'Lipomyces', 'Spizellomyces', 'Septoria', 'Hortaea', 'Acremonium', 'Sarocladium', 'Thermoascus', 'Talaromyces', 'Xerochrysium', 'Trichomonascus', 'Xenopyrenochaetopsis', 'Heterospora', 'Pseudoteratosphaeria', 'Pseudotaeniolina', 'Reticulascus', 'Setophoma', 'Xeromyces', 'Gymnascella', 'Neophaeococcomyces', 'Davidsoniella', 'Pilaira', 'Stenocarpella', 'Selenophoma', 'Aureobasidium', 'Neocatenulostroma', 'Paracamarosporium', 'Pseudopyrenochaeta', 'Pyrenochaeta', 'Striatibotrys', 'Cercospora', 'Myxozyma', 'Dipodascopsis', 'Dothiora', 'Loramyces', 'Occultifur', 'Eleutherascus', 'Ustilentyloma', 'Byssochlamys', 'Septofusidium', 'Rasamsonia', 'Danielozyma', 'Lachancea', 'Pseudocercospora', 'Torrubiella', 'Phaeotrichum', 'Lophotrichus', 'Rhinocladiella', 'Metapochonia', 'Holtermannia', 'Sagenomella', 'Malbranchea', 'Arthroderma', 'Spiromastix', 'Lecophagus', 'Muriformistrickeria', 'Marjia', 'Fuscosporella', 'Fissuroma', 'Cryptoclypeus', 'Aquasubmersa', 'Sarimanas', 'Paraophiobolus', 'Neooccultibambusa', 'Guyanagarika', 'Sparticola', 'Pseudocoleodictyospora', 'Zymochalara', 'Poaceascoma', 'Tilletiopsis', 'Acrophialophora', 'Yunzhangia', 'Phenoliferia', 'Wallemia', 'Escovopsis', 'Genolevuria', 'Nadsonia', 'Thamnostylum', 'Geminibasidium', 'Spathaspora', 'Fimicolochytrium', 'Monilochaetes', 'Massaria', 'Backusella', 'Bradymyces', 'Amycosphaerella', 'Celerioriella', 'Acaulospora', 'Dichotomocladium', 'Lobulomyces', 'Pseudobensingtonia', 'Lasiobolidium', 'Triplosphaeria', 'Pseudotetraploa', 'Itersonilia', 'Buckleyzyma', 'Trigonopsis', 'Darksidea', 'Kondoa', 'Rhodosporidiobolus', 'Kellermania', 'Moniliella', 'Piskurozyma', 'Knufia', 'Natipusilla', 'Udeniomyces', 'Kockovaella', 'Lomentospora', 'Xenomassariosphaeria', 'Paraxylaria', 'Pararoussoella', 'Neopaucispora', 'Monoseptella', 'Melanodiplodia', 'Melanocucurbitaria', 'Bhatiellae', 'Muritestudina', 'Brunneoclavispora', 'Ophiobolopsis', 'Cucitella', 'Delonicicola', 'Pseudopaucispora', 'Leptoparies', 'Pendulichytrium', 'Pseudolophiotrema', 'Pseudocryptoclypeus', 'Galeaticarpa', 'Crassimassarina', 'Parapaucispora', 'Crassiparies', 'Pseudocenococcum', 'Calyptosphaeria', 'Neoascotaiwania', 'Praetumpfia', 'Beverwykella', 'Alpinaria', 'Pseudophaeosphaeria', 'Hobus', 'Cyclothyriella', 'Afroraffaelea', 'Fusiconidium', 'Rhopalophora', 'Neomassaria', 'Xiliomyces', 'Bezerromyces', 'Sporidesmioides', 'Bifiguratus', 'Melanoctona', 'Equiseticola', 'Clematidis', 'Forliomyces', 'Subglobosporium', 'Longiostiolum', 'Multilocularia', 'Lachnopsis', 'Pseudofibroporia', 'Towyspora', 'Neophaeocryptopus', 'Stigmatodiscus', 'Rubellisphaeria', 'Farasanispora', 'Angustospora', 'Lophiohelichrysum', 'Pseudomonodictys', 'Plagiascoma', 'Adelosphaeria', 'Acephala', 'Meredithiella', 'Skoua', 'Helicocentralis', 'Guttulispora', 'Lophiopoacea', 'Thielaviopsis', 'Lagenulopsis', 'Acaromyces', 'Harorepupu', 'Robbauera', 'Reniforma', 'Flavomyces', 'Polytolypa', 'Phialophora', 'Violaceomyces', 'Tiarosporella', 'Bussabanomyces', 'Sampaiozyma', 'Spencerozyma', 'Yamadamyces', 'Cyrenella', 'Tephroderma', 'Fereydounia', 'Deakozyma', 'Endomelanconiopsis', 'Xylochrysis', 'Veronaeopsis', 'Sympoventuria', 'Haglerozyma', 'Naematelia', 'Tausonia', 'Phaffia', 'Sterigmatosporidium', 'Gelidatrema', 'Fonsecazyma', 'Dimennazyma', 'Camptophora', 'Meredithblackwellia', 'Omnidemptus', 'Custingophora', 'Ceratolenta', 'Platytrachelon', 'Xylona', 'Botryozyma', 'Sporopachydermia', 'Kurtzmaniella', 'Wickerhamia', 'Aciculoconidium', 'Remersonia', 'Auxarthronopsis', 'Veronaea', 'Rhodocybella', 'Thoreauomyces', 'Infundichalara', 'Brunneomyces', 'Tubakiella', 'Hamigera', 'Spencermartinsiella', 'Ramichloridium', 'Ocala', 'Moheitospora', 'Meristemomyces', 'Arthrocatena', 'Recurvomyces', 'Camarosporomyces', 'Macroventuria', 'Toxicocladosporium', 'Stenella', 'Penidiella', 'Exopassalora', 'Pallidocercospora', 'Zymoseptoria', 'Devonomyces', 'Dissoconium', 'Scytalidium', 'Minutiella', 'Chytridium', 'Leucothecium', 'Leiothecium', 'Medicopsis', 'Paraphoma', 'Phoma', 'Ampelomyces', 'Clydaea', 'Polyschema', 'Burgella', 'Rhamphospora', 'Kappamyces', 'Auriculoscypha', 'Lepidosphaeria', 'Macgarvieomyces', 'Slopeiomyces', 'Cryptotrichosporon', 'Proceropycnis', 'Basidiopycnis', 'Chrysozyma', 'Kurtzmanomyces', 'Tilletiaria', 'Xylomelasma', 'Togniniella', 'Prosopidicola', 'Microallomyces', 'Purpureocillium', 'Gliocephalotrichum', 'Albifimbria', 'Pilidium', 'Parasarcopodium', 'Knoxdaviesia', 'Chlamydosauromyces', 'Arachniotus', 'Bimuria', 'Rhexocercosporidium', 'Ascitendus', 'Allantophomopsiella', 'Thermomucor', 'Chlamydoabsidia', 'Hapsidospora', 'Bulbithecium', 'Spiromyces', 'Allodekkera', 'Fuscostagonospora', 'Gregarithecium', 'Capulatispora', 'Calcarisporiella', 'Versicolorisporium', 'Polyplosphaeria', 'Neoophiosphaerella', 'Katumotoa', 'Pseudospiromastix', 'Bandonia', 'Slooffia', 'Hamamotoa', 'Fellozyma', 'Kuzuhaea', 'Pectinotrichum', 'Ascocalvatia', 'Apinisia', 'Hysterium', 'Aigialus', 'Gloiocephala', 'Piptocephalis', 'Zancudomyces', 'Paraglomus', 'Rozella', 'Hyaloraphidium', 'Polychytrium', 'Allomyces', 'Friedmanniomyces', 'Aliquandostipite', 'Saitoella', 'Dothidea', 'Olpidium', 'Oedohysterium', 'Boothiomyces'])\n"
          ]
        }
      ],
      "source": [
        "print(unique_elems.keys())"
      ]
    },
    {
      "cell_type": "code",
      "execution_count": null,
      "metadata": {},
      "outputs": [],
      "source": [
        "# from Bio import SeqIO\n",
        "# from sklearn.feature_extraction.text import CountVectorizer\n",
        "# cv = CountVectorizer()\n",
        "\n",
        "# unique_elems=dict()\n",
        "\n",
        "# for sequence in SeqIO.parse('ncbi_16s_18s_merged.fasta', \"fasta\"):\n",
        "#     unique_elems[sequence.description.split()[1]]=0# from Bio import SeqIO\n",
        "# from sklearn.feature_extraction.text import CountVectorizer\n",
        "# cv = CountVectorizer()\n",
        "\n",
        "# unique_elems=dict()\n",
        "\n",
        "# for sequence in SeqIO.parse('ncbi_16s_18s_merged.fasta', \"fasta\"):\n",
        "#     unique_elems[sequence.description.split()[1]]=0"
      ]
    },
    {
      "cell_type": "code",
      "execution_count": 4,
      "metadata": {
        "id": "EyKpX2L3TgCt"
      },
      "outputs": [],
      "source": [
        "i=0\n",
        "x_data=[]\n",
        "y_data=[]\n",
        "for el in unique_elems.keys():\n",
        "    unique_elems[el]=i\n",
        "    i+=1\n",
        "\n",
        "i=0\n",
        "for sequence in SeqIO.parse('ncbi_16s_18s_merged.fasta', \"fasta\"):\n",
        "    x_data.append(X[i])\n",
        "    y_data.append(unique_elems[sequence.description.split()[1]])\n",
        "    i+=1\n",
        "\n",
        "lm=len(unique_elems)\n",
        "\n",
        "class_count=dict()\n",
        "\n",
        "for i in range(lm):\n",
        "  class_count[i]=0\n",
        "\n",
        "for el in y_data:\n",
        "  class_count[el]+=1\n",
        "\n"
      ]
    },
    {
      "cell_type": "code",
      "execution_count": 5,
      "metadata": {
        "colab": {
          "base_uri": "https://localhost:8080/",
          "height": 299
        },
        "id": "A9ggUdrYiJAA",
        "outputId": "e8440183-7047-4842-eb69-59c48dfd1b18"
      },
      "outputs": [
        {
          "data": {
            "text/plain": [
              "Text(0.5, 1.0, 'Number of samples corresponding to various genus')"
            ]
          },
          "execution_count": 5,
          "metadata": {},
          "output_type": "execute_result"
        },
        {
          "data": {
            "image/png": "[encoded data removed]",
            "text/plain": [
              "<Figure size 432x288 with 1 Axes>"
            ]
          },
          "metadata": {
            "needs_background": "light"
          },
          "output_type": "display_data"
        }
      ],
      "source": [
        "import matplotlib.pyplot as plt\n",
        "\n",
        "plt.plot(list(class_count.keys()), list(class_count.values()), color='g')\n",
        "plt.title(\"Number of samples corresponding to various genus\")"
      ]
    },
    {
      "cell_type": "code",
      "execution_count": 6,
      "metadata": {
        "id": "AW-DLrIMjDXJ"
      },
      "outputs": [],
      "source": [
        "dominant_classes=([idx for idx, element in enumerate(class_count.values()) if element>50])\n",
        "\n",
        "\n",
        "indices_to_remove=[]\n",
        "\n",
        "for el in dominant_classes:\n",
        "  # print(list(np.where(np.array(y_data) == el))[0])\n",
        "  indices_to_remove+=random.sample(list(np.where(np.array(y_data) == el)[0]),class_count[el]-50)\n",
        "  \n",
        "\n"
      ]
    },
    {
      "cell_type": "code",
      "execution_count": 7,
      "metadata": {
        "id": "UgTzJ6pO-jbl"
      },
      "outputs": [],
      "source": [
        "x_data_new=[]\n",
        "y_data_new=[]\n",
        "\n",
        "for i in range(len(y_data)):\n",
        "  if i not in indices_to_remove:\n",
        "    x_data_new.append(x_data[i])\n",
        "    y_data_new.append(y_data[i])\n",
        "\n"
      ]
    },
    {
      "cell_type": "code",
      "execution_count": 8,
      "metadata": {
        "id": "r5tvx8tutqSI"
      },
      "outputs": [],
      "source": [
        "\n",
        "def release_list(a):\n",
        "   del a[:]\n",
        "   del a\n",
        "\n",
        "release_list(x_data)\n",
        "release_list(y_data)"
      ]
    },
    {
      "cell_type": "code",
      "execution_count": 9,
      "metadata": {
        "id": "OpU5_IfQRcyU"
      },
      "outputs": [
        {
          "data": {
            "text/plain": [
              "Text(0.5, 1.0, 'Number of samples corresponding to various genus')"
            ]
          },
          "execution_count": 9,
          "metadata": {},
          "output_type": "execute_result"
        },
        {
          "data": {
            "image/png": "[encoded data removed]",
            "text/plain": [
              "<Figure size 432x288 with 1 Axes>"
            ]
          },
          "metadata": {
            "needs_background": "light"
          },
          "output_type": "display_data"
        }
      ],
      "source": [
        "class_count_new=dict()\n",
        "\n",
        "for i in range(lm):\n",
        "  class_count_new[i]=0\n",
        "for el in y_data_new:\n",
        "  class_count_new[el]+=1\n",
        "\n",
        "\n",
        "plt.plot(list(class_count_new.keys()), list(class_count_new.values()), color='g')\n",
        "plt.title(\"Number of samples corresponding to various genus\")"
      ]
    },
    {
      "cell_type": "code",
      "execution_count": null,
      "metadata": {
        "id": "qQX_8Nptj0gv"
      },
      "outputs": [],
      "source": [
        "# desired_count=dict()\n",
        "\n",
        "# for i in range(lm):\n",
        "#   if class_count[i]<10:\n",
        "#     desired_count[i]=10\n",
        "#   else:\n",
        "#     desired_count[i]=class_count[i]\n"
      ]
    },
    {
      "cell_type": "code",
      "execution_count": null,
      "metadata": {
        "id": "9tWv3VmQhy0m"
      },
      "outputs": [],
      "source": [
        "# from imblearn.over_sampling import SMOTE, RandomOverSampler\n",
        "\n",
        "# oversample = RandomOverSampler(sampling_strategy=desired_count)\n",
        "# x,y=oversample.fit_resample(x_data_new, y_data_new)"
      ]
    },
    {
      "cell_type": "code",
      "execution_count": null,
      "metadata": {
        "id": "WYfUC1Dgs6Cu"
      },
      "outputs": [],
      "source": [
        "\n",
        "# plt.bar(desired_count.keys(), desired_count.values(), color='g')\n",
        "# plt.title(\"Number of samples corresponding to various genus\")"
      ]
    },
    {
      "cell_type": "code",
      "execution_count": 10,
      "metadata": {
        "id": "hQvah_5ptkCJ"
      },
      "outputs": [],
      "source": [
        "x_data=x_data_new.copy()\n",
        "y_data=y_data_new.copy()"
      ]
    },
    {
      "cell_type": "code",
      "execution_count": 11,
      "metadata": {
        "id": "DzMYnTMqTgCu"
      },
      "outputs": [
        {
          "name": "stdout",
          "output_type": "stream",
          "text": [
            "22438\n"
          ]
        }
      ],
      "source": [
        "\n",
        "x_train=[]\n",
        "y_train=[]\n",
        "\n",
        "x_test=[]\n",
        "y_test=[]\n",
        "\n",
        "rare_items=[]\n",
        "\n",
        "for item in class_count_new.keys():\n",
        "  if class_count[item] < 3:\n",
        "    rare_items.append(item)\n",
        "\n",
        "i=0\n",
        "for el in y_data_new:\n",
        "  if el in rare_items:\n",
        "    x_train.append(x_data_new[i])\n",
        "    y_train.append(el)\n",
        "    x_train.append(x_data_new[i])\n",
        "    y_train.append(el)\n",
        "    x_test.append(x_data_new[i])\n",
        "    y_test.append(el)\n",
        "\n",
        "  i+=1\n",
        "\n",
        "\n",
        "x_data,y_data=shuffle(x_data,y_data)\n",
        "\n",
        "x_train+=x_data[:int(len(x_data)*0.8)]\n",
        "y_train+=y_data[:int(len(y_data)*0.8)]\n",
        "\n",
        "\n",
        "x_test+=x_data[int(len(x_data)*0.8):]\n",
        "y_test+=y_data[int(len(y_data)*0.8):]\n",
        "\n",
        "print(len(x_train))\n",
        "\n",
        "y_train=one_hot_encode_2(y_train,len(unique_elems))\n",
        "y_test=one_hot_encode_2(y_test,len(unique_elems))\n",
        "\n",
        "x_train=np.array(x_train,dtype=np.float32)\n",
        "x_train=np.reshape(x_train,(-1,4096,1))\n",
        "\n",
        "x_test=np.array(x_test,dtype=np.float32)\n",
        "x_test=np.reshape(x_test,(-1,4096,1))"
      ]
    },
    {
      "cell_type": "code",
      "execution_count": 14,
      "metadata": {
        "id": "ghugkjLqTovx"
      },
      "outputs": [],
      "source": [
        "import os\n",
        "checkpoint_path = \"training_genomics_kmer/{epoch:03d}/cp-{epoch:04d}\"\n",
        "checkpoint_dir = os.path.dirname(checkpoint_path)\n",
        "\n",
        "cp_callback = tf.keras.callbacks.ModelCheckpoint(filepath=checkpoint_path,\n",
        "                                                 save_weights_only=True,\n",
        "                                                 verbose=1)"
      ]
    },
    {
      "cell_type": "code",
      "execution_count": 15,
      "metadata": {
        "id": "zpgvyARzTgCv"
      },
      "outputs": [
        {
          "name": "stdout",
          "output_type": "stream",
          "text": [
            "Epoch 1/9\n",
            "351/351 [==============================] - 135s 378ms/step - loss: 6.8847 - accuracy: 0.1249 - val_loss: 3.0224 - val_accuracy: 0.4283\n",
            "\n",
            "Epoch 00001: saving model to training_genomics_kmer/001/cp-0001\n",
            "Epoch 2/9\n"
          ]
        }
      ],
      "source": [
        "model=Sequential()\n",
        "model.add((Conv1D(filters=6, kernel_size=6, activation='relu')))\n",
        "model.add((Conv1D(filters=3, kernel_size=6, activation='relu')))\n",
        "model.add(Flatten())\n",
        "model.add(Dense(units=1024,activation='relu'))\n",
        "model.add(Dense(units=lm, activation='softmax'))\n",
        "\n",
        "model.compile(optimizer='adam', loss='categorical_crossentropy', metrics=['accuracy'])\n",
        "# model.load_weights(\"/content/drive/My Drive/training_genomics_kmer/010/cp-0010\")\n",
        "early_stopping = EarlyStopping(monitor='loss', patience=2, mode='min')\n",
        "\n",
        "# history = model.fit(x_train[0:1], y_train[0:1], epochs=1, verbose=1)\n",
        "# model.summary()\n",
        "history = model.fit(x_train, y_train, epochs=9, batch_size=64, validation_data= (x_test,y_test),callbacks=[cp_callback])\n"
      ]
    },
    {
      "cell_type": "code",
      "execution_count": null,
      "metadata": {
        "colab": {
          "base_uri": "https://localhost:8080/",
          "height": 1000
        },
        "id": "mAdxzGQVYKjF",
        "outputId": "01ed2d5d-3bd9-4218-8909-d9a83277693e"
      },
      "outputs": [],
      "source": [
        "from sklearn import metrics\n",
        "\n",
        "preds=model.predict(x_data)\n",
        "\n",
        "y_pred_labels=[np.argmax(el) for el in preds]\n",
        "y_data_labels=[np.argmax(el) for el in y_data]\n",
        "\n",
        "print(metrics.confusion_matrix(y_data_labels, y_pred_labels))\n",
        "\n",
        "print(metrics.classification_report(y_data_labels, y_pred_labels, digits=3))\n"
      ]
    },
    {
      "cell_type": "code",
      "execution_count": null,
      "metadata": {
        "id": "K3PNAaRsWokI"
      },
      "outputs": [],
      "source": [
        "from sklearn.metrics import roc_curve,auc\n",
        "from sklearn.metrics import roc_auc_score\n",
        "\n",
        "fpr = {}\n",
        "tpr = {}\n",
        "thresh ={}\n",
        "roc_auc={}\n",
        "n_class = lm\n",
        "# y_true=np.array(y_true)\n",
        "preds_training_data=model.predict(x_train)\n",
        "# print(preds[0:3])\n",
        "# print(y_test[0:3])\n",
        "\n",
        "for i in range(n_class):\n",
        "  # print(y_train[:,i])\n",
        "\n",
        "  if len(np.unique(y_test[:,i]))==2:\n",
        "    fpr[i], tpr[i], thresh[i] = roc_curve(y_test[:,i], preds[:,i])\n",
        "    roc_auc[i] = auc(fpr[i], tpr[i])"
      ]
    },
    {
      "cell_type": "code",
      "execution_count": null,
      "metadata": {
        "id": "NnKd7ltYfYWo"
      },
      "outputs": [],
      "source": [
        "print(roc_auc)"
      ]
    },
    {
      "cell_type": "code",
      "execution_count": null,
      "metadata": {
        "id": "yk0h8wsoy8m9"
      },
      "outputs": [],
      "source": [
        "release_list(y_data)"
      ]
    },
    {
      "cell_type": "code",
      "execution_count": null,
      "metadata": {
        "id": "s8ZCMvjEs3KZ"
      },
      "outputs": [],
      "source": [
        "import random\n",
        "a=[1,2,3,4]\n",
        "b=random.sample(a,2)\n",
        "print(a)\n",
        "print(b)"
      ]
    }
  ],
  "metadata": {
    "accelerator": "GPU",
    "colab": {
      "collapsed_sections": [],
      "include_colab_link": true,
      "name": "approach_kmer.ipynb",
      "provenance": []
    },
    "interpreter": {
      "hash": "d13be26f8f2314f08ea17dd6124c560f7ae3942ec34d11c0cd23e14a586fdbbb"
    },
    "kernelspec": {
      "display_name": "Python 3.9.7 ('genomics')",
      "language": "python",
      "name": "python3"
    },
    "language_info": {
      "codemirror_mode": {
        "name": "ipython",
        "version": 3
      },
      "file_extension": ".py",
      "mimetype": "text/x-python",
      "name": "python",
      "nbconvert_exporter": "python",
      "pygments_lexer": "ipython3",
      "version": "3.9.7"
    }
  },
  "nbformat": 4,
  "nbformat_minor": 0
}
