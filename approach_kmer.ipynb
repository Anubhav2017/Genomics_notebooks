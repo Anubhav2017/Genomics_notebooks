{
  "cells": [
    {
      "cell_type": "markdown",
      "metadata": {
        "id": "view-in-github",
        "colab_type": "text"
      },
      "source": [
        "<a href=\"https://colab.research.google.com/github/Anubhav2017/Genomics_notebooks/blob/main/approach_kmer.ipynb\" target=\"_parent\"><img src=\"https://colab.research.google.com/assets/colab-badge.svg\" alt=\"Open In Colab\"/></a>"
      ]
    },
    {
      "cell_type": "code",
      "execution_count": 1,
      "metadata": {
        "id": "8XyizGGzTgCp"
      },
      "outputs": [],
      "source": [
        "import numpy as np\n",
        "import tensorflow as tf\n",
        "from tensorflow.keras.models import Sequential\n",
        "from tensorflow.keras.layers import Dense, Dropout, Flatten, Conv1D, MaxPooling1D,Reshape, LSTM, Dropout, TimeDistributed\n",
        "from tensorflow.keras.callbacks import EarlyStopping\n",
        "from sklearn.feature_extraction.text import CountVectorizer\n",
        "\n",
        "\n",
        "from sklearn.utils import shuffle\n",
        "\n",
        "bases={'A':np.array([0,0,0,1]), 'C':np.array([0,0,1,0]), 'G':np.array([0,1,0,0]), 'T':np.array([1,0,0,0])}\n",
        "\n",
        "def Kmers_funct(seq, size):\n",
        "    return [seq[x:x+size].lower() for x in range(len(seq) - size + 1)]\n",
        "\n",
        "def one_hot_encode_2(y,num_classes):\n",
        "    y_encoded=[]\n",
        "    for value in y:\n",
        "\t    letter = [0 for _ in range(num_classes)]\n",
        "\t    letter[value] = 1\n",
        "\t    y_encoded.append(letter)\n",
        "    return np.array(y_encoded,dtype=np.float16)\n",
        "\n"
      ]
    },
    {
      "cell_type": "code",
      "execution_count": 2,
      "metadata": {
        "id": "N2A8S8tGTgCr"
      },
      "outputs": [],
      "source": [
        "import random\n",
        "\n",
        "def selectref(el,pa,pc,pg,pt):\n",
        "\n",
        "  dicref={'U':['T'],\n",
        "  'R':['A','G'],\n",
        "  'Y':['C','T'],\n",
        "  'S':['G','C'],\n",
        "  'W':['A','T'],\n",
        "  'K':['G','T'],\n",
        "  'M':['A','C'],\n",
        "  'B':['C','G','T'],\n",
        "  'D':['A','G','T'],\n",
        "  'H':['A','C','T'],\n",
        "  'V':['A','C','G'],\n",
        "  'N':['A','T','G','C'],\n",
        "  }\n",
        "\n",
        "  dicprobs={'U':[1],\n",
        "  'R':[pa/(pa+pg),pg/(pa+pg)],\n",
        "  'Y':[pc/(pc+pt),pt/(pc+pt)],\n",
        "  'S':[pg/(pc+pg),pc/(pc+pg)],\n",
        "  'W':[pa/(pa+pt),pt/(pa+pt)],\n",
        "  'K':[pg/(pt+pg),pt/(pt+pg)],\n",
        "  'M':[pa/(pa+pc),pc/(pa+pc)],\n",
        "  'B':[pc/(pc+pg+pt),pg/(pc+pg+pt),pt/(pc+pg+pt)],\n",
        "  'D':[pa/(pa+pg+pt),pg/(pa+pg+pt),pt/(pa+pg+pt)],\n",
        "  'H':[pa/(pc+pa+pt),pc/(pc+pa+pt),pt/(pc+pa+pt)],\n",
        "  'V':[pa/(pc+pg+pa),pc/(pc+pg+pa),pg/(pc+pg+pa)],\n",
        "  'N':[pa/(pc+pg+pa+pt),pt/(pc+pg+pa+pt),pg/(pc+pg+pa+pt),pc/(pc+pg+pa+pt)]}\n",
        "\n",
        "  # print(dicprobs[el])\n",
        "  \n",
        "  return np.random.choice(dicref[el],p=dicprobs[el])\n",
        "  # return np.random.choice(dicref[el],p=dicprobs[el])\n",
        "\n",
        "\n",
        "\n"
      ]
    },
    {
      "cell_type": "code",
      "execution_count": 3,
      "metadata": {
        "colab": {
          "base_uri": "https://localhost:8080/"
        },
        "id": "Joff9qRRkLgw",
        "outputId": "e971167e-0720-44f7-daaf-989ccf53a937"
      },
      "outputs": [
        {
          "output_type": "stream",
          "name": "stdout",
          "text": [
            "Drive already mounted at /content/drive; to attempt to forcibly remount, call drive.mount(\"/content/drive\", force_remount=True).\n",
            "Requirement already satisfied: BioPython in /usr/local/lib/python3.7/dist-packages (1.79)\n",
            "Requirement already satisfied: numpy in /usr/local/lib/python3.7/dist-packages (from BioPython) (1.19.5)\n"
          ]
        }
      ],
      "source": [
        "from google.colab import drive\n",
        "drive.mount('/content/drive')\n",
        "!pip install BioPython"
      ]
    },
    {
      "cell_type": "code",
      "execution_count": 4,
      "metadata": {
        "id": "3FdBxbFrGcE5"
      },
      "outputs": [],
      "source": [
        "from collections import defaultdict\n",
        "from Bio import SeqIO\n",
        "import time\n",
        "\n",
        "base_count=defaultdict(None)\n",
        "base_count['A']=0\n",
        "base_count['C']=0\n",
        "base_count['G']=0\n",
        "base_count['T']=0\n",
        "base_count['others']=0\n",
        "# start_time=time.time()\n",
        "for sequence in SeqIO.parse('/content/drive/My Drive/ncbi_16s_18s_merged.fasta', \"fasta\"):\n",
        "    for el in sequence.seq:\n",
        "      if el not in base_count.keys():\n",
        "\n",
        "        base_count['others']+=1\n",
        "      else:\n",
        "        base_count[el]+=1\n",
        "\n",
        "# end_time=time.time()\n"
      ]
    },
    {
      "cell_type": "code",
      "execution_count": 5,
      "metadata": {
        "id": "t8xfLWypNB-b",
        "colab": {
          "base_uri": "https://localhost:8080/"
        },
        "outputId": "99a8c0d5-22b6-4e59-e063-4e8d6939b77c"
      },
      "outputs": [
        {
          "output_type": "stream",
          "name": "stdout",
          "text": [
            "8914482\n",
            "8287069\n",
            "11259465\n",
            "7469168\n"
          ]
        }
      ],
      "source": [
        "na=base_count['A']\n",
        "nc=base_count['C']\n",
        "ng=base_count['G']\n",
        "nt=base_count['T']\n",
        "\n",
        "pa=float(na/(na+nc+ng+nt))\n",
        "pc=float(nc/(na+nc+ng+nt))\n",
        "pg=float(ng/(na+nc+ng+nt))\n",
        "pt=float(nt/(na+nc+ng+nt))\n",
        "\n",
        "print(na)\n",
        "print(nc)\n",
        "print(ng)\n",
        "print(nt)"
      ]
    },
    {
      "cell_type": "code",
      "execution_count": 6,
      "metadata": {
        "colab": {
          "base_uri": "https://localhost:8080/"
        },
        "id": "GLq765UoTgCs",
        "outputId": "a3939731-e7fa-40f9-9697-a165c587b693"
      },
      "outputs": [
        {
          "output_type": "stream",
          "name": "stdout",
          "text": [
            "(24855, 4096)\n"
          ]
        }
      ],
      "source": [
        "from Bio import SeqIO\n",
        "from sklearn.feature_extraction.text import CountVectorizer\n",
        "cv = CountVectorizer()\n",
        "\n",
        "unique_elems=dict()\n",
        "\n",
        "all_sequences=[]\n",
        "\n",
        "for sequence in SeqIO.parse('/content/drive/My Drive/ncbi_16s_18s_merged.fasta', \"fasta\"):\n",
        "    unique_elems[sequence.description.split()[1]]=0\n",
        "    seq=\"\"\n",
        "    for el in sequence.seq:\n",
        "      if el not in base_count.keys():\n",
        "        \n",
        "        seq += (selectref(el,pa,pc,pg,pt))\n",
        "      else:\n",
        "        seq+=el\n",
        "    \n",
        "    words = Kmers_funct(seq, size=6)\n",
        "    joined_sentence = ' '.join(words)\n",
        "    all_sequences.append(joined_sentence)\n",
        "\n",
        "X=cv.fit_transform(all_sequences).toarray()\n",
        "\n",
        "print(X.shape)\n",
        "\n",
        "\n",
        "\n",
        "    \n",
        "    \n",
        "\n",
        "    "
      ]
    },
    {
      "cell_type": "code",
      "execution_count": 7,
      "metadata": {
        "id": "EyKpX2L3TgCt"
      },
      "outputs": [],
      "source": [
        "i=0\n",
        "x_data=[]\n",
        "y_data=[]\n",
        "for el in unique_elems.keys():\n",
        "    unique_elems[el]=i\n",
        "    i+=1\n",
        "\n",
        "i=0\n",
        "for sequence in SeqIO.parse('/content/drive/My Drive/ncbi_16s_18s_merged.fasta', \"fasta\"):\n",
        "    x_data.append(X[i])\n",
        "    y_data.append(unique_elems[sequence.description.split()[1]])\n",
        "    i+=1\n",
        "\n",
        "lm=len(unique_elems)\n",
        "\n",
        "class_count=dict()\n",
        "\n",
        "for i in range(lm):\n",
        "  class_count[i]=0\n",
        "\n",
        "for el in y_data:\n",
        "  class_count[el]+=1\n",
        "\n"
      ]
    },
    {
      "cell_type": "code",
      "execution_count": 8,
      "metadata": {
        "colab": {
          "base_uri": "https://localhost:8080/",
          "height": 298
        },
        "id": "A9ggUdrYiJAA",
        "outputId": "39da3441-2896-4ab6-e758-b4d41a564746"
      },
      "outputs": [
        {
          "output_type": "execute_result",
          "data": {
            "text/plain": [
              "Text(0.5, 1.0, 'Number of samples corresponding to various genus')"
            ]
          },
          "metadata": {},
          "execution_count": 8
        },
        {
          "output_type": "display_data",
          "data": {
            "image/png": "[encoded data removed]",
            "text/plain": [
              "<Figure size 432x288 with 1 Axes>"
            ]
          },
          "metadata": {
            "needs_background": "light"
          }
        }
      ],
      "source": [
        "import matplotlib.pyplot as plt\n",
        "\n",
        "plt.bar(class_count.keys(), class_count.values(), color='g')\n",
        "plt.title(\"Number of samples corresponding to various genus\")"
      ]
    },
    {
      "cell_type": "code",
      "execution_count": 9,
      "metadata": {
        "id": "AW-DLrIMjDXJ"
      },
      "outputs": [],
      "source": [
        "dominant_classes=([idx for idx, element in enumerate(class_count.values()) if element>50])\n",
        "\n",
        "\n",
        "indices_to_remove=[]\n",
        "\n",
        "for el in dominant_classes:\n",
        "  # print(list(np.where(np.array(y_data) == el))[0])\n",
        "  indices_to_remove+=random.choices(list(np.where(np.array(y_data) == el)[0]),k=class_count[el]-50)\n",
        "  \n",
        "\n"
      ]
    },
    {
      "cell_type": "code",
      "execution_count": 10,
      "metadata": {
        "id": "UgTzJ6pO-jbl"
      },
      "outputs": [],
      "source": [
        "x_data_new=[]\n",
        "y_data_new=[]\n",
        "\n",
        "for i in range(len(x_data)):\n",
        "  if i not in indices_to_remove:\n",
        "    x_data_new.append(x_data[i])\n",
        "    y_data_new.append(y_data[i])\n",
        "\n"
      ]
    },
    {
      "cell_type": "code",
      "execution_count": 11,
      "metadata": {
        "id": "r5tvx8tutqSI"
      },
      "outputs": [],
      "source": [
        "\n",
        "def release_list(a):\n",
        "   del a[:]\n",
        "   del a\n",
        "\n",
        "release_list(x_data)\n",
        "release_list(y_data)"
      ]
    },
    {
      "cell_type": "code",
      "execution_count": 12,
      "metadata": {
        "colab": {
          "base_uri": "https://localhost:8080/",
          "height": 298
        },
        "id": "OpU5_IfQRcyU",
        "outputId": "687a92bd-4d44-4870-b3f8-5b16ac2bb7a5"
      },
      "outputs": [
        {
          "output_type": "execute_result",
          "data": {
            "text/plain": [
              "Text(0.5, 1.0, 'Number of samples corresponding to various genus')"
            ]
          },
          "metadata": {},
          "execution_count": 12
        },
        {
          "output_type": "display_data",
          "data": {
            "image/png": "[encoded data removed]",
            "text/plain": [
              "<Figure size 432x288 with 1 Axes>"
            ]
          },
          "metadata": {
            "needs_background": "light"
          }
        }
      ],
      "source": [
        "class_count=dict()\n",
        "\n",
        "for i in range(lm):\n",
        "  class_count[i]=0\n",
        "for el in y_data_new:\n",
        "  class_count[el]+=1\n",
        "\n",
        "\n",
        "plt.bar(class_count.keys(), class_count.values(), color='g')\n",
        "plt.title(\"Number of samples corresponding to various genus\")"
      ]
    },
    {
      "cell_type": "code",
      "execution_count": 13,
      "metadata": {
        "id": "qQX_8Nptj0gv"
      },
      "outputs": [],
      "source": [
        "desired_count=dict()\n",
        "\n",
        "for i in range(lm):\n",
        "  if class_count[i]<10:\n",
        "    desired_count[i]=10\n",
        "  else:\n",
        "    desired_count[i]=class_count[i]\n"
      ]
    },
    {
      "cell_type": "code",
      "execution_count": 14,
      "metadata": {
        "id": "9tWv3VmQhy0m"
      },
      "outputs": [],
      "source": [
        "from imblearn.over_sampling import SMOTE, RandomOverSampler\n",
        "\n",
        "oversample = RandomOverSampler(sampling_strategy=desired_count)\n",
        "x,y=oversample.fit_resample(x_data_new, y_data_new)"
      ]
    },
    {
      "cell_type": "code",
      "execution_count": 15,
      "metadata": {
        "colab": {
          "base_uri": "https://localhost:8080/",
          "height": 298
        },
        "id": "WYfUC1Dgs6Cu",
        "outputId": "8aa56f42-32e5-4999-cdcf-5caba0f4901c"
      },
      "outputs": [
        {
          "output_type": "execute_result",
          "data": {
            "text/plain": [
              "Text(0.5, 1.0, 'Number of samples corresponding to various genus')"
            ]
          },
          "metadata": {},
          "execution_count": 15
        },
        {
          "output_type": "display_data",
          "data": {
            "image/png": "[encoded data removed]",
            "text/plain": [
              "<Figure size 432x288 with 1 Axes>"
            ]
          },
          "metadata": {
            "needs_background": "light"
          }
        }
      ],
      "source": [
        "\n",
        "plt.bar(desired_count.keys(), desired_count.values(), color='g')\n",
        "plt.title(\"Number of samples corresponding to various genus\")"
      ]
    },
    {
      "cell_type": "code",
      "execution_count": 16,
      "metadata": {
        "id": "hQvah_5ptkCJ"
      },
      "outputs": [],
      "source": [
        "x_data=x.copy()\n",
        "y_data=y.copy()"
      ]
    },
    {
      "cell_type": "code",
      "execution_count": 17,
      "metadata": {
        "colab": {
          "base_uri": "https://localhost:8080/"
        },
        "id": "DzMYnTMqTgCu",
        "outputId": "07ab46cd-b20b-4d12-9a55-8d598eebdf8a"
      },
      "outputs": [
        {
          "output_type": "stream",
          "name": "stdout",
          "text": [
            "40354\n"
          ]
        }
      ],
      "source": [
        "\n",
        "# x_train=[]\n",
        "# y_train=[]\n",
        "\n",
        "# rare_items=[]\n",
        "\n",
        "# for item in class_count.keys():\n",
        "#   if class_count[item] < 2:\n",
        "#     rare_items.append(item)\n",
        "\n",
        "# i=0\n",
        "# for el in y_data_new:\n",
        "#   if el in rare_items:\n",
        "#     x_train.append(x_data_new[i])\n",
        "#     y_train.append(el)\n",
        "\n",
        "#   i+=1\n",
        "\n",
        "\n",
        "x_data,y_data=shuffle(x_data,y_data)\n",
        "\n",
        "x_train=x_data[:int(len(x_data)*0.8)]\n",
        "y_train=y_data[:int(len(y_data)*0.8)]\n",
        "\n",
        "\n",
        "x_test=x_data[int(len(x_data)*0.8):]\n",
        "y_test=y_data[int(len(y_data)*0.8):]\n",
        "\n",
        "print(len(x_train))\n",
        "\n",
        "y_train=one_hot_encode_2(y_train,len(unique_elems))\n",
        "y_test=one_hot_encode_2(y_test,len(unique_elems))\n",
        "\n",
        "x_train=np.array(x_train,dtype=np.float32)\n",
        "x_train=np.reshape(x_train,(-1,4096,1))\n",
        "\n",
        "x_test=np.array(x_test,dtype=np.float32)\n",
        "x_test=np.reshape(x_test,(-1,4096,1))"
      ]
    },
    {
      "cell_type": "code",
      "execution_count": 18,
      "metadata": {
        "id": "ghugkjLqTovx"
      },
      "outputs": [],
      "source": [
        "import os\n",
        "checkpoint_path = \"/content/drive/My Drive/training_genomics_kmer/{epoch:03d}/cp-{epoch:04d}\"\n",
        "checkpoint_dir = os.path.dirname(checkpoint_path)\n",
        "\n",
        "cp_callback = tf.keras.callbacks.ModelCheckpoint(filepath=checkpoint_path,\n",
        "                                                 save_weights_only=True,\n",
        "                                                 verbose=1)"
      ]
    },
    {
      "cell_type": "code",
      "execution_count": 19,
      "metadata": {
        "colab": {
          "base_uri": "https://localhost:8080/"
        },
        "id": "zpgvyARzTgCv",
        "outputId": "95b867cf-aa63-41fe-d46d-b9cdff6e62d4"
      },
      "outputs": [
        {
          "output_type": "stream",
          "name": "stdout",
          "text": [
            "1/1 [==============================] - 10s 10s/step - loss: 2.7656e-05 - accuracy: 1.0000\n",
            "Model: \"sequential\"\n",
            "_________________________________________________________________\n",
            " Layer (type)                Output Shape              Param #   \n",
            "=================================================================\n",
            " conv1d (Conv1D)             (None, 4091, 6)           42        \n",
            "                                                                 \n",
            " conv1d_1 (Conv1D)           (None, 4086, 3)           111       \n",
            "                                                                 \n",
            " flatten (Flatten)           (None, 12258)             0         \n",
            "                                                                 \n",
            " dense (Dense)               (None, 1024)              12553216  \n",
            "                                                                 \n",
            " dense_1 (Dense)             (None, 4283)              4390075   \n",
            "                                                                 \n",
            "=================================================================\n",
            "Total params: 16,943,444\n",
            "Trainable params: 16,943,444\n",
            "Non-trainable params: 0\n",
            "_________________________________________________________________\n"
          ]
        }
      ],
      "source": [
        "model=Sequential()\n",
        "model.add((Conv1D(filters=6, kernel_size=6, activation='relu')))\n",
        "model.add((Conv1D(filters=3, kernel_size=6, activation='relu')))\n",
        "model.add(Flatten())\n",
        "model.add(Dense(units=1024,activation='relu'))\n",
        "model.add(Dense(units=lm, activation='softmax'))\n",
        "\n",
        "model.compile(optimizer='adam', loss='categorical_crossentropy', metrics=['accuracy'])\n",
        "model.load_weights(\"/content/drive/My Drive/training_genomics_kmer/010/cp-0010\")\n",
        "early_stopping = EarlyStopping(monitor='loss', patience=2, mode='min')\n",
        "\n",
        "history = model.fit(x_train[0:1], y_train[0:1], epochs=1, verbose=1)\n",
        "model.summary()\n",
        "# history = model.fit(x_train, y_train, epochs=10, batch_size=64, validation_data= (x_test,y_test),callbacks=[cp_callback])\n"
      ]
    },
    {
      "cell_type": "code",
      "execution_count": null,
      "metadata": {
        "id": "mAdxzGQVYKjF"
      },
      "outputs": [],
      "source": [
        "from sklearn import metrics\n",
        "\n",
        "preds=model.predict(x_data)\n",
        "\n",
        "y_pred_labels=[np.argmax(el) for el in preds]\n",
        "y_data_labels=[np.argmax(el) for el in y_data]\n",
        "\n",
        "print(metrics.confusion_matrix(y_data_labels, y_pred_labels))\n",
        "\n",
        "print(metrics.classification_report(y_data_labels, y_pred_labels, digits=3))\n"
      ]
    },
    {
      "cell_type": "code",
      "execution_count": null,
      "metadata": {
        "id": "K3PNAaRsWokI"
      },
      "outputs": [],
      "source": [
        "from sklearn.metrics import roc_curve,auc\n",
        "from sklearn.metrics import roc_auc_score\n",
        "\n",
        "fpr = {}\n",
        "tpr = {}\n",
        "thresh ={}\n",
        "roc_auc={}\n",
        "n_class = lm\n",
        "# y_true=np.array(y_true)\n",
        "preds_training_data=model.predict(x_train)\n",
        "# print(preds[0:3])\n",
        "# print(y_test[0:3])\n",
        "\n",
        "for i in range(n_class):\n",
        "  # print(y_train[:,i])\n",
        "\n",
        "  if len(np.unique(y_test[:,i]))==2:\n",
        "    fpr[i], tpr[i], thresh[i] = roc_curve(y_test[:,i], preds[:,i])\n",
        "    roc_auc[i] = auc(fpr[i], tpr[i])"
      ]
    },
    {
      "cell_type": "code",
      "execution_count": null,
      "metadata": {
        "colab": {
          "base_uri": "https://localhost:8080/"
        },
        "id": "NnKd7ltYfYWo",
        "outputId": "71d79b4c-26c5-47ec-8661-e5b68347a248"
      },
      "outputs": [
        {
          "name": "stdout",
          "output_type": "stream",
          "text": [
            "{0: 1.0, 2: 1.0, 3: 1.0, 6: 1.0, 7: 1.0, 8: 1.0, 9: 1.0, 10: 1.0, 11: 1.0, 12: 1.0, 13: 1.0, 14: 1.0, 15: 1.0, 16: 1.0, 17: 1.0, 18: 1.0, 19: 1.0, 20: 1.0, 21: 1.0, 22: 1.0, 23: 1.0, 24: 1.0, 25: 1.0, 26: 1.0, 27: 1.0, 28: 1.0, 29: 1.0, 30: 1.0, 31: 1.0, 32: 1.0, 33: 1.0, 34: 1.0, 35: 1.0, 36: 1.0, 38: 1.0, 39: 1.0, 40: 1.0, 41: 1.0, 42: 1.0, 43: 1.0, 44: 1.0, 45: 1.0, 46: 1.0, 47: 1.0, 48: 1.0, 49: 1.0, 50: 1.0, 51: 1.0, 52: 1.0, 53: 1.0, 54: 1.0, 55: 1.0, 56: 1.0, 57: 1.0, 58: 1.0, 59: 1.0, 60: 1.0, 61: 1.0, 62: 1.0, 63: 1.0, 64: 1.0, 65: 1.0, 66: 1.0, 67: 1.0, 69: 0.9999929152379063, 70: 1.0, 71: 1.0, 72: 1.0, 74: 1.0, 75: 1.0, 76: 1.0, 77: 1.0, 81: 1.0, 82: 1.0, 83: 1.0, 84: 1.0, 85: 1.0, 86: 1.0, 87: 1.0, 88: 1.0, 89: 1.0, 90: 1.0, 91: 1.0, 92: 1.0, 93: 1.0, 94: 1.0, 96: 1.0, 97: 1.0, 98: 1.0, 100: 1.0, 101: 1.0, 102: 1.0, 103: 1.0, 104: 1.0, 105: 1.0, 106: 1.0, 107: 0.9999752156240705, 109: 1.0, 110: 1.0, 112: 1.0, 113: 1.0, 115: 1.0, 116: 1.0, 117: 1.0, 118: 1.0, 119: 1.0, 120: 1.0, 121: 1.0, 122: 1.0, 123: 1.0, 124: 1.0, 125: 1.0, 126: 1.0, 127: 1.0, 128: 1.0, 130: 1.0, 131: 1.0, 132: 1.0, 133: 1.0, 134: 1.0, 135: 1.0, 136: 1.0, 137: 1.0, 138: 1.0, 140: 1.0, 141: 1.0, 142: 1.0, 143: 1.0, 144: 1.0, 145: 1.0, 146: 1.0, 147: 1.0, 148: 1.0, 149: 1.0, 150: 1.0, 151: 1.0, 152: 1.0, 153: 1.0, 154: 1.0, 155: 1.0, 156: 1.0, 157: 1.0, 158: 1.0, 159: 1.0, 160: 1.0, 161: 1.0, 162: 1.0, 163: 1.0, 164: 1.0, 165: 1.0, 166: 1.0, 167: 1.0, 168: 1.0, 169: 1.0, 170: 1.0, 172: 1.0, 173: 1.0, 174: 1.0, 175: 1.0, 176: 1.0, 177: 1.0, 178: 1.0, 179: 1.0, 180: 1.0, 181: 1.0, 182: 1.0, 183: 1.0, 184: 1.0, 185: 1.0, 187: 1.0, 188: 1.0, 189: 1.0, 190: 1.0, 191: 1.0, 192: 1.0, 193: 1.0, 194: 1.0, 195: 1.0, 196: 1.0, 199: 1.0, 200: 1.0, 201: 1.0, 202: 1.0, 203: 1.0, 204: 1.0, 205: 1.0, 206: 1.0, 207: 1.0, 208: 1.0, 209: 1.0, 210: 1.0, 211: 1.0, 212: 1.0, 213: 1.0, 214: 1.0, 215: 1.0, 216: 1.0, 217: 1.0, 218: 1.0, 219: 1.0, 220: 1.0, 221: 1.0, 222: 1.0, 224: 1.0, 225: 1.0, 226: 1.0, 227: 1.0, 228: 1.0, 229: 1.0, 230: 1.0, 231: 1.0, 232: 1.0, 234: 1.0, 235: 1.0, 236: 1.0, 237: 1.0, 238: 1.0, 239: 1.0, 240: 1.0, 242: 1.0, 243: 1.0, 244: 1.0, 245: 1.0, 246: 1.0, 247: 1.0, 248: 1.0, 249: 1.0, 250: 1.0, 251: 1.0, 252: 1.0, 253: 1.0, 254: 1.0, 255: 1.0, 256: 1.0, 257: 1.0, 258: 1.0, 259: 1.0, 260: 1.0, 261: 1.0, 262: 1.0, 263: 1.0, 264: 1.0, 265: 1.0, 266: 1.0, 267: 1.0, 268: 1.0, 269: 1.0, 270: 1.0, 271: 1.0, 272: 1.0, 273: 1.0, 274: 1.0, 275: 1.0, 276: 1.0, 277: 1.0, 278: 1.0, 279: 1.0, 280: 1.0, 281: 1.0, 282: 1.0, 284: 1.0, 286: 1.0, 287: 1.0, 289: 1.0, 290: 1.0, 291: 1.0, 292: 1.0, 293: 1.0, 294: 1.0, 295: 1.0, 296: 1.0, 297: 1.0, 298: 1.0, 299: 1.0, 300: 1.0, 301: 1.0, 302: 1.0, 303: 1.0, 304: 1.0, 305: 1.0, 306: 1.0, 307: 1.0, 308: 1.0, 309: 1.0, 310: 1.0, 312: 1.0, 314: 1.0, 315: 1.0, 316: 1.0, 317: 1.0, 318: 1.0, 319: 1.0, 320: 1.0, 322: 1.0, 323: 1.0, 324: 1.0, 325: 1.0, 326: 1.0, 327: 1.0, 328: 1.0, 329: 1.0, 330: 1.0, 331: 1.0, 332: 1.0, 333: 1.0, 334: 1.0, 335: 1.0, 336: 1.0, 338: 1.0, 339: 1.0, 340: 1.0, 341: 1.0, 342: 1.0, 343: 1.0, 344: 1.0, 345: 1.0, 346: 1.0, 347: 1.0, 348: 1.0, 349: 1.0, 350: 1.0, 351: 1.0, 352: 1.0, 353: 1.0, 354: 1.0, 355: 1.0, 356: 1.0, 357: 1.0, 359: 1.0, 360: 1.0, 361: 1.0, 362: 1.0, 363: 1.0, 364: 1.0, 365: 1.0, 366: 1.0, 367: 1.0, 368: 1.0, 370: 1.0, 371: 1.0, 372: 1.0, 373: 1.0, 374: 1.0, 377: 1.0, 378: 1.0, 379: 1.0, 380: 1.0, 381: 1.0, 382: 1.0, 383: 1.0, 384: 1.0, 385: 1.0, 386: 1.0, 387: 1.0, 388: 1.0, 389: 1.0, 390: 1.0, 391: 1.0, 392: 1.0, 393: 1.0, 394: 1.0, 395: 1.0, 396: 1.0, 397: 1.0, 398: 1.0, 400: 1.0, 401: 1.0, 402: 1.0, 403: 1.0, 405: 0.9988101140307388, 406: 1.0, 407: 1.0, 408: 1.0, 409: 1.0, 410: 1.0, 411: 1.0, 412: 1.0, 413: 1.0, 414: 1.0, 415: 1.0, 416: 1.0, 417: 1.0, 418: 1.0, 419: 1.0, 420: 1.0, 421: 1.0, 422: 1.0, 423: 1.0, 424: 1.0, 425: 1.0, 426: 1.0, 427: 1.0, 428: 1.0, 429: 1.0, 430: 1.0, 431: 1.0, 432: 1.0, 433: 1.0, 434: 1.0, 435: 1.0, 436: 1.0, 437: 1.0, 438: 1.0, 439: 1.0, 440: 1.0, 441: 1.0, 442: 1.0, 443: 1.0, 444: 1.0, 445: 1.0, 447: 1.0, 448: 1.0, 449: 1.0, 450: 1.0, 451: 1.0, 453: 1.0, 454: 1.0, 456: 1.0, 457: 1.0, 458: 1.0, 460: 1.0, 461: 1.0, 462: 1.0, 463: 1.0, 464: 1.0, 465: 1.0, 466: 1.0, 467: 1.0, 469: 1.0, 470: 1.0, 473: 1.0, 474: 1.0, 475: 1.0, 476: 1.0, 477: 1.0, 478: 1.0, 479: 1.0, 480: 1.0, 481: 1.0, 483: 1.0, 484: 1.0, 485: 1.0, 486: 1.0, 488: 1.0, 489: 1.0, 490: 1.0, 491: 1.0, 492: 1.0, 493: 1.0, 494: 1.0, 495: 1.0, 496: 1.0, 497: 1.0, 498: 1.0, 499: 1.0, 500: 1.0, 501: 1.0, 502: 1.0, 503: 1.0, 504: 1.0, 505: 1.0, 506: 1.0, 507: 1.0, 508: 1.0, 509: 1.0, 511: 1.0, 512: 1.0, 513: 1.0, 514: 1.0, 515: 1.0, 516: 1.0, 517: 1.0, 518: 1.0, 519: 1.0, 520: 1.0, 521: 1.0, 522: 1.0, 523: 1.0, 524: 1.0, 525: 1.0, 526: 1.0, 527: 1.0, 528: 1.0, 529: 1.0, 530: 1.0, 531: 1.0, 532: 1.0, 533: 1.0, 534: 1.0, 535: 1.0, 536: 1.0, 538: 1.0, 539: 1.0, 540: 1.0, 541: 1.0, 542: 1.0, 543: 1.0, 544: 1.0, 545: 1.0, 546: 1.0, 547: 1.0, 548: 1.0, 549: 1.0, 550: 1.0, 551: 1.0, 552: 1.0, 553: 1.0, 554: 1.0, 555: 1.0, 557: 1.0, 558: 1.0, 559: 1.0, 560: 1.0, 561: 1.0, 562: 1.0, 563: 1.0, 564: 1.0, 565: 1.0, 566: 1.0, 567: 1.0, 568: 1.0, 569: 1.0, 570: 1.0, 571: 1.0, 573: 1.0, 574: 1.0, 575: 1.0, 576: 1.0, 577: 1.0, 578: 1.0, 579: 1.0, 580: 1.0, 581: 1.0, 582: 1.0, 583: 1.0, 584: 1.0, 585: 1.0, 586: 1.0, 587: 1.0, 588: 1.0, 589: 1.0, 590: 1.0, 591: 1.0, 592: 1.0, 593: 1.0, 594: 1.0, 595: 1.0, 597: 1.0, 598: 1.0, 600: 1.0, 601: 1.0, 603: 1.0, 604: 1.0, 605: 1.0, 606: 1.0, 607: 1.0, 608: 1.0, 609: 1.0, 610: 1.0, 611: 1.0, 612: 1.0, 613: 1.0, 614: 1.0, 615: 1.0, 616: 1.0, 617: 1.0, 618: 1.0, 619: 1.0, 620: 1.0, 621: 1.0, 622: 1.0, 623: 1.0, 624: 1.0, 625: 1.0, 626: 1.0, 630: 1.0, 631: 1.0, 632: 1.0, 633: 1.0, 634: 1.0, 635: 1.0, 636: 1.0, 637: 1.0, 638: 1.0, 639: 1.0, 640: 1.0, 641: 1.0, 642: 1.0, 643: 1.0, 644: 1.0, 645: 1.0, 646: 1.0, 647: 1.0, 648: 1.0, 650: 1.0, 651: 1.0, 652: 1.0, 653: 1.0, 654: 1.0, 655: 1.0, 657: 1.0, 658: 1.0, 659: 1.0, 660: 1.0, 661: 1.0, 662: 1.0, 663: 1.0, 664: 1.0, 665: 1.0, 666: 1.0, 667: 1.0, 668: 1.0, 669: 1.0, 670: 1.0, 671: 1.0, 672: 1.0, 673: 1.0, 675: 1.0, 676: 1.0, 678: 1.0, 679: 1.0, 681: 1.0, 682: 1.0, 684: 1.0, 685: 1.0, 687: 1.0, 688: 1.0, 689: 1.0, 690: 1.0, 691: 1.0, 692: 1.0, 693: 1.0, 694: 1.0, 695: 1.0, 696: 1.0, 697: 1.0, 698: 1.0, 699: 1.0, 700: 1.0, 701: 1.0, 702: 1.0, 703: 1.0, 704: 1.0, 705: 1.0, 706: 1.0, 707: 1.0, 709: 1.0, 710: 1.0, 711: 1.0, 713: 1.0, 714: 1.0, 716: 1.0, 717: 1.0, 718: 1.0, 719: 1.0, 720: 1.0, 721: 1.0, 722: 1.0, 723: 1.0, 724: 1.0, 725: 1.0, 726: 1.0, 727: 1.0, 729: 1.0, 730: 1.0, 731: 1.0, 732: 1.0, 733: 1.0, 734: 1.0, 736: 1.0, 737: 1.0, 738: 1.0, 739: 1.0, 740: 1.0, 741: 1.0, 742: 1.0, 743: 1.0, 744: 1.0, 745: 1.0, 747: 1.0, 748: 1.0, 749: 1.0, 750: 1.0, 752: 1.0, 754: 1.0, 755: 1.0, 756: 1.0, 757: 1.0, 758: 1.0, 759: 1.0, 760: 1.0, 761: 0.9999999999999999, 764: 1.0, 765: 1.0, 766: 1.0, 767: 1.0, 768: 1.0, 769: 1.0, 770: 1.0, 771: 1.0, 772: 1.0, 773: 1.0, 774: 1.0, 775: 1.0, 776: 1.0, 777: 1.0, 778: 1.0, 779: 1.0, 780: 1.0, 782: 1.0, 784: 1.0, 785: 1.0, 786: 1.0, 787: 1.0, 789: 0.9999889770723104, 790: 1.0, 791: 1.0, 792: 1.0, 794: 1.0, 795: 1.0, 796: 1.0, 797: 1.0, 798: 1.0, 799: 1.0, 800: 1.0, 801: 1.0, 802: 1.0, 803: 1.0, 804: 1.0, 805: 1.0, 806: 1.0, 807: 1.0, 808: 1.0, 809: 1.0, 810: 1.0, 811: 1.0, 812: 1.0, 814: 1.0, 815: 1.0, 816: 1.0, 817: 1.0, 818: 1.0, 820: 1.0, 821: 1.0, 825: 1.0, 826: 1.0, 827: 1.0, 829: 1.0, 830: 1.0, 831: 1.0, 832: 1.0, 833: 1.0, 834: 1.0, 835: 1.0, 836: 1.0, 837: 1.0, 838: 1.0, 839: 1.0, 840: 1.0, 841: 1.0, 843: 1.0, 844: 1.0, 845: 1.0, 846: 1.0, 847: 1.0, 848: 1.0, 849: 1.0, 850: 1.0, 851: 1.0, 852: 1.0, 853: 1.0, 854: 1.0, 855: 1.0, 856: 1.0, 857: 1.0, 858: 1.0, 861: 1.0, 862: 1.0, 863: 1.0, 864: 1.0, 865: 1.0, 866: 1.0, 867: 1.0, 868: 1.0, 869: 1.0, 872: 1.0, 873: 1.0, 874: 1.0, 876: 1.0, 877: 1.0, 878: 1.0, 879: 1.0, 880: 1.0, 881: 1.0, 882: 1.0, 883: 1.0, 884: 1.0, 885: 1.0, 886: 1.0, 887: 1.0, 888: 1.0, 889: 1.0, 890: 1.0, 891: 1.0, 892: 1.0, 893: 1.0, 894: 1.0, 895: 1.0, 896: 1.0, 897: 1.0, 898: 1.0, 899: 1.0, 900: 1.0, 901: 1.0, 902: 1.0, 903: 1.0, 904: 1.0, 905: 1.0, 906: 1.0, 907: 1.0, 908: 1.0, 909: 1.0, 910: 1.0, 911: 1.0, 912: 1.0, 913: 1.0, 914: 1.0, 915: 1.0, 916: 1.0, 917: 1.0, 918: 1.0, 919: 1.0, 920: 1.0, 921: 1.0, 922: 1.0, 923: 1.0, 924: 1.0, 925: 1.0, 926: 1.0, 927: 1.0, 928: 1.0, 929: 1.0, 930: 1.0, 932: 1.0, 933: 1.0, 934: 1.0, 935: 1.0, 936: 1.0, 937: 1.0, 938: 1.0, 939: 1.0, 940: 1.0, 941: 1.0, 942: 1.0, 943: 1.0, 944: 1.0, 945: 1.0, 946: 1.0, 947: 1.0, 948: 1.0, 949: 1.0, 950: 1.0, 951: 1.0, 953: 1.0, 955: 1.0, 957: 1.0, 958: 1.0, 959: 1.0, 960: 1.0, 961: 1.0, 962: 1.0, 963: 1.0, 964: 1.0, 965: 1.0, 966: 1.0, 967: 1.0, 968: 1.0, 969: 1.0, 970: 1.0, 971: 1.0, 972: 1.0, 973: 1.0, 974: 1.0, 975: 1.0, 976: 1.0, 977: 1.0, 978: 1.0, 979: 1.0, 981: 1.0, 982: 1.0, 983: 1.0, 985: 1.0, 986: 1.0, 987: 1.0, 988: 1.0, 989: 1.0, 990: 1.0, 991: 1.0, 992: 1.0, 993: 1.0, 994: 1.0, 995: 1.0, 996: 1.0, 997: 1.0, 998: 1.0, 999: 1.0, 1000: 1.0, 1001: 1.0, 1002: 1.0, 1003: 1.0, 1006: 1.0, 1007: 1.0, 1008: 1.0, 1009: 1.0, 1010: 1.0, 1011: 1.0, 1012: 1.0, 1014: 1.0, 1015: 1.0, 1017: 1.0, 1018: 1.0, 1019: 1.0, 1020: 1.0, 1021: 1.0, 1022: 0.9999504017458586, 1023: 1.0, 1024: 1.0, 1025: 1.0, 1026: 1.0, 1027: 1.0, 1028: 1.0, 1030: 1.0, 1031: 1.0, 1032: 1.0, 1034: 1.0, 1035: 1.0, 1036: 1.0, 1037: 1.0, 1038: 1.0, 1039: 1.0, 1041: 1.0, 1042: 1.0, 1043: 1.0, 1044: 1.0, 1045: 1.0, 1046: 1.0, 1048: 1.0, 1049: 1.0, 1050: 1.0, 1051: 1.0, 1052: 1.0, 1053: 1.0, 1054: 1.0, 1055: 1.0, 1056: 1.0, 1058: 1.0, 1059: 1.0, 1060: 1.0, 1061: 1.0, 1062: 1.0, 1063: 1.0, 1064: 1.0, 1066: 1.0, 1067: 1.0, 1068: 1.0, 1069: 1.0, 1070: 1.0, 1071: 1.0, 1073: 1.0, 1074: 1.0, 1075: 1.0, 1077: 1.0, 1078: 1.0, 1079: 1.0, 1080: 1.0, 1081: 1.0, 1082: 1.0, 1083: 1.0, 1084: 1.0, 1085: 1.0, 1086: 1.0, 1087: 1.0, 1088: 1.0, 1089: 1.0, 1090: 1.0, 1091: 1.0, 1093: 1.0, 1094: 1.0, 1095: 1.0, 1096: 1.0, 1097: 1.0, 1099: 1.0, 1100: 1.0, 1101: 1.0, 1104: 1.0, 1105: 1.0, 1107: 1.0, 1108: 1.0, 1109: 1.0, 1110: 1.0, 1111: 1.0, 1112: 1.0, 1113: 1.0, 1114: 1.0, 1115: 1.0, 1116: 1.0, 1117: 1.0, 1118: 1.0, 1119: 1.0, 1120: 1.0, 1121: 1.0, 1122: 1.0, 1123: 1.0, 1124: 1.0, 1125: 1.0, 1126: 1.0, 1127: 1.0, 1128: 1.0, 1129: 1.0, 1130: 1.0, 1131: 1.0, 1132: 1.0, 1133: 1.0, 1134: 1.0, 1135: 1.0, 1136: 1.0, 1137: 1.0, 1138: 1.0, 1139: 1.0, 1140: 1.0, 1141: 1.0, 1143: 1.0, 1144: 1.0, 1145: 1.0, 1146: 1.0, 1147: 1.0, 1148: 1.0, 1149: 1.0, 1150: 1.0, 1151: 1.0, 1152: 1.0, 1153: 1.0, 1154: 1.0, 1155: 1.0, 1156: 1.0, 1158: 1.0, 1159: 1.0, 1160: 1.0, 1161: 1.0, 1163: 1.0, 1164: 1.0, 1165: 1.0, 1167: 1.0, 1168: 1.0, 1169: 1.0, 1170: 1.0, 1171: 1.0, 1172: 1.0, 1173: 1.0, 1175: 1.0, 1176: 1.0, 1177: 1.0, 1178: 1.0, 1179: 1.0, 1180: 1.0, 1181: 1.0, 1182: 1.0, 1183: 1.0, 1184: 1.0, 1185: 1.0, 1186: 1.0, 1187: 1.0, 1188: 1.0, 1189: 1.0, 1190: 1.0, 1191: 1.0, 1192: 1.0, 1193: 1.0, 1194: 1.0, 1195: 1.0, 1196: 1.0, 1197: 1.0, 1198: 1.0, 1199: 1.0, 1200: 0.9999999999999999, 1201: 1.0, 1202: 1.0, 1203: 1.0, 1204: 1.0, 1205: 1.0, 1206: 1.0, 1207: 1.0, 1208: 1.0, 1210: 1.0, 1212: 1.0, 1213: 1.0, 1214: 1.0, 1215: 1.0, 1216: 1.0, 1217: 1.0, 1218: 1.0, 1219: 1.0, 1220: 1.0, 1222: 1.0, 1223: 1.0, 1224: 1.0, 1225: 1.0, 1226: 1.0, 1227: 1.0, 1228: 1.0, 1229: 1.0, 1230: 1.0, 1231: 1.0, 1232: 1.0, 1233: 1.0, 1234: 1.0, 1235: 1.0, 1236: 1.0, 1238: 1.0, 1239: 1.0, 1240: 1.0, 1241: 1.0, 1242: 1.0, 1243: 1.0, 1244: 1.0, 1245: 1.0, 1246: 1.0, 1247: 1.0, 1248: 1.0, 1249: 1.0, 1250: 1.0, 1251: 1.0, 1252: 1.0, 1253: 1.0, 1254: 1.0, 1255: 1.0, 1256: 1.0, 1257: 1.0, 1258: 1.0, 1259: 1.0, 1260: 1.0, 1261: 1.0, 1262: 1.0, 1263: 1.0, 1264: 1.0, 1265: 1.0, 1266: 1.0, 1267: 1.0, 1268: 1.0, 1269: 1.0, 1270: 1.0, 1271: 1.0, 1272: 1.0, 1273: 1.0, 1274: 1.0, 1275: 1.0, 1276: 1.0, 1277: 1.0, 1278: 1.0, 1279: 1.0, 1280: 1.0, 1282: 1.0, 1283: 1.0, 1284: 1.0, 1285: 1.0, 1286: 1.0, 1288: 1.0, 1289: 1.0, 1290: 1.0, 1291: 1.0, 1292: 1.0, 1293: 1.0, 1294: 1.0, 1295: 1.0, 1296: 1.0, 1297: 1.0, 1298: 1.0, 1299: 1.0, 1300: 1.0, 1301: 1.0, 1302: 1.0, 1303: 1.0, 1304: 1.0, 1305: 1.0, 1306: 1.0, 1307: 1.0, 1308: 1.0, 1309: 1.0, 1310: 1.0, 1311: 1.0, 1312: 1.0, 1313: 1.0, 1314: 1.0, 1315: 1.0, 1319: 1.0, 1320: 1.0, 1321: 1.0, 1322: 1.0, 1323: 1.0, 1324: 1.0, 1326: 1.0, 1327: 1.0, 1328: 1.0, 1330: 1.0, 1331: 1.0, 1332: 1.0, 1333: 1.0, 1334: 1.0, 1336: 1.0, 1337: 1.0, 1338: 1.0, 1340: 1.0, 1342: 1.0, 1343: 1.0, 1344: 1.0, 1345: 1.0, 1346: 1.0, 1347: 1.0, 1348: 1.0, 1350: 1.0, 1351: 1.0, 1352: 1.0, 1353: 1.0, 1354: 1.0, 1355: 1.0, 1357: 1.0, 1358: 1.0, 1359: 1.0, 1360: 1.0, 1361: 1.0, 1362: 1.0, 1363: 1.0, 1364: 1.0, 1365: 1.0, 1366: 1.0, 1368: 1.0, 1370: 1.0, 1371: 1.0, 1372: 1.0, 1373: 1.0, 1374: 1.0, 1375: 1.0, 1376: 1.0, 1377: 1.0, 1378: 1.0, 1379: 1.0, 1380: 1.0, 1381: 1.0, 1382: 1.0, 1383: 1.0, 1384: 1.0, 1385: 1.0, 1386: 1.0, 1387: 1.0, 1388: 1.0, 1389: 1.0, 1390: 1.0, 1391: 1.0, 1392: 1.0, 1393: 1.0, 1394: 1.0, 1395: 1.0, 1396: 1.0, 1397: 1.0, 1398: 1.0, 1400: 1.0, 1401: 1.0, 1402: 1.0, 1403: 1.0, 1404: 1.0, 1405: 1.0, 1406: 1.0, 1407: 1.0, 1408: 1.0, 1409: 1.0, 1411: 1.0, 1412: 1.0, 1413: 1.0, 1415: 1.0, 1416: 1.0, 1417: 1.0, 1418: 1.0, 1419: 1.0, 1420: 1.0, 1421: 1.0, 1422: 1.0, 1423: 1.0, 1424: 1.0, 1425: 1.0, 1427: 1.0, 1428: 1.0, 1429: 1.0, 1430: 1.0, 1431: 1.0, 1432: 1.0, 1434: 1.0, 1435: 1.0, 1436: 1.0, 1437: 1.0, 1438: 1.0, 1440: 1.0, 1441: 1.0, 1444: 1.0, 1445: 1.0, 1446: 1.0, 1447: 1.0, 1448: 1.0, 1449: 1.0, 1450: 1.0, 1451: 1.0, 1452: 1.0, 1453: 1.0, 1454: 1.0, 1455: 1.0, 1456: 1.0, 1457: 1.0, 1458: 1.0, 1459: 1.0, 1460: 1.0, 1461: 1.0, 1462: 1.0, 1463: 1.0, 1464: 1.0, 1465: 1.0, 1466: 1.0, 1467: 1.0, 1468: 1.0, 1469: 1.0, 1471: 1.0, 1472: 1.0, 1474: 1.0, 1475: 1.0, 1476: 1.0, 1477: 1.0, 1478: 1.0, 1479: 1.0, 1480: 1.0, 1481: 1.0, 1482: 1.0, 1483: 1.0, 1484: 1.0, 1485: 1.0, 1486: 1.0, 1487: 1.0, 1488: 1.0, 1489: 1.0, 1490: 1.0, 1491: 1.0, 1493: 1.0, 1494: 1.0, 1495: 1.0, 1496: 1.0, 1497: 1.0, 1498: 1.0, 1499: 1.0, 1501: 1.0, 1502: 1.0, 1503: 1.0, 1504: 1.0, 1505: 1.0, 1506: 1.0, 1507: 1.0, 1508: 1.0, 1509: 1.0, 1510: 1.0, 1511: 1.0, 1512: 1.0, 1514: 1.0, 1515: 1.0, 1517: 1.0, 1518: 1.0, 1519: 1.0, 1521: 1.0, 1522: 1.0, 1523: 1.0, 1524: 1.0, 1525: 1.0, 1526: 1.0, 1527: 1.0, 1529: 1.0, 1530: 1.0, 1531: 1.0, 1532: 1.0, 1533: 1.0, 1534: 1.0, 1535: 1.0, 1536: 1.0, 1537: 1.0, 1538: 1.0, 1539: 1.0, 1540: 1.0, 1542: 1.0, 1543: 1.0, 1544: 1.0, 1545: 1.0, 1546: 1.0, 1547: 1.0, 1549: 1.0, 1550: 1.0, 1552: 1.0, 1553: 1.0, 1554: 1.0, 1555: 1.0, 1557: 1.0, 1558: 1.0, 1559: 1.0, 1560: 1.0, 1561: 1.0, 1562: 1.0, 1563: 1.0, 1564: 1.0, 1566: 1.0, 1567: 1.0, 1568: 1.0, 1569: 1.0, 1570: 1.0, 1571: 1.0, 1572: 1.0, 1575: 1.0, 1576: 1.0, 1577: 1.0, 1578: 1.0, 1579: 1.0, 1581: 1.0, 1582: 1.0, 1583: 1.0, 1584: 1.0, 1585: 1.0, 1586: 1.0, 1587: 1.0, 1588: 1.0, 1590: 1.0, 1591: 1.0, 1593: 1.0, 1594: 1.0, 1595: 1.0, 1596: 1.0, 1597: 1.0, 1598: 1.0, 1599: 1.0, 1600: 1.0, 1602: 1.0, 1603: 1.0, 1604: 1.0, 1605: 1.0, 1606: 1.0, 1607: 1.0, 1608: 1.0, 1609: 1.0, 1610: 1.0, 1612: 1.0, 1613: 1.0, 1614: 1.0, 1615: 1.0, 1617: 1.0, 1618: 1.0, 1619: 1.0, 1620: 1.0, 1621: 1.0, 1622: 1.0, 1623: 1.0, 1624: 1.0, 1625: 1.0, 1626: 1.0, 1627: 1.0, 1628: 1.0, 1629: 1.0, 1630: 1.0, 1631: 1.0, 1633: 1.0, 1634: 1.0, 1635: 1.0, 1636: 1.0, 1637: 1.0, 1638: 1.0, 1639: 1.0, 1640: 1.0, 1641: 1.0, 1642: 1.0, 1643: 1.0, 1644: 1.0, 1645: 1.0, 1647: 1.0, 1648: 1.0, 1649: 1.0, 1650: 1.0, 1652: 1.0, 1653: 1.0, 1654: 1.0, 1655: 1.0, 1656: 1.0, 1657: 1.0, 1658: 1.0, 1659: 1.0, 1660: 1.0, 1661: 1.0, 1662: 1.0, 1663: 1.0, 1664: 1.0, 1665: 1.0, 1666: 1.0, 1667: 1.0, 1668: 1.0, 1669: 1.0, 1670: 1.0, 1671: 1.0, 1672: 1.0, 1673: 1.0, 1674: 1.0, 1675: 1.0, 1676: 1.0, 1677: 1.0, 1678: 1.0, 1679: 1.0, 1681: 1.0, 1682: 1.0, 1683: 1.0, 1684: 1.0, 1685: 1.0, 1686: 1.0, 1687: 1.0, 1688: 1.0, 1689: 1.0, 1690: 1.0, 1692: 1.0, 1693: 1.0, 1694: 1.0, 1695: 1.0, 1696: 1.0, 1697: 1.0, 1698: 1.0, 1699: 1.0, 1700: 1.0, 1701: 1.0, 1702: 1.0, 1703: 1.0, 1704: 1.0, 1705: 1.0, 1706: 1.0, 1707: 1.0, 1708: 1.0, 1709: 1.0, 1710: 1.0, 1711: 1.0, 1712: 1.0, 1713: 1.0, 1714: 1.0, 1715: 1.0, 1717: 1.0, 1718: 1.0, 1719: 1.0, 1720: 1.0, 1721: 1.0, 1723: 1.0, 1724: 1.0, 1725: 1.0, 1726: 1.0, 1727: 1.0, 1728: 1.0, 1729: 1.0, 1730: 1.0, 1731: 1.0, 1732: 1.0, 1733: 1.0, 1734: 1.0, 1735: 1.0, 1736: 1.0, 1737: 1.0, 1738: 1.0, 1740: 1.0, 1741: 1.0, 1742: 1.0, 1744: 1.0, 1745: 1.0, 1746: 1.0, 1747: 1.0, 1748: 1.0, 1749: 1.0, 1751: 1.0, 1752: 1.0, 1753: 1.0, 1754: 1.0, 1756: 1.0, 1757: 1.0, 1758: 1.0, 1759: 1.0, 1760: 1.0, 1761: 1.0, 1762: 1.0, 1763: 1.0, 1764: 1.0, 1765: 1.0, 1766: 1.0, 1767: 1.0, 1768: 1.0, 1769: 1.0, 1770: 1.0, 1771: 1.0, 1773: 1.0, 1774: 1.0, 1775: 1.0, 1776: 1.0, 1777: 1.0, 1778: 1.0, 1779: 1.0, 1780: 1.0, 1781: 1.0, 1782: 1.0, 1783: 1.0, 1785: 1.0, 1786: 1.0, 1787: 1.0, 1788: 1.0, 1789: 1.0, 1790: 1.0, 1791: 1.0, 1792: 1.0, 1793: 1.0, 1794: 1.0, 1795: 1.0, 1797: 1.0, 1798: 1.0, 1799: 1.0, 1800: 1.0, 1803: 1.0, 1804: 1.0, 1805: 1.0, 1806: 1.0, 1807: 1.0, 1809: 1.0, 1810: 1.0, 1811: 1.0, 1812: 1.0, 1813: 1.0, 1814: 1.0, 1815: 1.0, 1816: 1.0, 1818: 1.0, 1819: 1.0, 1820: 1.0, 1821: 1.0, 1822: 1.0, 1823: 1.0, 1824: 1.0, 1825: 1.0, 1826: 1.0, 1827: 1.0, 1828: 1.0, 1829: 1.0, 1830: 1.0, 1831: 1.0, 1832: 1.0, 1833: 1.0, 1834: 1.0, 1835: 1.0, 1836: 1.0, 1837: 1.0, 1838: 1.0, 1839: 1.0, 1840: 1.0, 1841: 1.0, 1842: 1.0, 1843: 1.0, 1844: 1.0, 1845: 1.0, 1846: 1.0, 1847: 1.0, 1848: 1.0, 1849: 1.0, 1850: 1.0, 1851: 1.0, 1852: 1.0, 1853: 1.0, 1855: 1.0, 1856: 1.0, 1857: 1.0, 1858: 1.0, 1859: 1.0, 1860: 1.0, 1861: 1.0, 1862: 1.0, 1863: 1.0, 1864: 1.0, 1866: 1.0, 1867: 1.0, 1869: 1.0, 1871: 1.0, 1872: 1.0, 1873: 1.0, 1874: 1.0, 1875: 1.0, 1876: 1.0, 1878: 1.0, 1879: 1.0, 1880: 1.0, 1881: 1.0, 1882: 1.0, 1883: 1.0, 1884: 1.0, 1885: 1.0, 1886: 1.0, 1887: 1.0, 1888: 1.0, 1889: 1.0, 1890: 1.0, 1891: 1.0, 1892: 1.0, 1893: 1.0, 1894: 1.0, 1895: 1.0, 1896: 1.0, 1897: 1.0, 1898: 1.0, 1899: 1.0, 1900: 1.0, 1901: 1.0, 1902: 1.0, 1903: 1.0, 1904: 1.0, 1905: 1.0, 1906: 1.0, 1907: 1.0, 1908: 1.0, 1909: 1.0, 1910: 1.0, 1911: 1.0, 1912: 1.0, 1913: 1.0, 1914: 1.0, 1915: 1.0, 1917: 1.0, 1918: 1.0, 1919: 1.0, 1920: 1.0, 1921: 1.0, 1922: 1.0, 1923: 1.0, 1924: 1.0, 1925: 1.0, 1926: 1.0, 1927: 1.0, 1928: 1.0, 1929: 1.0, 1930: 1.0, 1931: 1.0, 1932: 1.0, 1933: 1.0, 1934: 1.0, 1935: 1.0, 1936: 1.0, 1937: 1.0, 1938: 1.0, 1939: 1.0, 1940: 1.0, 1941: 1.0, 1942: 1.0, 1943: 1.0, 1944: 1.0, 1945: 1.0, 1946: 1.0, 1947: 1.0, 1949: 1.0, 1950: 1.0, 1951: 1.0, 1952: 1.0, 1953: 1.0, 1954: 1.0, 1955: 1.0, 1956: 1.0, 1957: 1.0, 1958: 1.0, 1959: 1.0, 1960: 1.0, 1961: 1.0, 1962: 1.0, 1963: 1.0, 1964: 1.0, 1965: 1.0, 1966: 1.0, 1967: 1.0, 1969: 1.0, 1970: 1.0, 1971: 1.0, 1972: 1.0, 1973: 1.0, 1974: 1.0, 1975: 1.0, 1976: 1.0, 1977: 1.0, 1978: 1.0, 1979: 1.0, 1980: 1.0, 1981: 1.0, 1982: 1.0, 1983: 1.0, 1984: 1.0, 1985: 1.0, 1987: 1.0, 1988: 1.0, 1989: 1.0, 1990: 1.0, 1991: 1.0, 1992: 1.0, 1993: 1.0, 1994: 1.0, 1995: 1.0, 1996: 1.0, 1997: 1.0, 1998: 1.0, 1999: 1.0, 2000: 1.0, 2001: 1.0, 2002: 1.0, 2003: 1.0, 2005: 1.0, 2006: 1.0, 2007: 1.0, 2008: 1.0, 2009: 1.0, 2010: 1.0, 2011: 1.0, 2012: 1.0, 2013: 1.0, 2014: 1.0, 2015: 1.0, 2016: 1.0, 2017: 1.0, 2018: 1.0, 2019: 1.0, 2020: 1.0, 2021: 1.0, 2022: 1.0, 2023: 1.0, 2025: 1.0, 2026: 1.0, 2028: 1.0, 2029: 1.0, 2030: 1.0, 2031: 1.0, 2032: 1.0, 2033: 1.0, 2034: 1.0, 2036: 1.0, 2037: 1.0, 2038: 1.0, 2039: 1.0, 2040: 1.0, 2041: 1.0, 2042: 1.0, 2043: 1.0, 2044: 1.0, 2045: 1.0, 2046: 1.0, 2047: 1.0, 2048: 1.0, 2049: 1.0, 2050: 1.0, 2054: 1.0, 2055: 1.0, 2056: 1.0, 2057: 1.0, 2058: 1.0, 2059: 1.0, 2060: 1.0, 2061: 1.0, 2062: 1.0, 2063: 1.0, 2064: 1.0, 2065: 1.0, 2066: 1.0, 2067: 1.0, 2068: 1.0, 2070: 1.0, 2071: 1.0, 2072: 1.0, 2075: 1.0, 2076: 1.0, 2077: 1.0, 2078: 1.0, 2079: 1.0, 2080: 1.0, 2081: 1.0, 2082: 1.0, 2084: 1.0, 2087: 1.0, 2088: 1.0, 2089: 1.0, 2090: 1.0, 2091: 1.0, 2092: 1.0, 2093: 1.0, 2094: 1.0, 2095: 1.0, 2096: 1.0, 2097: 1.0, 2098: 1.0, 2099: 1.0, 2100: 1.0, 2101: 1.0, 2102: 1.0, 2103: 1.0, 2104: 1.0, 2105: 1.0, 2106: 1.0, 2107: 1.0, 2108: 1.0, 2110: 1.0, 2111: 1.0, 2112: 1.0, 2114: 1.0, 2115: 1.0, 2116: 1.0, 2117: 1.0, 2118: 1.0, 2119: 1.0, 2120: 1.0, 2121: 1.0, 2122: 1.0, 2123: 1.0, 2124: 1.0, 2125: 1.0, 2126: 1.0, 2127: 1.0, 2128: 1.0, 2129: 1.0, 2130: 1.0, 2131: 1.0, 2132: 1.0, 2133: 1.0, 2134: 1.0, 2135: 1.0, 2136: 1.0, 2137: 1.0, 2139: 1.0, 2140: 1.0, 2141: 1.0, 2142: 1.0, 2143: 1.0, 2144: 1.0, 2145: 1.0, 2146: 1.0, 2148: 1.0, 2150: 1.0, 2151: 1.0, 2152: 1.0, 2153: 1.0, 2154: 1.0, 2155: 1.0, 2156: 1.0, 2157: 1.0, 2158: 1.0, 2159: 1.0, 2160: 1.0, 2161: 1.0, 2162: 1.0, 2163: 1.0, 2164: 1.0, 2165: 1.0, 2166: 1.0, 2167: 1.0, 2168: 1.0, 2170: 1.0, 2173: 1.0, 2174: 1.0, 2175: 1.0, 2176: 1.0, 2177: 1.0, 2178: 1.0, 2179: 1.0, 2180: 1.0, 2181: 1.0, 2182: 1.0, 2183: 1.0, 2184: 1.0, 2185: 1.0, 2186: 1.0, 2187: 1.0, 2188: 1.0, 2189: 1.0, 2190: 1.0, 2191: 1.0, 2192: 1.0, 2194: 1.0, 2195: 1.0, 2196: 1.0, 2198: 1.0, 2199: 1.0, 2201: 1.0, 2202: 1.0, 2203: 1.0, 2204: 1.0, 2205: 1.0, 2206: 1.0, 2207: 1.0, 2208: 1.0, 2209: 1.0, 2210: 1.0, 2211: 1.0, 2212: 1.0, 2214: 1.0, 2215: 1.0, 2218: 1.0, 2219: 1.0, 2220: 1.0, 2221: 1.0, 2222: 1.0, 2223: 1.0, 2224: 1.0, 2225: 1.0, 2227: 1.0, 2228: 1.0, 2230: 1.0, 2231: 1.0, 2233: 1.0, 2234: 1.0, 2235: 1.0, 2236: 1.0, 2237: 1.0, 2238: 1.0, 2239: 1.0, 2240: 1.0, 2241: 1.0, 2243: 1.0, 2245: 1.0, 2246: 1.0, 2247: 1.0, 2248: 1.0, 2251: 1.0, 2252: 1.0, 2253: 1.0, 2254: 1.0, 2255: 1.0, 2256: 1.0, 2257: 1.0, 2258: 1.0, 2260: 1.0, 2261: 1.0, 2262: 1.0, 2263: 1.0, 2264: 1.0, 2265: 1.0, 2266: 1.0, 2267: 1.0, 2268: 1.0, 2269: 1.0, 2270: 1.0, 2271: 1.0, 2273: 1.0, 2274: 1.0, 2275: 1.0, 2276: 1.0, 2277: 1.0, 2278: 1.0, 2279: 1.0, 2280: 1.0, 2281: 1.0, 2282: 1.0, 2283: 1.0, 2285: 1.0, 2286: 1.0, 2287: 1.0, 2288: 1.0, 2290: 1.0, 2291: 1.0, 2292: 1.0, 2293: 1.0, 2294: 1.0, 2295: 1.0, 2296: 1.0, 2297: 1.0, 2298: 1.0, 2299: 1.0, 2300: 1.0, 2302: 1.0, 2303: 1.0, 2304: 1.0, 2305: 1.0, 2306: 1.0, 2307: 1.0, 2308: 1.0, 2309: 1.0, 2310: 1.0, 2311: 1.0, 2312: 1.0, 2313: 1.0, 2314: 1.0, 2315: 1.0, 2316: 1.0, 2317: 1.0, 2318: 1.0, 2319: 1.0, 2320: 1.0, 2321: 1.0, 2322: 1.0, 2323: 1.0, 2324: 1.0, 2325: 1.0, 2326: 1.0, 2327: 1.0, 2328: 1.0, 2329: 1.0, 2330: 1.0, 2331: 1.0, 2332: 1.0, 2333: 1.0, 2335: 1.0, 2337: 1.0, 2338: 1.0, 2340: 1.0, 2341: 1.0, 2342: 1.0, 2344: 1.0, 2345: 1.0, 2346: 1.0, 2347: 1.0, 2348: 1.0, 2350: 1.0, 2351: 1.0, 2352: 1.0, 2354: 1.0, 2355: 1.0, 2357: 1.0, 2358: 1.0, 2359: 1.0, 2361: 1.0, 2362: 1.0, 2363: 1.0, 2364: 1.0, 2365: 1.0, 2366: 1.0, 2367: 1.0, 2368: 1.0, 2369: 1.0, 2370: 1.0, 2371: 1.0, 2372: 1.0, 2373: 1.0, 2374: 1.0, 2375: 1.0, 2376: 1.0, 2377: 1.0, 2378: 1.0, 2379: 1.0, 2380: 1.0, 2381: 1.0, 2382: 1.0, 2383: 1.0, 2384: 1.0, 2386: 1.0, 2387: 1.0, 2388: 1.0, 2389: 1.0, 2390: 1.0, 2391: 1.0, 2392: 1.0, 2393: 1.0, 2394: 1.0, 2395: 1.0, 2396: 1.0, 2397: 1.0, 2398: 1.0, 2399: 1.0, 2400: 1.0, 2401: 1.0, 2402: 1.0, 2403: 1.0, 2404: 1.0, 2405: 1.0, 2406: 1.0, 2407: 1.0, 2409: 1.0, 2410: 1.0, 2411: 1.0, 2412: 1.0, 2413: 1.0, 2414: 1.0, 2415: 1.0, 2416: 1.0, 2417: 1.0, 2418: 1.0, 2420: 1.0, 2422: 1.0, 2423: 1.0, 2424: 1.0, 2425: 1.0, 2426: 1.0, 2427: 1.0, 2430: 1.0, 2431: 1.0, 2432: 1.0, 2433: 1.0, 2434: 1.0, 2435: 1.0, 2436: 1.0, 2437: 1.0, 2438: 1.0, 2439: 1.0, 2440: 1.0, 2441: 1.0, 2443: 1.0, 2444: 1.0, 2445: 1.0, 2446: 1.0, 2447: 1.0, 2448: 1.0, 2449: 1.0, 2450: 1.0, 2451: 1.0, 2452: 1.0, 2453: 1.0, 2454: 1.0, 2455: 1.0, 2456: 1.0, 2457: 1.0, 2458: 1.0, 2460: 1.0, 2461: 1.0, 2462: 1.0, 2463: 1.0, 2465: 1.0, 2466: 1.0, 2467: 1.0, 2468: 1.0, 2469: 1.0, 2470: 1.0, 2471: 1.0, 2472: 1.0, 2473: 1.0, 2474: 1.0, 2475: 1.0, 2476: 1.0, 2480: 1.0, 2481: 1.0, 2482: 1.0, 2483: 1.0, 2484: 1.0, 2485: 1.0, 2486: 1.0, 2487: 1.0, 2488: 1.0, 2489: 1.0, 2490: 1.0, 2491: 1.0, 2492: 1.0, 2493: 1.0, 2494: 1.0, 2495: 1.0, 2496: 1.0, 2497: 1.0, 2498: 1.0, 2499: 1.0, 2501: 0.8757683918302597, 2502: 1.0, 2503: 1.0, 2505: 1.0, 2506: 1.0, 2507: 1.0, 2508: 1.0, 2509: 1.0, 2510: 0.9999999999999999, 2511: 1.0, 2512: 1.0, 2514: 1.0, 2515: 1.0, 2516: 1.0, 2517: 1.0, 2518: 1.0, 2519: 1.0, 2520: 1.0, 2523: 1.0, 2524: 1.0, 2525: 1.0, 2526: 1.0, 2528: 1.0, 2529: 1.0, 2530: 1.0, 2531: 1.0, 2532: 1.0, 2533: 1.0, 2534: 1.0, 2535: 1.0, 2536: 1.0, 2537: 1.0, 2538: 1.0, 2539: 1.0, 2540: 1.0, 2541: 1.0, 2542: 1.0, 2543: 1.0, 2544: 1.0, 2545: 1.0, 2546: 1.0, 2549: 1.0, 2550: 1.0, 2551: 1.0, 2552: 1.0, 2553: 1.0, 2554: 1.0, 2555: 1.0, 2556: 1.0, 2557: 1.0, 2559: 1.0, 2560: 1.0, 2561: 1.0, 2562: 1.0, 2563: 1.0, 2564: 1.0, 2565: 1.0, 2566: 1.0, 2567: 1.0, 2568: 1.0, 2569: 1.0, 2570: 1.0, 2571: 1.0, 2572: 1.0, 2573: 1.0, 2574: 1.0, 2575: 1.0, 2576: 1.0, 2577: 1.0, 2578: 1.0, 2579: 1.0, 2580: 1.0, 2581: 1.0, 2582: 1.0, 2583: 1.0, 2584: 1.0, 2585: 1.0, 2586: 1.0, 2587: 1.0, 2588: 1.0, 2589: 1.0, 2590: 1.0, 2591: 1.0, 2592: 1.0, 2593: 1.0, 2594: 1.0, 2595: 1.0, 2596: 1.0, 2597: 1.0, 2599: 1.0, 2600: 1.0, 2601: 1.0, 2602: 1.0, 2603: 1.0, 2604: 1.0, 2605: 1.0, 2606: 1.0, 2607: 1.0, 2608: 1.0, 2609: 1.0, 2610: 1.0, 2613: 1.0, 2614: 1.0, 2616: 1.0, 2617: 1.0, 2618: 1.0, 2619: 1.0, 2620: 1.0, 2621: 1.0, 2622: 1.0, 2623: 1.0, 2624: 1.0, 2625: 1.0, 2627: 1.0, 2629: 1.0, 2630: 1.0, 2632: 1.0, 2633: 1.0, 2634: 1.0, 2635: 1.0, 2637: 1.0, 2638: 1.0, 2639: 1.0, 2640: 1.0, 2641: 1.0, 2642: 1.0, 2643: 1.0, 2644: 1.0, 2646: 1.0, 2647: 1.0, 2648: 1.0, 2649: 1.0, 2650: 1.0, 2651: 1.0, 2652: 1.0, 2653: 1.0, 2654: 1.0, 2656: 1.0, 2657: 1.0, 2658: 1.0, 2659: 1.0, 2661: 1.0, 2662: 1.0, 2663: 1.0, 2664: 1.0, 2665: 1.0, 2666: 1.0, 2667: 1.0, 2668: 1.0, 2669: 1.0, 2670: 1.0, 2671: 1.0, 2673: 1.0, 2674: 1.0, 2675: 1.0, 2676: 1.0, 2677: 1.0, 2678: 1.0, 2679: 1.0, 2680: 1.0, 2681: 1.0, 2682: 1.0, 2683: 1.0, 2685: 1.0, 2686: 1.0, 2687: 1.0, 2688: 1.0, 2689: 1.0, 2690: 1.0, 2691: 1.0, 2692: 1.0, 2693: 1.0, 2694: 1.0, 2695: 1.0, 2697: 1.0, 2698: 1.0, 2699: 1.0, 2700: 1.0, 2701: 1.0, 2702: 1.0, 2704: 1.0, 2705: 1.0, 2706: 1.0, 2707: 1.0, 2708: 1.0, 2709: 1.0, 2710: 1.0, 2711: 1.0, 2712: 1.0, 2713: 1.0, 2714: 1.0, 2715: 1.0, 2716: 1.0, 2717: 1.0, 2718: 1.0, 2721: 1.0, 2722: 1.0, 2723: 1.0, 2724: 1.0, 2725: 1.0, 2726: 1.0, 2727: 1.0, 2728: 1.0, 2729: 1.0, 2730: 1.0, 2732: 1.0, 2733: 1.0, 2734: 1.0, 2735: 1.0, 2736: 1.0, 2739: 1.0, 2740: 1.0, 2741: 1.0, 2742: 1.0, 2743: 1.0, 2744: 1.0, 2745: 1.0, 2746: 1.0, 2747: 1.0, 2748: 1.0, 2749: 1.0, 2750: 1.0, 2751: 1.0, 2752: 1.0, 2753: 1.0, 2754: 1.0, 2755: 1.0, 2758: 1.0, 2759: 1.0, 2760: 1.0, 2761: 1.0, 2762: 1.0, 2763: 1.0, 2764: 1.0, 2765: 1.0, 2766: 1.0, 2767: 1.0, 2768: 1.0, 2769: 1.0, 2770: 1.0, 2771: 1.0, 2772: 1.0, 2773: 1.0, 2774: 1.0, 2775: 1.0, 2776: 1.0, 2777: 1.0, 2778: 1.0, 2779: 1.0, 2780: 1.0, 2781: 1.0, 2782: 1.0, 2783: 1.0, 2784: 1.0, 2785: 1.0, 2786: 1.0, 2787: 1.0, 2788: 1.0, 2789: 1.0, 2790: 1.0, 2791: 1.0, 2792: 1.0, 2793: 1.0, 2794: 1.0, 2795: 1.0, 2796: 1.0, 2797: 1.0, 2798: 1.0, 2799: 1.0, 2800: 1.0, 2802: 1.0, 2803: 1.0, 2804: 1.0, 2805: 1.0, 2806: 1.0, 2807: 1.0, 2808: 1.0, 2809: 1.0, 2810: 1.0, 2811: 1.0, 2812: 1.0, 2813: 1.0, 2814: 1.0, 2815: 1.0, 2816: 1.0, 2817: 1.0, 2819: 1.0, 2820: 1.0, 2821: 1.0, 2822: 1.0, 2823: 1.0, 2824: 1.0, 2825: 1.0, 2826: 1.0, 2827: 1.0, 2829: 1.0, 2830: 1.0, 2832: 1.0, 2833: 1.0, 2835: 1.0, 2836: 1.0, 2837: 1.0, 2838: 1.0, 2839: 1.0, 2840: 1.0, 2841: 1.0, 2842: 1.0, 2843: 1.0, 2844: 1.0, 2845: 1.0, 2846: 1.0, 2847: 1.0, 2848: 1.0, 2849: 1.0, 2851: 1.0, 2852: 1.0, 2853: 1.0, 2854: 1.0, 2855: 1.0, 2856: 1.0, 2857: 1.0, 2858: 1.0, 2859: 1.0, 2860: 1.0, 2861: 1.0, 2862: 1.0, 2863: 1.0, 2864: 1.0, 2865: 1.0, 2866: 1.0, 2867: 1.0, 2868: 1.0, 2869: 1.0, 2870: 1.0, 2872: 1.0, 2873: 1.0, 2874: 1.0, 2875: 1.0, 2876: 1.0, 2877: 1.0, 2878: 1.0, 2879: 1.0, 2880: 1.0, 2881: 1.0, 2882: 1.0, 2883: 1.0, 2885: 1.0, 2887: 1.0, 2888: 1.0, 2889: 1.0, 2890: 1.0, 2891: 1.0, 2892: 1.0, 2894: 1.0, 2895: 1.0, 2897: 1.0, 2898: 1.0, 2899: 1.0, 2900: 1.0, 2901: 1.0, 2902: 1.0, 2903: 1.0, 2904: 1.0, 2905: 1.0, 2908: 1.0, 2909: 1.0, 2910: 1.0, 2911: 1.0, 2912: 1.0, 2913: 1.0, 2914: 1.0, 2915: 1.0, 2916: 1.0, 2918: 1.0, 2919: 1.0, 2920: 1.0, 2921: 1.0, 2922: 1.0, 2923: 1.0, 2924: 1.0, 2925: 1.0, 2927: 1.0, 2928: 1.0, 2929: 1.0, 2930: 1.0, 2931: 1.0, 2934: 1.0, 2935: 1.0, 2936: 1.0, 2937: 1.0, 2938: 1.0, 2939: 1.0, 2940: 1.0, 2941: 1.0, 2942: 1.0, 2943: 1.0, 2944: 1.0, 2945: 1.0, 2946: 1.0, 2947: 1.0, 2948: 1.0, 2949: 1.0, 2950: 1.0, 2951: 1.0, 2952: 1.0, 2953: 1.0, 2954: 1.0, 2955: 1.0, 2956: 1.0, 2957: 1.0, 2958: 1.0, 2959: 1.0, 2960: 1.0, 2961: 1.0, 2962: 1.0, 2963: 1.0, 2965: 1.0, 2966: 1.0, 2967: 1.0, 2969: 1.0, 2970: 1.0, 2972: 1.0, 2973: 1.0, 2974: 1.0, 2975: 1.0, 2976: 1.0, 2978: 1.0, 2979: 1.0, 2980: 1.0, 2981: 1.0, 2982: 1.0, 2983: 1.0, 2984: 1.0, 2985: 1.0, 2986: 1.0, 2987: 1.0, 2988: 1.0, 2989: 1.0, 2990: 1.0, 2992: 1.0, 2993: 1.0, 2995: 1.0, 2996: 1.0, 2997: 1.0, 2998: 1.0, 2999: 1.0, 3000: 1.0, 3001: 1.0, 3002: 1.0, 3003: 1.0, 3004: 1.0, 3005: 1.0, 3006: 1.0, 3007: 1.0, 3008: 1.0, 3009: 1.0, 3010: 1.0, 3011: 1.0, 3012: 1.0, 3014: 1.0, 3015: 1.0, 3016: 1.0, 3017: 1.0, 3018: 1.0, 3019: 1.0, 3020: 1.0, 3021: 1.0, 3022: 1.0, 3023: 1.0, 3024: 1.0, 3025: 1.0, 3027: 1.0, 3028: 1.0, 3030: 1.0, 3031: 1.0, 3032: 1.0, 3033: 1.0, 3034: 1.0, 3035: 1.0, 3036: 1.0, 3037: 1.0, 3038: 1.0, 3039: 1.0, 3040: 1.0, 3041: 1.0, 3042: 1.0, 3043: 1.0, 3044: 1.0, 3045: 1.0, 3046: 1.0, 3047: 1.0, 3048: 1.0, 3049: 1.0, 3050: 1.0, 3051: 1.0, 3052: 1.0, 3053: 1.0, 3054: 1.0, 3055: 1.0, 3056: 1.0, 3058: 1.0, 3059: 1.0, 3060: 1.0, 3061: 1.0, 3062: 1.0, 3063: 1.0, 3064: 1.0, 3065: 1.0, 3066: 1.0, 3067: 1.0, 3068: 1.0, 3069: 1.0, 3070: 1.0, 3071: 1.0, 3072: 1.0, 3073: 1.0, 3074: 1.0, 3075: 1.0, 3076: 1.0, 3077: 1.0, 3078: 1.0, 3079: 1.0, 3080: 1.0, 3081: 1.0, 3082: 1.0, 3083: 1.0, 3084: 1.0, 3085: 1.0, 3086: 1.0, 3087: 1.0, 3088: 1.0, 3089: 1.0, 3090: 1.0, 3091: 1.0, 3092: 1.0, 3093: 1.0, 3095: 1.0, 3096: 1.0, 3097: 1.0, 3098: 1.0, 3099: 1.0, 3100: 1.0, 3101: 1.0, 3102: 1.0, 3103: 1.0, 3105: 1.0, 3106: 1.0, 3107: 1.0, 3109: 1.0, 3110: 1.0, 3111: 1.0, 3112: 1.0, 3113: 1.0, 3114: 1.0, 3115: 1.0, 3117: 1.0, 3118: 1.0, 3119: 1.0, 3120: 1.0, 3121: 1.0, 3122: 1.0, 3123: 1.0, 3125: 1.0, 3126: 1.0, 3127: 1.0, 3128: 1.0, 3130: 1.0, 3131: 1.0, 3132: 1.0, 3133: 1.0, 3134: 1.0, 3135: 1.0, 3136: 1.0, 3137: 1.0, 3138: 1.0, 3139: 1.0, 3140: 1.0, 3141: 1.0, 3142: 1.0, 3143: 1.0, 3144: 1.0, 3146: 1.0, 3147: 1.0, 3148: 1.0, 3149: 1.0, 3150: 1.0, 3151: 1.0, 3152: 1.0, 3153: 1.0, 3154: 1.0, 3155: 1.0, 3156: 1.0, 3157: 1.0, 3158: 1.0, 3159: 1.0, 3160: 0.9999889770723104, 3161: 1.0, 3162: 1.0, 3163: 0.9999504214179474, 3164: 1.0, 3165: 1.0, 3166: 1.0, 3167: 1.0, 3168: 1.0, 3169: 1.0, 3170: 1.0, 3171: 1.0, 3172: 1.0, 3174: 1.0, 3175: 1.0, 3176: 1.0, 3177: 1.0, 3179: 1.0, 3180: 0.9999008624962823, 3181: 1.0, 3182: 1.0, 3183: 1.0, 3184: 1.0, 3185: 1.0, 3186: 1.0, 3187: 1.0, 3188: 1.0, 3189: 1.0, 3190: 1.0, 3191: 1.0, 3192: 1.0, 3193: 1.0, 3194: 1.0, 3195: 1.0, 3196: 1.0, 3197: 1.0, 3199: 1.0, 3200: 1.0, 3201: 1.0, 3202: 1.0, 3203: 0.9999008723235527, 3204: 0.9941514670896114, 3206: 1.0, 3207: 1.0, 3208: 1.0, 3209: 1.0, 3210: 1.0, 3211: 1.0, 3212: 1.0, 3213: 1.0, 3214: 1.0, 3215: 1.0, 3216: 1.0, 3217: 1.0, 3218: 1.0, 3220: 1.0, 3221: 1.0, 3222: 1.0, 3223: 1.0, 3224: 1.0, 3226: 1.0, 3227: 1.0, 3228: 1.0, 3229: 1.0, 3230: 1.0, 3232: 1.0, 3233: 1.0, 3234: 1.0, 3235: 1.0, 3236: 1.0, 3237: 1.0, 3238: 1.0, 3239: 1.0, 3240: 1.0, 3241: 1.0, 3242: 1.0, 3243: 1.0, 3244: 1.0, 3245: 1.0, 3246: 1.0, 3247: 1.0, 3248: 1.0, 3249: 1.0, 3250: 1.0, 3252: 1.0, 3254: 1.0, 3255: 1.0, 3256: 1.0, 3257: 1.0, 3258: 1.0, 3259: 1.0, 3260: 1.0, 3261: 1.0, 3262: 1.0, 3263: 1.0, 3264: 1.0, 3265: 1.0, 3266: 1.0, 3267: 1.0, 3268: 1.0, 3269: 1.0, 3272: 1.0, 3273: 1.0, 3274: 1.0, 3275: 1.0, 3277: 1.0, 3278: 1.0, 3279: 1.0, 3280: 1.0, 3281: 1.0, 3282: 1.0, 3283: 1.0, 3284: 1.0, 3285: 1.0, 3286: 1.0, 3288: 1.0, 3289: 1.0, 3290: 1.0, 3291: 1.0, 3292: 1.0, 3293: 1.0, 3294: 1.0, 3295: 1.0, 3296: 1.0, 3298: 1.0, 3300: 1.0, 3301: 1.0, 3302: 1.0, 3303: 1.0, 3304: 1.0, 3305: 1.0, 3306: 1.0, 3307: 1.0, 3310: 1.0, 3311: 0.9995043124814117, 3313: 1.0, 3314: 1.0, 3315: 1.0, 3316: 1.0, 3317: 1.0, 3318: 1.0, 3319: 1.0, 3320: 1.0, 3321: 1.0, 3322: 1.0, 3323: 1.0, 3324: 1.0, 3325: 1.0, 3326: 1.0, 3327: 1.0, 3328: 1.0, 3329: 1.0, 3330: 1.0, 3331: 1.0, 3334: 1.0, 3335: 1.0, 3336: 1.0, 3337: 0.9999999999999999, 3338: 1.0, 3339: 1.0, 3340: 1.0, 3341: 1.0, 3342: 1.0, 3343: 1.0, 3345: 1.0, 3346: 1.0, 3347: 1.0, 3348: 1.0, 3349: 1.0, 3350: 1.0, 3351: 1.0, 3352: 1.0, 3353: 1.0, 3354: 1.0, 3355: 1.0, 3356: 1.0, 3357: 1.0, 3358: 1.0, 3359: 1.0, 3360: 1.0, 3361: 0.9993060374739764, 3362: 1.0, 3364: 1.0, 3365: 1.0, 3366: 1.0, 3367: 1.0, 3368: 1.0, 3369: 1.0, 3370: 1.0, 3371: 1.0, 3372: 1.0, 3373: 1.0, 3374: 1.0, 3375: 1.0, 3376: 1.0, 3377: 1.0, 3378: 1.0, 3379: 0.9998181758074647, 3380: 1.0, 3381: 1.0, 3383: 1.0, 3384: 1.0, 3385: 1.0, 3386: 1.0, 3387: 1.0, 3388: 1.0, 3389: 1.0, 3390: 1.0, 3391: 1.0, 3392: 1.0, 3393: 1.0, 3394: 1.0, 3395: 1.0, 3396: 1.0, 3397: 1.0, 3398: 1.0, 3401: 1.0, 3402: 1.0, 3403: 1.0, 3405: 1.0, 3406: 1.0, 3407: 1.0, 3409: 0.9999008624962823, 3410: 1.0, 3411: 0.9999008624962824, 3412: 1.0, 3413: 1.0, 3414: 1.0, 3415: 1.0, 3416: 1.0, 3417: 1.0, 3418: 1.0, 3419: 1.0, 3420: 1.0, 3421: 1.0, 3422: 1.0, 3423: 1.0, 3424: 1.0, 3425: 1.0, 3426: 1.0, 3427: 1.0, 3428: 1.0, 3429: 1.0, 3430: 1.0, 3432: 1.0, 3433: 1.0, 3434: 1.0, 3435: 1.0, 3436: 1.0, 3437: 1.0, 3438: 1.0, 3439: 1.0, 3442: 1.0, 3443: 1.0, 3444: 1.0, 3445: 1.0, 3446: 1.0, 3447: 1.0, 3448: 1.0, 3449: 1.0, 3450: 1.0, 3451: 1.0, 3452: 1.0, 3453: 1.0, 3454: 1.0, 3455: 1.0, 3456: 1.0, 3457: 1.0, 3458: 1.0, 3459: 1.0, 3460: 1.0, 3461: 1.0, 3462: 1.0, 3463: 1.0, 3464: 1.0, 3465: 1.0, 3466: 1.0, 3467: 1.0, 3468: 1.0, 3469: 1.0, 3470: 1.0, 3471: 0.9999504263335316, 3473: 1.0, 3474: 1.0, 3475: 1.0, 3476: 1.0, 3477: 1.0, 3478: 0.9999206664022213, 3479: 1.0, 3480: 0.9976202280614774, 3482: 1.0, 3483: 0.9999669508890211, 3484: 1.0, 3485: 1.0, 3486: 1.0, 3487: 1.0, 3488: 1.0, 3489: 1.0, 3491: 1.0, 3492: 1.0, 3493: 1.0, 3494: 1.0, 3495: 1.0, 3496: 1.0, 3497: 1.0, 3498: 1.0, 3499: 1.0, 3500: 1.0, 3501: 0.9993851646172154, 3502: 0.9999504312481411, 3503: 1.0, 3504: 1.0, 3506: 1.0, 3507: 1.0, 3510: 1.0, 3511: 1.0, 3512: 1.0, 3513: 1.0, 3514: 1.0, 3516: 1.0, 3517: 1.0, 3519: 1.0, 3520: 1.0, 3521: 1.0, 3523: 1.0, 3524: 1.0, 3526: 1.0, 3527: 1.0, 3529: 1.0, 3530: 1.0, 3531: 1.0, 3532: 1.0, 3534: 1.0, 3535: 1.0, 3536: 1.0, 3537: 1.0, 3538: 1.0, 3539: 1.0, 3540: 1.0, 3541: 1.0, 3542: 1.0, 3543: 1.0, 3544: 1.0, 3545: 1.0, 3546: 1.0, 3547: 1.0, 3548: 1.0, 3549: 1.0, 3551: 1.0, 3553: 1.0, 3554: 1.0, 3555: 1.0, 3557: 1.0, 3558: 1.0, 3559: 1.0, 3560: 0.999702587488847, 3561: 1.0, 3562: 1.0, 3563: 1.0, 3564: 0.9999256468722117, 3565: 1.0, 3566: 1.0, 3569: 1.0, 3570: 1.0, 3572: 1.0, 3573: 1.0, 3574: 1.0, 3575: 1.0, 3576: 1.0, 3577: 1.0, 3579: 1.0, 3580: 1.0, 3581: 1.0, 3582: 1.0, 3583: 1.0, 3585: 1.0, 3586: 1.0, 3587: 1.0, 3588: 1.0, 3589: 1.0, 3590: 1.0, 3591: 1.0, 3593: 1.0, 3594: 1.0, 3595: 1.0, 3596: 1.0, 3597: 1.0, 3598: 1.0, 3599: 1.0, 3600: 1.0, 3601: 1.0, 3602: 1.0, 3603: 1.0, 3604: 1.0, 3605: 1.0, 3606: 1.0, 3607: 1.0, 3609: 1.0, 3610: 1.0, 3611: 1.0, 3612: 1.0, 3613: 1.0, 3614: 1.0, 3615: 1.0, 3617: 1.0, 3618: 1.0, 3619: 1.0, 3621: 1.0, 3622: 1.0, 3623: 1.0, 3624: 1.0, 3625: 1.0, 3626: 1.0, 3627: 1.0, 3628: 1.0, 3629: 1.0, 3630: 1.0, 3631: 1.0, 3632: 1.0, 3634: 1.0, 3635: 1.0, 3636: 1.0, 3637: 1.0, 3638: 1.0, 3639: 1.0, 3641: 1.0, 3642: 1.0, 3643: 1.0, 3644: 1.0, 3645: 1.0, 3646: 1.0, 3647: 1.0, 3648: 1.0, 3649: 1.0, 3650: 1.0, 3651: 1.0, 3652: 1.0, 3653: 1.0, 3654: 1.0, 3655: 1.0, 3656: 1.0, 3657: 1.0, 3658: 1.0, 3659: 1.0, 3660: 1.0, 3661: 1.0, 3662: 1.0, 3663: 1.0, 3664: 1.0, 3665: 1.0, 3666: 1.0, 3667: 1.0, 3668: 1.0, 3669: 1.0, 3670: 1.0, 3671: 1.0, 3672: 1.0, 3673: 1.0, 3674: 1.0, 3675: 1.0, 3676: 1.0, 3677: 1.0, 3679: 1.0, 3680: 1.0, 3681: 1.0, 3682: 1.0, 3683: 1.0, 3684: 1.0, 3685: 1.0, 3686: 1.0, 3687: 1.0, 3688: 1.0, 3689: 1.0, 3690: 1.0, 3692: 1.0, 3693: 1.0, 3695: 1.0, 3696: 1.0, 3697: 1.0, 3698: 1.0, 3699: 1.0, 3700: 1.0, 3701: 0.9997025874888471, 3702: 0.9999504214179474, 3703: 1.0, 3704: 1.0, 3705: 1.0, 3706: 1.0, 3707: 1.0, 3708: 1.0, 3709: 1.0, 3710: 1.0, 3711: 1.0, 3712: 1.0, 3713: 1.0, 3714: 1.0, 3715: 1.0, 3716: 1.0, 3717: 1.0, 3718: 1.0, 3719: 1.0, 3720: 1.0, 3721: 1.0, 3723: 1.0, 3724: 1.0, 3725: 1.0, 3726: 1.0, 3727: 1.0, 3728: 1.0, 3729: 1.0, 3730: 1.0, 3731: 1.0, 3732: 1.0, 3733: 1.0, 3734: 1.0, 3735: 1.0, 3736: 1.0, 3738: 1.0, 3739: 1.0, 3740: 1.0, 3741: 1.0, 3743: 0.9999504312481412, 3744: 1.0, 3745: 1.0, 3746: 1.0, 3747: 1.0, 3748: 1.0, 3749: 1.0, 3750: 1.0, 3751: 1.0, 3752: 1.0, 3753: 1.0, 3754: 1.0, 3755: 1.0, 3757: 1.0, 3760: 1.0, 3761: 1.0, 3762: 1.0, 3763: 1.0, 3764: 1.0, 3765: 1.0, 3766: 1.0, 3767: 1.0, 3768: 1.0, 3769: 1.0, 3770: 1.0, 3772: 1.0, 3773: 1.0, 3774: 1.0, 3777: 1.0, 3778: 1.0, 3779: 1.0, 3780: 1.0, 3781: 1.0, 3782: 1.0, 3783: 1.0, 3784: 1.0, 3785: 1.0, 3786: 0.9998513084853291, 3787: 1.0, 3791: 1.0, 3792: 1.0, 3794: 1.0, 3795: 1.0, 3796: 1.0, 3797: 1.0, 3798: 1.0, 3799: 1.0, 3800: 1.0, 3801: 1.0, 3802: 1.0, 3803: 1.0, 3804: 1.0, 3805: 1.0, 3807: 1.0, 3808: 1.0, 3809: 1.0, 3810: 1.0, 3811: 1.0, 3812: 1.0, 3814: 1.0, 3815: 1.0, 3816: 1.0, 3818: 1.0, 3820: 1.0, 3821: 1.0, 3822: 1.0, 3823: 1.0, 3824: 1.0, 3825: 1.0, 3827: 1.0, 3828: 1.0, 3830: 1.0, 3831: 1.0, 3832: 1.0, 3833: 1.0, 3834: 1.0, 3835: 1.0, 3836: 1.0, 3837: 0.9996034499851294, 3838: 1.0, 3839: 1.0, 3840: 1.0, 3841: 1.0, 3842: 1.0, 3843: 1.0, 3844: 1.0, 3845: 1.0, 3846: 1.0, 3847: 1.0, 3849: 1.0, 3850: 1.0, 3851: 1.0, 3852: 1.0, 3853: 1.0, 3854: 1.0, 3855: 1.0, 3856: 1.0, 3857: 1.0, 3858: 1.0, 3859: 1.0, 3860: 1.0, 3861: 1.0, 3862: 1.0, 3864: 1.0, 3865: 1.0, 3866: 1.0, 3867: 1.0, 3868: 1.0, 3869: 1.0, 3870: 1.0, 3871: 1.0, 3872: 1.0, 3873: 1.0, 3874: 1.0, 3875: 1.0, 3876: 1.0, 3878: 1.0, 3879: 1.0, 3880: 1.0, 3881: 1.0, 3882: 1.0, 3883: 1.0, 3884: 1.0, 3885: 1.0, 3886: 1.0, 3887: 1.0, 3888: 1.0, 3889: 1.0, 3890: 1.0, 3891: 1.0, 3892: 1.0, 3893: 1.0, 3894: 1.0, 3896: 1.0, 3897: 1.0, 3898: 1.0, 3899: 1.0, 3900: 1.0, 3901: 1.0, 3902: 1.0, 3903: 1.0, 3904: 1.0, 3905: 1.0, 3906: 1.0, 3907: 1.0, 3908: 1.0, 3909: 1.0, 3911: 1.0, 3912: 1.0, 3913: 1.0, 3914: 1.0, 3915: 1.0, 3916: 1.0, 3917: 1.0, 3918: 1.0, 3919: 1.0, 3920: 1.0, 3921: 1.0, 3922: 1.0, 3923: 1.0, 3925: 1.0, 3927: 1.0, 3928: 1.0, 3929: 1.0, 3930: 1.0, 3931: 1.0, 3932: 1.0, 3933: 1.0, 3934: 1.0, 3935: 1.0, 3936: 1.0, 3937: 1.0, 3938: 1.0, 3940: 1.0, 3941: 1.0, 3942: 1.0, 3943: 1.0, 3944: 1.0, 3945: 1.0, 3947: 1.0, 3948: 1.0, 3949: 1.0, 3951: 1.0, 3952: 1.0, 3953: 1.0, 3954: 1.0, 3955: 1.0, 3956: 1.0, 3958: 1.0, 3959: 1.0, 3960: 1.0, 3961: 1.0, 3962: 1.0, 3963: 1.0, 3964: 1.0, 3965: 1.0, 3967: 1.0, 3968: 1.0, 3969: 1.0, 3971: 1.0, 3972: 1.0, 3973: 1.0, 3974: 1.0, 3975: 1.0, 3976: 1.0, 3977: 1.0, 3978: 1.0, 3979: 1.0, 3981: 1.0, 3983: 1.0, 3984: 1.0, 3985: 1.0, 3986: 1.0, 3987: 1.0, 3988: 1.0, 3989: 1.0, 3990: 1.0, 3991: 1.0, 3992: 1.0, 3993: 1.0, 3994: 1.0, 3995: 1.0, 3997: 1.0, 3998: 1.0, 4000: 1.0, 4001: 1.0, 4002: 1.0, 4003: 1.0, 4004: 1.0, 4005: 1.0, 4006: 1.0, 4007: 1.0, 4008: 1.0, 4009: 1.0, 4010: 1.0, 4011: 1.0, 4012: 1.0, 4013: 1.0, 4014: 1.0, 4015: 1.0, 4016: 1.0, 4017: 1.0, 4018: 0.9997356071121687, 4019: 1.0, 4020: 1.0, 4021: 1.0, 4022: 1.0, 4024: 1.0, 4026: 1.0, 4027: 1.0, 4028: 1.0, 4030: 1.0, 4031: 1.0, 4032: 1.0, 4033: 1.0, 4034: 1.0, 4035: 1.0, 4036: 1.0, 4037: 1.0, 4038: 1.0, 4039: 1.0, 4040: 1.0, 4041: 1.0, 4042: 1.0, 4043: 1.0, 4044: 1.0, 4045: 1.0, 4046: 1.0, 4047: 1.0, 4048: 1.0, 4049: 1.0, 4050: 1.0, 4051: 1.0, 4053: 1.0, 4054: 1.0, 4055: 1.0, 4056: 1.0, 4057: 1.0, 4059: 1.0, 4060: 1.0, 4061: 1.0, 4062: 1.0, 4063: 1.0, 4064: 1.0, 4065: 1.0, 4066: 1.0, 4068: 1.0, 4069: 1.0, 4070: 1.0, 4071: 1.0, 4072: 1.0, 4073: 1.0, 4074: 0.9996033713435796, 4075: 1.0, 4076: 1.0, 4077: 1.0, 4078: 1.0, 4079: 1.0, 4080: 1.0, 4081: 1.0, 4082: 1.0, 4083: 1.0, 4084: 1.0, 4085: 1.0, 4086: 1.0, 4087: 0.9999504361617764, 4088: 1.0, 4089: 1.0, 4090: 1.0, 4091: 1.0, 4092: 1.0, 4093: 1.0, 4094: 1.0, 4095: 1.0, 4096: 1.0, 4097: 1.0, 4098: 1.0, 4099: 1.0, 4100: 1.0, 4101: 1.0, 4102: 1.0, 4103: 1.0, 4104: 1.0, 4105: 0.9999504312481411, 4106: 0.9999008723235527, 4107: 1.0, 4108: 1.0, 4109: 1.0, 4110: 1.0, 4111: 1.0, 4112: 1.0, 4113: 1.0, 4114: 1.0, 4115: 1.0, 4116: 1.0, 4117: 1.0, 4118: 1.0, 4119: 1.0, 4120: 1.0, 4121: 1.0, 4122: 1.0, 4123: 1.0, 4125: 1.0, 4126: 1.0, 4127: 1.0, 4128: 1.0, 4129: 1.0, 4131: 1.0, 4132: 1.0, 4133: 1.0, 4134: 1.0, 4135: 1.0, 4136: 1.0, 4137: 1.0, 4138: 1.0, 4139: 1.0, 4140: 1.0, 4141: 1.0, 4142: 1.0, 4144: 1.0, 4145: 1.0, 4146: 1.0, 4148: 1.0, 4149: 1.0, 4150: 1.0, 4151: 1.0, 4152: 1.0, 4153: 1.0, 4154: 1.0, 4155: 1.0, 4156: 1.0, 4157: 1.0, 4158: 1.0, 4159: 1.0, 4160: 1.0, 4161: 1.0, 4162: 1.0, 4163: 1.0, 4164: 1.0, 4165: 1.0, 4166: 1.0, 4167: 1.0, 4168: 1.0, 4169: 1.0, 4170: 1.0, 4171: 1.0, 4172: 1.0, 4173: 1.0, 4174: 1.0, 4175: 1.0, 4176: 1.0, 4177: 1.0, 4178: 1.0, 4180: 1.0, 4181: 1.0, 4182: 1.0, 4183: 1.0, 4184: 1.0, 4185: 1.0, 4186: 1.0, 4187: 1.0, 4188: 1.0, 4189: 1.0, 4191: 1.0, 4192: 1.0, 4193: 1.0, 4194: 1.0, 4195: 1.0, 4196: 1.0, 4197: 1.0, 4198: 1.0, 4199: 1.0, 4200: 1.0, 4202: 1.0, 4203: 1.0, 4204: 1.0, 4206: 1.0, 4207: 1.0, 4208: 1.0, 4209: 1.0, 4210: 1.0, 4211: 1.0, 4212: 1.0, 4213: 1.0, 4214: 1.0, 4215: 1.0, 4216: 0.9999999999999999, 4217: 1.0, 4218: 1.0, 4219: 1.0, 4220: 1.0, 4221: 1.0, 4222: 1.0, 4223: 1.0, 4224: 1.0, 4226: 1.0, 4227: 1.0, 4228: 1.0, 4229: 1.0, 4232: 1.0, 4233: 1.0, 4234: 1.0, 4235: 1.0, 4236: 1.0, 4238: 1.0, 4239: 1.0, 4240: 1.0, 4242: 1.0, 4243: 1.0, 4245: 1.0, 4246: 1.0, 4247: 1.0, 4248: 1.0, 4249: 1.0, 4251: 1.0, 4252: 1.0, 4253: 1.0, 4254: 1.0, 4255: 1.0, 4256: 1.0, 4257: 1.0, 4258: 1.0, 4259: 1.0, 4260: 1.0, 4261: 1.0, 4262: 1.0, 4263: 1.0, 4264: 1.0, 4266: 1.0, 4268: 1.0, 4270: 1.0, 4271: 1.0, 4272: 1.0, 4273: 1.0, 4274: 1.0, 4275: 1.0, 4276: 1.0, 4277: 1.0, 4278: 1.0, 4279: 1.0, 4280: 1.0, 4281: 1.0, 4282: 1.0}\n"
          ]
        }
      ],
      "source": [
        "print(roc_auc)"
      ]
    },
    {
      "cell_type": "code",
      "execution_count": null,
      "metadata": {
        "id": "yk0h8wsoy8m9"
      },
      "outputs": [],
      "source": [
        "release_list(y_data)"
      ]
    },
    {
      "cell_type": "code",
      "execution_count": null,
      "metadata": {
        "colab": {
          "base_uri": "https://localhost:8080/"
        },
        "id": "s8ZCMvjEs3KZ",
        "outputId": "5b7bb891-19d7-4411-b168-01a9ffd9123a"
      },
      "outputs": [
        {
          "name": "stdout",
          "output_type": "stream",
          "text": [
            "[1, 2, 3, 4]\n",
            "[2, 1]\n"
          ]
        }
      ],
      "source": [
        "import random\n",
        "a=[1,2,3,4]\n",
        "b=random.sample(a,2)\n",
        "print(a)\n",
        "print(b)"
      ]
    }
  ],
  "metadata": {
    "accelerator": "GPU",
    "colab": {
      "collapsed_sections": [],
      "name": "approach_kmer.ipynb",
      "provenance": [],
      "include_colab_link": true
    },
    "interpreter": {
      "hash": "8eda46fcdaf684ca6c615bf0acdae196e42139c0edab1eb57e328e85edfac349"
    },
    "kernelspec": {
      "display_name": "Python 3.8.12 64-bit ('genomics': conda)",
      "language": "python",
      "name": "python3"
    },
    "language_info": {
      "codemirror_mode": {
        "name": "ipython",
        "version": 3
      },
      "file_extension": ".py",
      "mimetype": "text/x-python",
      "name": "python",
      "nbconvert_exporter": "python",
      "pygments_lexer": "ipython3",
      "version": "3.8.12"
    }
  },
  "nbformat": 4,
  "nbformat_minor": 0
}