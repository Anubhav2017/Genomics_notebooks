{
  "nbformat": 4,
  "nbformat_minor": 0,
  "metadata": {
    "colab": {
      "name": "inference_lstm.ipynb",
      "provenance": [],
      "collapsed_sections": []
    },
    "kernelspec": {
      "name": "python3",
      "display_name": "Python 3"
    },
    "language_info": {
      "name": "python"
    }
  },
  "cells": [
    {
      "cell_type": "code",
      "source": [
        "import random\n",
        "\n",
        "def selectref(dicref,el):\n",
        "    return random.choice(dicref[el])\n",
        "\n",
        "dicref={'U':['T'],\n",
        "'R':['A','G'],\n",
        "'Y':['C','T'],\n",
        "'S':['G','C'],\n",
        "'W':['A','T'],\n",
        "'K':['G','T'],\n",
        "'M':['A','C'],\n",
        "'B':['C','G','T'],\n",
        "'D':['A','G','T'],\n",
        "'H':['A','C','T'],\n",
        "'V':['A','C','G'],\n",
        "'N':['A','T','G','C'],\n",
        "'A':['A'],\n",
        "'C':['C'],\n",
        "'G':['G'],\n",
        "'T':['T']}"
      ],
      "metadata": {
        "id": "UROW0p7VQm_S"
      },
      "execution_count": 1,
      "outputs": []
    },
    {
      "cell_type": "code",
      "execution_count": null,
      "metadata": {
        "id": "8hbGcjasQIoX"
      },
      "outputs": [],
      "source": [
        "import numpy as np\n",
        "import tensorflow as tf\n",
        "from tensorflow.keras.models import Sequential\n",
        "from tensorflow.keras.layers import Dense, Dropout, Flatten, Conv1D, MaxPooling1D,Reshape, LSTM, Dropout, TimeDistributed\n",
        "from tensorflow.keras.callbacks import EarlyStopping\n",
        "import pickle\n",
        "from sklearn.utils import shuffle\n",
        "\n",
        "bases={'A':np.array([0,0,0,1]), 'C':np.array([0,0,1,0]), 'G':np.array([0,1,0,0]), 'T':np.array([1,0,0,0]),'NA':['0','0','0','0']};\n",
        "\n",
        "#helper function to encode input \n",
        "def one_hot_encode(seq, unique_elems,minlen):\n",
        "    #slice first few bases in the sequence\n",
        "    seq=seq[:minlen]\n",
        "    seq_encoded=[]\n",
        "    for el in seq:\n",
        "        #select the appropriate \n",
        "        seq_encoded.append(bases[selectref(dicref,el)])\n",
        "        \n",
        "    seq=np.array(seq_encoded)\n",
        "\n",
        "    return np.reshape(seq,(seq.shape[0],seq.shape[1],1))\n",
        "\n",
        "def one_hot_encode_2(y,num_classes):\n",
        "    y_encoded=[]\n",
        "    for value in y:\n",
        "\t    letter = [0 for _ in range(num_classes)]\n",
        "\t    letter[value] = 1\n",
        "\t    y_encoded.append(letter)\n",
        "    return np.array(y_encoded,dtype=np.float16)\n",
        "\n",
        "\n",
        "!pip install BioPython\n",
        "\n",
        "from Bio import SeqIO\n",
        "\n",
        "f=open(\"unique_elems.pkl\",\"rb\")\n",
        "unique_elems=pickle.load(f)\n",
        "unique_elems=dict()\n",
        "x_data=[]\n",
        "y_data=[]\n",
        "minlen=302\n",
        "\n",
        "\n",
        "#Enter path to file \n",
        "for sequence in SeqIO.parse('path to file', \"fasta\"):\n",
        "    x_data.append(one_hot_encode(sequence.seq,bases,minlen))\n",
        "    y_data.append(unique_elems[sequence.description.split()[1]])\n",
        "\n",
        "y_data=one_hot_encode_2(y_data,len(unique_elems))\n",
        "\n"
      ]
    },
    {
      "cell_type": "code",
      "source": [
        "import os\n",
        "checkpoint_path = \"/content/drive/My Drive/training_genomics_lstm/cp.ckpt\"\n",
        "checkpoint_dir = os.path.dirname(checkpoint_path)\n",
        "\n",
        "cp_callback = tf.keras.callbacks.ModelCheckpoint(filepath=checkpoint_path,\n",
        "                                                 save_weights_only=True,\n",
        "                                                 verbose=1)"
      ],
      "metadata": {
        "id": "Q_3iNOwSRXwo"
      },
      "execution_count": null,
      "outputs": []
    },
    {
      "cell_type": "code",
      "source": [
        "from tensorflow.keras.layers import Input\n",
        "model=Sequential()\n",
        "model.add(Input(shape=(minlen,4,1)))\n",
        "model.add(TimeDistributed(Conv1D(filters=16, kernel_size=3, activation='relu')))\n",
        "model.add(TimeDistributed(Flatten()))\n",
        "model.add(LSTM(units=256))\n",
        "model.add(Dense(units=lm, activation='softmax'))\n",
        "# model.summary()\n",
        "model.compile(optimizer='adam', loss='categorical_crossentropy', metrics=['accuracy'])\n",
        "model.load_weights(\"/content/drive/My Drive/training_genomics_lstm/cp.ckpt\")\n"
      ],
      "metadata": {
        "id": "_w_saBV6Rmi1"
      },
      "execution_count": null,
      "outputs": []
    },
    {
      "cell_type": "code",
      "source": [
        "\n",
        "for i in range(len(x_data)):\n",
        "  pred=model.predict(x_data[i])"
      ],
      "metadata": {
        "id": "ywskPW23RvOg"
      },
      "execution_count": null,
      "outputs": []
    }
  ]
}